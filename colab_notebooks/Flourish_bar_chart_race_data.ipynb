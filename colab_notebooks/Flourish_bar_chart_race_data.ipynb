{
  "nbformat": 4,
  "nbformat_minor": 0,
  "metadata": {
    "colab": {
      "name": "Flourish bar chart race data",
      "provenance": [],
      "collapsed_sections": [],
      "authorship_tag": "ABX9TyOIHkohw9dBP5qcZDgCWTXH",
      "include_colab_link": true
    },
    "kernelspec": {
      "name": "python3",
      "display_name": "Python 3"
    }
  },
  "cells": [
    {
      "cell_type": "markdown",
      "metadata": {
        "id": "view-in-github",
        "colab_type": "text"
      },
      "source": [
        "<a href=\"https://colab.research.google.com/github/x1001000/raspberrypi3-yamnet-sed/blob/main/colab_notebooks/Flourish_bar_chart_race_data.ipynb\" target=\"_parent\"><img src=\"https://colab.research.google.com/assets/colab-badge.svg\" alt=\"Open In Colab\"/></a>"
      ]
    },
    {
      "cell_type": "code",
      "metadata": {
        "id": "Fndk4OREAdQI"
      },
      "source": [
        "# from datetime import datetime\n",
        "# import pytz\n",
        "# datetime.fromtimestamp(time.time()).astimezone(pytz.timezone('Asia/Taipei'))"
      ],
      "execution_count": 1,
      "outputs": []
    },
    {
      "cell_type": "code",
      "metadata": {
        "id": "tMfqjHV5FZZo"
      },
      "source": [
        "!git clone https://github.com/x1001000/raspberrypi3-yamnet-sed\n",
        "!cp raspberrypi3-yamnet-sed/yamnet/* ."
      ],
      "execution_count": null,
      "outputs": []
    },
    {
      "cell_type": "code",
      "metadata": {
        "id": "Koc-4ITZx_I0"
      },
      "source": [
        "import time\n",
        "import numpy as np\n",
        "import pandas as pd\n",
        "df = pd.DataFrame(columns=['Timestamp', 'Scores'])\n",
        "with open('20210317-1213.npy', 'rb') as f:\n",
        "    load = np.load(f)\n",
        "    df.loc[len(df)] = [time.ctime(load[0]), load[1:]]\n",
        "    while True:\n",
        "        try:\n",
        "            load = np.load(f)\n",
        "            df.loc[len(df)] = [time.ctime(load[0]), load[1:]]\n",
        "        except:\n",
        "            break"
      ],
      "execution_count": null,
      "outputs": []
    },
    {
      "cell_type": "code",
      "metadata": {
        "id": "CboOaz9gQj06"
      },
      "source": [
        "data = pd.DataFrame()\n",
        "data['聲音標籤'] = pd.read_csv('yamnet_class_map_zh-tw.csv')['display_name']\n",
        "for _, sample in df.iterrows():\n",
        "    data[pd.to_datetime(sample['Timestamp'])+pd.Timedelta('8:0:0')] = sample['Scores']\n",
        "data.to_csv('data.csv', header=True, index=False)"
      ],
      "execution_count": 3,
      "outputs": []
    }
  ]
}