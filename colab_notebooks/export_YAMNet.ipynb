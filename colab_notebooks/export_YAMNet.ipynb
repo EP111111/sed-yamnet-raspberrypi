{
  "nbformat": 4,
  "nbformat_minor": 0,
  "metadata": {
    "colab": {
      "name": "export YAMNet",
      "provenance": [],
      "collapsed_sections": [
        "7-LTF2CRXAKB",
        "2rYMkJWPLn4v",
        "0ugq6ZxBXxxX",
        "IhypBTHIXJ-l",
        "Uvj-8tXAfY-P",
        "_LWgDBwXYD7W",
        "AlRCS3zSf3wV",
        "mMEO5scnhhqb"
      ],
      "toc_visible": true,
      "authorship_tag": "ABX9TyNF/bwb7HODntx63gy5cgDn",
      "include_colab_link": true
    },
    "kernelspec": {
      "display_name": "Python 3",
      "name": "python3"
    }
  },
  "cells": [
    {
      "cell_type": "markdown",
      "metadata": {
        "id": "view-in-github",
        "colab_type": "text"
      },
      "source": [
        "<a href=\"https://colab.research.google.com/github/x1001000/sed-yamnet-raspberrypi/blob/main/colab_notebooks/export_YAMNet.ipynb\" target=\"_parent\"><img src=\"https://colab.research.google.com/assets/colab-badge.svg\" alt=\"Open In Colab\"/></a>"
      ]
    },
    {
      "cell_type": "markdown",
      "metadata": {
        "id": "7-LTF2CRXAKB"
      },
      "source": [
        "# At runtime reset"
      ]
    },
    {
      "cell_type": "markdown",
      "metadata": {
        "id": "2rYMkJWPLn4v"
      },
      "source": [
        "## install"
      ]
    },
    {
      "cell_type": "code",
      "metadata": {
        "colab": {
          "base_uri": "https://localhost:8080/"
        },
        "id": "xiv9VrNWNB7S",
        "outputId": "92dc890d-8fb4-4f03-cdc8-b06c14baeedc"
      },
      "source": [
        "!pip install soundfile\n",
        "!pip install git+https://github.com/nficano/pytube\n",
        "!pip install pydub"
      ],
      "execution_count": null,
      "outputs": [
        {
          "output_type": "stream",
          "text": [
            "Requirement already satisfied: soundfile in /usr/local/lib/python3.7/dist-packages (0.10.3.post1)\n",
            "Requirement already satisfied: cffi>=1.0 in /usr/local/lib/python3.7/dist-packages (from soundfile) (1.14.5)\n",
            "Requirement already satisfied: pycparser in /usr/local/lib/python3.7/dist-packages (from cffi>=1.0->soundfile) (2.20)\n",
            "Collecting git+https://github.com/nficano/pytube\n",
            "  Cloning https://github.com/nficano/pytube to /tmp/pip-req-build-3x65mxhd\n",
            "  Running command git clone -q https://github.com/nficano/pytube /tmp/pip-req-build-3x65mxhd\n",
            "Building wheels for collected packages: pytube\n",
            "  Building wheel for pytube (setup.py) ... \u001b[?25l\u001b[?25hdone\n",
            "  Created wheel for pytube: filename=pytube-10.7.1-cp37-none-any.whl size=43128 sha256=0371fcc3943b8683ec0ad909202f5e3383718c203c31d49772d5b4161ba9fe81\n",
            "  Stored in directory: /tmp/pip-ephem-wheel-cache-yplwxarq/wheels/44/da/40/3b5e03abe33a91895343814fb44b309512375408f4a909555b\n",
            "Successfully built pytube\n",
            "Installing collected packages: pytube\n",
            "Successfully installed pytube-10.7.1\n",
            "Collecting pydub\n",
            "  Downloading https://files.pythonhosted.org/packages/a6/53/d78dc063216e62fc55f6b2eebb447f6a4b0a59f55c8406376f76bf959b08/pydub-0.25.1-py2.py3-none-any.whl\n",
            "Installing collected packages: pydub\n",
            "Successfully installed pydub-0.25.1\n"
          ],
          "name": "stdout"
        }
      ]
    },
    {
      "cell_type": "markdown",
      "metadata": {
        "id": "0ugq6ZxBXxxX"
      },
      "source": [
        "## download YAMNet (15M bytes)"
      ]
    },
    {
      "cell_type": "code",
      "metadata": {
        "colab": {
          "base_uri": "https://localhost:8080/"
        },
        "id": "3LQPb6xDMXXN",
        "outputId": "986bbeb8-aba1-489e-f985-e98097fa21bb"
      },
      "source": [
        "# !curl -O https://storage.googleapis.com/audioset/yamnet.h5\n",
        "# !git clone https://github.com/tensorflow/models\n",
        "# !cp models/research/audioset/yamnet/* .\n",
        "!git clone https://github.com/x1001000/raspberrypi3-yamnet-sed\n",
        "!cp raspberrypi3-yamnet-sed/yamnet/* ."
      ],
      "execution_count": null,
      "outputs": [
        {
          "output_type": "stream",
          "text": [
            "Cloning into 'raspberrypi3-yamnet-sed'...\n",
            "remote: Enumerating objects: 90, done.\u001b[K\n",
            "remote: Counting objects: 100% (90/90), done.\u001b[K\n",
            "remote: Compressing objects: 100% (81/81), done.\u001b[K\n",
            "remote: Total 352 (delta 48), reused 20 (delta 9), pack-reused 262\u001b[K\n",
            "Receiving objects: 100% (352/352), 52.03 MiB | 31.42 MiB/s, done.\n",
            "Resolving deltas: 100% (200/200), done.\n"
          ],
          "name": "stdout"
        }
      ]
    },
    {
      "cell_type": "markdown",
      "metadata": {
        "id": "IhypBTHIXJ-l"
      },
      "source": [
        "# At runtime restart"
      ]
    },
    {
      "cell_type": "markdown",
      "metadata": {
        "id": "Uvj-8tXAfY-P"
      },
      "source": [
        "## import"
      ]
    },
    {
      "cell_type": "code",
      "metadata": {
        "id": "2JF8vxpYYO3y"
      },
      "source": [
        "import numpy as np\n",
        "import resampy\n",
        "import soundfile as sf\n",
        "import tensorflow as tf\n",
        "\n",
        "import params as yamnet_params\n",
        "import yamnet as yamnet_model\n",
        "\n",
        "from tensorflow import keras\n",
        "from tensorflow.keras import layers\n",
        "from tensorflow.keras import models\n",
        "\n",
        "from pytube import Playlist, YouTube\n",
        "from pydub import AudioSegment\n",
        "\n",
        "from IPython.display import display, Audio\n",
        "from time import sleep"
      ],
      "execution_count": null,
      "outputs": []
    },
    {
      "cell_type": "markdown",
      "metadata": {
        "id": "_LWgDBwXYD7W"
      },
      "source": [
        "## load YAMNet (3.7M params)"
      ]
    },
    {
      "cell_type": "code",
      "metadata": {
        "id": "a8jdW7vqblgV"
      },
      "source": [
        "params = yamnet_params.Params()\n",
        "yamnet = yamnet_model.yamnet_frames_model(params)\n",
        "yamnet.load_weights('yamnet.h5')\n",
        "yamnet_classes = yamnet_model.class_names('yamnet_class_map.csv')\n",
        "# yamnet_classes = yamnet_model.class_names('yamnet_class_map_zh-tw.csv')\n",
        "# yamnet_classes = np.concatenate([yamnet_classes, np.array(['台灣垃圾車'])])\n",
        "\n",
        "#yamnet.summary()"
      ],
      "execution_count": null,
      "outputs": []
    },
    {
      "cell_type": "markdown",
      "metadata": {
        "id": "GSGvIUxtDEkf"
      },
      "source": [
        "# export YAMNet"
      ]
    },
    {
      "cell_type": "code",
      "metadata": {
        "id": "JZ5GYDdB6-g_",
        "colab": {
          "base_uri": "https://localhost:8080/"
        },
        "outputId": "5670918b-77b4-49ee-a4f9-b298128ee31a"
      },
      "source": [
        "!pip install tensorflowjs"
      ],
      "execution_count": null,
      "outputs": [
        {
          "output_type": "stream",
          "text": [
            "Collecting tensorflowjs\n",
            "\u001b[?25l  Downloading https://files.pythonhosted.org/packages/d4/1f/632d04bec71d4736a4e0e512cf41236b3416ac00d0a532f6511a829d18c9/tensorflowjs-3.3.0-py3-none-any.whl (63kB)\n",
            "\r\u001b[K     |█████▏                          | 10kB 11.2MB/s eta 0:00:01\r\u001b[K     |██████████▍                     | 20kB 15.3MB/s eta 0:00:01\r\u001b[K     |███████████████▌                | 30kB 19.1MB/s eta 0:00:01\r\u001b[K     |████████████████████▊           | 40kB 21.2MB/s eta 0:00:01\r\u001b[K     |█████████████████████████▉      | 51kB 21.8MB/s eta 0:00:01\r\u001b[K     |███████████████████████████████ | 61kB 21.1MB/s eta 0:00:01\r\u001b[K     |████████████████████████████████| 71kB 6.6MB/s \n",
            "\u001b[?25hRequirement already satisfied: h5py<3,>=2.8.0 in /usr/local/lib/python3.7/dist-packages (from tensorflowjs) (2.10.0)\n",
            "Collecting tensorflow-hub<0.10,>=0.7.0\n",
            "\u001b[?25l  Downloading https://files.pythonhosted.org/packages/ac/83/a7df82744a794107641dad1decaad017d82e25f0e1f761ac9204829eef96/tensorflow_hub-0.9.0-py2.py3-none-any.whl (103kB)\n",
            "\r\u001b[K     |███▏                            | 10kB 14.5MB/s eta 0:00:01\r\u001b[K     |██████▍                         | 20kB 12.1MB/s eta 0:00:01\r\u001b[K     |█████████▌                      | 30kB 14.9MB/s eta 0:00:01\r\u001b[K     |████████████▊                   | 40kB 17.5MB/s eta 0:00:01\r\u001b[K     |███████████████▉                | 51kB 19.6MB/s eta 0:00:01\r\u001b[K     |███████████████████             | 61kB 21.9MB/s eta 0:00:01\r\u001b[K     |██████████████████████▏         | 71kB 20.3MB/s eta 0:00:01\r\u001b[K     |█████████████████████████▍      | 81kB 20.0MB/s eta 0:00:01\r\u001b[K     |████████████████████████████▋   | 92kB 21.4MB/s eta 0:00:01\r\u001b[K     |███████████████████████████████▊| 102kB 21.0MB/s eta 0:00:01\r\u001b[K     |████████████████████████████████| 112kB 21.0MB/s \n",
            "\u001b[?25hRequirement already satisfied: six<2,>=1.12.0 in /usr/local/lib/python3.7/dist-packages (from tensorflowjs) (1.15.0)\n",
            "Requirement already satisfied: tensorflow<3,>=2.1.0 in /usr/local/lib/python3.7/dist-packages (from tensorflowjs) (2.4.1)\n",
            "Requirement already satisfied: numpy>=1.7 in /usr/local/lib/python3.7/dist-packages (from h5py<3,>=2.8.0->tensorflowjs) (1.19.5)\n",
            "Requirement already satisfied: protobuf>=3.8.0 in /usr/local/lib/python3.7/dist-packages (from tensorflow-hub<0.10,>=0.7.0->tensorflowjs) (3.12.4)\n",
            "Requirement already satisfied: wheel~=0.35 in /usr/local/lib/python3.7/dist-packages (from tensorflow<3,>=2.1.0->tensorflowjs) (0.36.2)\n",
            "Requirement already satisfied: absl-py~=0.10 in /usr/local/lib/python3.7/dist-packages (from tensorflow<3,>=2.1.0->tensorflowjs) (0.12.0)\n",
            "Requirement already satisfied: opt-einsum~=3.3.0 in /usr/local/lib/python3.7/dist-packages (from tensorflow<3,>=2.1.0->tensorflowjs) (3.3.0)\n",
            "Requirement already satisfied: google-pasta~=0.2 in /usr/local/lib/python3.7/dist-packages (from tensorflow<3,>=2.1.0->tensorflowjs) (0.2.0)\n",
            "Requirement already satisfied: tensorflow-estimator<2.5.0,>=2.4.0 in /usr/local/lib/python3.7/dist-packages (from tensorflow<3,>=2.1.0->tensorflowjs) (2.4.0)\n",
            "Requirement already satisfied: astunparse~=1.6.3 in /usr/local/lib/python3.7/dist-packages (from tensorflow<3,>=2.1.0->tensorflowjs) (1.6.3)\n",
            "Requirement already satisfied: keras-preprocessing~=1.1.2 in /usr/local/lib/python3.7/dist-packages (from tensorflow<3,>=2.1.0->tensorflowjs) (1.1.2)\n",
            "Requirement already satisfied: termcolor~=1.1.0 in /usr/local/lib/python3.7/dist-packages (from tensorflow<3,>=2.1.0->tensorflowjs) (1.1.0)\n",
            "Requirement already satisfied: tensorboard~=2.4 in /usr/local/lib/python3.7/dist-packages (from tensorflow<3,>=2.1.0->tensorflowjs) (2.4.1)\n",
            "Requirement already satisfied: grpcio~=1.32.0 in /usr/local/lib/python3.7/dist-packages (from tensorflow<3,>=2.1.0->tensorflowjs) (1.32.0)\n",
            "Requirement already satisfied: gast==0.3.3 in /usr/local/lib/python3.7/dist-packages (from tensorflow<3,>=2.1.0->tensorflowjs) (0.3.3)\n",
            "Requirement already satisfied: typing-extensions~=3.7.4 in /usr/local/lib/python3.7/dist-packages (from tensorflow<3,>=2.1.0->tensorflowjs) (3.7.4.3)\n",
            "Requirement already satisfied: wrapt~=1.12.1 in /usr/local/lib/python3.7/dist-packages (from tensorflow<3,>=2.1.0->tensorflowjs) (1.12.1)\n",
            "Requirement already satisfied: flatbuffers~=1.12.0 in /usr/local/lib/python3.7/dist-packages (from tensorflow<3,>=2.1.0->tensorflowjs) (1.12)\n",
            "Requirement already satisfied: setuptools in /usr/local/lib/python3.7/dist-packages (from protobuf>=3.8.0->tensorflow-hub<0.10,>=0.7.0->tensorflowjs) (54.2.0)\n",
            "Requirement already satisfied: google-auth-oauthlib<0.5,>=0.4.1 in /usr/local/lib/python3.7/dist-packages (from tensorboard~=2.4->tensorflow<3,>=2.1.0->tensorflowjs) (0.4.3)\n",
            "Requirement already satisfied: google-auth<2,>=1.6.3 in /usr/local/lib/python3.7/dist-packages (from tensorboard~=2.4->tensorflow<3,>=2.1.0->tensorflowjs) (1.28.0)\n",
            "Requirement already satisfied: requests<3,>=2.21.0 in /usr/local/lib/python3.7/dist-packages (from tensorboard~=2.4->tensorflow<3,>=2.1.0->tensorflowjs) (2.23.0)\n",
            "Requirement already satisfied: tensorboard-plugin-wit>=1.6.0 in /usr/local/lib/python3.7/dist-packages (from tensorboard~=2.4->tensorflow<3,>=2.1.0->tensorflowjs) (1.8.0)\n",
            "Requirement already satisfied: werkzeug>=0.11.15 in /usr/local/lib/python3.7/dist-packages (from tensorboard~=2.4->tensorflow<3,>=2.1.0->tensorflowjs) (1.0.1)\n",
            "Requirement already satisfied: markdown>=2.6.8 in /usr/local/lib/python3.7/dist-packages (from tensorboard~=2.4->tensorflow<3,>=2.1.0->tensorflowjs) (3.3.4)\n",
            "Requirement already satisfied: requests-oauthlib>=0.7.0 in /usr/local/lib/python3.7/dist-packages (from google-auth-oauthlib<0.5,>=0.4.1->tensorboard~=2.4->tensorflow<3,>=2.1.0->tensorflowjs) (1.3.0)\n",
            "Requirement already satisfied: rsa<5,>=3.1.4; python_version >= \"3.6\" in /usr/local/lib/python3.7/dist-packages (from google-auth<2,>=1.6.3->tensorboard~=2.4->tensorflow<3,>=2.1.0->tensorflowjs) (4.7.2)\n",
            "Requirement already satisfied: pyasn1-modules>=0.2.1 in /usr/local/lib/python3.7/dist-packages (from google-auth<2,>=1.6.3->tensorboard~=2.4->tensorflow<3,>=2.1.0->tensorflowjs) (0.2.8)\n",
            "Requirement already satisfied: cachetools<5.0,>=2.0.0 in /usr/local/lib/python3.7/dist-packages (from google-auth<2,>=1.6.3->tensorboard~=2.4->tensorflow<3,>=2.1.0->tensorflowjs) (4.2.1)\n",
            "Requirement already satisfied: chardet<4,>=3.0.2 in /usr/local/lib/python3.7/dist-packages (from requests<3,>=2.21.0->tensorboard~=2.4->tensorflow<3,>=2.1.0->tensorflowjs) (3.0.4)\n",
            "Requirement already satisfied: certifi>=2017.4.17 in /usr/local/lib/python3.7/dist-packages (from requests<3,>=2.21.0->tensorboard~=2.4->tensorflow<3,>=2.1.0->tensorflowjs) (2020.12.5)\n",
            "Requirement already satisfied: idna<3,>=2.5 in /usr/local/lib/python3.7/dist-packages (from requests<3,>=2.21.0->tensorboard~=2.4->tensorflow<3,>=2.1.0->tensorflowjs) (2.10)\n",
            "Requirement already satisfied: urllib3!=1.25.0,!=1.25.1,<1.26,>=1.21.1 in /usr/local/lib/python3.7/dist-packages (from requests<3,>=2.21.0->tensorboard~=2.4->tensorflow<3,>=2.1.0->tensorflowjs) (1.24.3)\n",
            "Requirement already satisfied: importlib-metadata; python_version < \"3.8\" in /usr/local/lib/python3.7/dist-packages (from markdown>=2.6.8->tensorboard~=2.4->tensorflow<3,>=2.1.0->tensorflowjs) (3.8.1)\n",
            "Requirement already satisfied: oauthlib>=3.0.0 in /usr/local/lib/python3.7/dist-packages (from requests-oauthlib>=0.7.0->google-auth-oauthlib<0.5,>=0.4.1->tensorboard~=2.4->tensorflow<3,>=2.1.0->tensorflowjs) (3.1.0)\n",
            "Requirement already satisfied: pyasn1>=0.1.3 in /usr/local/lib/python3.7/dist-packages (from rsa<5,>=3.1.4; python_version >= \"3.6\"->google-auth<2,>=1.6.3->tensorboard~=2.4->tensorflow<3,>=2.1.0->tensorflowjs) (0.4.8)\n",
            "Requirement already satisfied: zipp>=0.5 in /usr/local/lib/python3.7/dist-packages (from importlib-metadata; python_version < \"3.8\"->markdown>=2.6.8->tensorboard~=2.4->tensorflow<3,>=2.1.0->tensorflowjs) (3.4.1)\n",
            "Installing collected packages: tensorflow-hub, tensorflowjs\n",
            "  Found existing installation: tensorflow-hub 0.11.0\n",
            "    Uninstalling tensorflow-hub-0.11.0:\n",
            "      Successfully uninstalled tensorflow-hub-0.11.0\n",
            "Successfully installed tensorflow-hub-0.9.0 tensorflowjs-3.3.0\n"
          ],
          "name": "stdout"
        }
      ]
    },
    {
      "cell_type": "code",
      "metadata": {
        "id": "3985zs1g8ZeX",
        "colab": {
          "base_uri": "https://localhost:8080/"
        },
        "outputId": "b5e07ad1-6072-47cb-f166-951599ecfc51"
      },
      "source": [
        "!python export.py yamnet.h5 ."
      ],
      "execution_count": null,
      "outputs": [
        {
          "output_type": "stream",
          "text": [
            "2021-04-12 02:04:55.769487: I tensorflow/stream_executor/platform/default/dso_loader.cc:49] Successfully opened dynamic library libcudart.so.11.0\n",
            "\n",
            "=====\n",
            "Mon Apr 12 02:04:58 2021 | Building and checking TF2 Module ...\n",
            "=====\n",
            "\n",
            "2021-04-12 02:04:58.150007: I tensorflow/compiler/jit/xla_cpu_device.cc:41] Not creating XLA devices, tf_xla_enable_xla_devices not set\n",
            "2021-04-12 02:04:58.151956: I tensorflow/stream_executor/platform/default/dso_loader.cc:49] Successfully opened dynamic library libcuda.so.1\n",
            "2021-04-12 02:04:58.163033: E tensorflow/stream_executor/cuda/cuda_driver.cc:328] failed call to cuInit: CUDA_ERROR_NO_DEVICE: no CUDA-capable device is detected\n",
            "2021-04-12 02:04:58.163090: I tensorflow/stream_executor/cuda/cuda_diagnostics.cc:156] kernel driver does not appear to be running on this host (31b6a5406fea): /proc/driver/nvidia/version does not exist\n",
            "2021-04-12 02:04:58.163668: I tensorflow/compiler/jit/xla_gpu_device.cc:99] Not creating XLA devices, tf_xla_enable_xla_devices not set\n",
            "2021-04-12 02:04:59.238005: I tensorflow/compiler/mlir/mlir_graph_optimization_pass.cc:116] None of the MLIR optimization passes are enabled (registered 2)\n",
            "2021-04-12 02:04:59.250847: I tensorflow/core/platform/profile_utils/cpu_utils.cc:112] CPU Frequency: 2200140000 Hz\n",
            "\n",
            "=====\n",
            "Mon Apr 12 02:05:00 2021 | Done\n",
            "=====\n",
            "\n",
            "\n",
            "=====\n",
            "Mon Apr 12 02:05:00 2021 | Making TF2 SavedModel export ...\n",
            "=====\n",
            "\n",
            "2021-04-12 02:05:00.122697: W tensorflow/python/util/util.cc:348] Sets are not currently considered sequences, but this may change in the future, so consider avoiding using them.\n",
            "\n",
            "=====\n",
            "Mon Apr 12 02:05:14 2021 | Done\n",
            "=====\n",
            "\n",
            "\n",
            "=====\n",
            "Mon Apr 12 02:05:14 2021 | Checking TF2 SavedModel export in TF2 ...\n",
            "=====\n",
            "\n",
            "\n",
            "=====\n",
            "Mon Apr 12 02:05:18 2021 | Done\n",
            "=====\n",
            "\n",
            "\n",
            "=====\n",
            "Mon Apr 12 02:05:18 2021 | Checking TF2 SavedModel export in TF1 ...\n",
            "=====\n",
            "\n",
            "2021-04-12 02:05:18.676802: I tensorflow/compiler/jit/xla_gpu_device.cc:99] Not creating XLA devices, tf_xla_enable_xla_devices not set\n",
            "2021-04-12 02:05:23.087770: I tensorflow/compiler/mlir/mlir_graph_optimization_pass.cc:196] None of the MLIR optimization passes are enabled (registered 0 passes)\n",
            "\n",
            "=====\n",
            "Mon Apr 12 02:05:25 2021 | Done\n",
            "=====\n",
            "\n",
            "\n",
            "=====\n",
            "Mon Apr 12 02:05:25 2021 | Building and checking TF-Lite Module ...\n",
            "=====\n",
            "\n",
            "\n",
            "=====\n",
            "Mon Apr 12 02:05:27 2021 | Done\n",
            "=====\n",
            "\n",
            "\n",
            "=====\n",
            "Mon Apr 12 02:05:27 2021 | Making TF-Lite SavedModel export ...\n",
            "=====\n",
            "\n",
            "\n",
            "=====\n",
            "Mon Apr 12 02:05:44 2021 | Done\n",
            "=====\n",
            "\n",
            "\n",
            "=====\n",
            "Mon Apr 12 02:05:44 2021 | Checking TF-Lite SavedModel export in TF2 ...\n",
            "=====\n",
            "\n",
            "\n",
            "=====\n",
            "Mon Apr 12 02:05:49 2021 | Done\n",
            "=====\n",
            "\n",
            "\n",
            "=====\n",
            "Mon Apr 12 02:05:49 2021 | Making TF-Lite model ...\n",
            "=====\n",
            "\n",
            "2021-04-12 02:05:54.188598: W tensorflow/compiler/mlir/lite/python/tf_tfl_flatbuffer_helpers.cc:316] Ignored output_format.\n",
            "2021-04-12 02:05:54.188672: W tensorflow/compiler/mlir/lite/python/tf_tfl_flatbuffer_helpers.cc:319] Ignored drop_control_dependency.\n",
            "2021-04-12 02:05:54.188685: W tensorflow/compiler/mlir/lite/python/tf_tfl_flatbuffer_helpers.cc:325] Ignored change_concat_input_ranges.\n",
            "2021-04-12 02:05:54.189831: I tensorflow/cc/saved_model/reader.cc:32] Reading SavedModel from: ./tflite/saved_model\n",
            "2021-04-12 02:05:54.216016: I tensorflow/cc/saved_model/reader.cc:55] Reading meta graph with tags { serve }\n",
            "2021-04-12 02:05:54.216100: I tensorflow/cc/saved_model/reader.cc:93] Reading SavedModel debug info (if present) from: ./tflite/saved_model\n",
            "2021-04-12 02:05:54.216180: I tensorflow/compiler/jit/xla_gpu_device.cc:99] Not creating XLA devices, tf_xla_enable_xla_devices not set\n",
            "2021-04-12 02:05:54.304807: I tensorflow/cc/saved_model/loader.cc:206] Restoring SavedModel bundle.\n",
            "2021-04-12 02:05:54.478483: I tensorflow/cc/saved_model/loader.cc:190] Running initialization op on SavedModel bundle at path: ./tflite/saved_model\n",
            "2021-04-12 02:05:54.558045: I tensorflow/cc/saved_model/loader.cc:277] SavedModel load for tags { serve }; Status: success: OK. Took 368212 microseconds.\n",
            "2021-04-12 02:05:54.996361: I tensorflow/compiler/mlir/tensorflow/utils/dump_mlir_util.cc:194] disabling MLIR crash reproducer, set env var `MLIR_CRASH_REPRODUCER_DIRECTORY` to enable.\n",
            "2021-04-12 02:05:55.266353: I tensorflow/compiler/jit/xla_gpu_device.cc:99] Not creating XLA devices, tf_xla_enable_xla_devices not set\n",
            "\n",
            "=====\n",
            "Mon Apr 12 02:05:55 2021 | Done\n",
            "=====\n",
            "\n",
            "\n",
            "=====\n",
            "Mon Apr 12 02:05:55 2021 | Checking TF-Lite model ...\n",
            "=====\n",
            "\n",
            "Traceback (most recent call last):\n",
            "  File \"export.py\", line 213, in <module>\n",
            "    main(sys.argv[1:])\n",
            "  File \"export.py\", line 207, in main\n",
            "    tflite_saved_model_dir = make_tflite_export(weights_path, tflite_export_dir)\n",
            "  File \"export.py\", line 179, in make_tflite_export\n",
            "    check_model(run_model, 'yamnet_class_map.csv', params)\n",
            "  File \"export.py\", line 80, in check_model\n",
            "    expected_class_name='Silence')\n",
            "  File \"export.py\", line 76, in clip_test\n",
            "    expected_class_name, top_n, top_n_predictions))\n",
            "AssertionError: Did not find expected class Silence in top 10 predictions: [('Wail, moan', -6.907737), ('Sigh', -6.907737), ('Singing', -6.907737), ('Choir', -6.907737), ('Yodeling', -6.907737), ('Chant', -6.907737), ('Mantra', -6.907737), ('Child singing', -6.907737), ('Applause', -6.907737), ('Chatter', -6.907737)]\n"
          ],
          "name": "stdout"
        }
      ]
    }
  ]
}