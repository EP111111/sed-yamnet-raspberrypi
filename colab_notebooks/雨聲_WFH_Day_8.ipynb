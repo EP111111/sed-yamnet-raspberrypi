{
  "nbformat": 4,
  "nbformat_minor": 0,
  "metadata": {
    "colab": {
      "name": "雨聲 WFH Day 8",
      "provenance": [],
      "collapsed_sections": [],
      "authorship_tag": "ABX9TyOozj84xW3rsZ4olfVp0wQq",
      "include_colab_link": true
    },
    "kernelspec": {
      "display_name": "Python 3",
      "name": "python3"
    }
  },
  "cells": [
    {
      "cell_type": "markdown",
      "metadata": {
        "id": "view-in-github",
        "colab_type": "text"
      },
      "source": [
        "<a href=\"https://colab.research.google.com/github/x1001000/sed-yamnet-raspberrypi/blob/main/colab_notebooks/%E9%9B%A8%E8%81%B2_WFH_Day_8.ipynb\" target=\"_parent\"><img src=\"https://colab.research.google.com/assets/colab-badge.svg\" alt=\"Open In Colab\"/></a>"
      ]
    },
    {
      "cell_type": "markdown",
      "metadata": {
        "id": "jy9kMYs_H0-F"
      },
      "source": [
        "# 瀏覽貼文"
      ]
    },
    {
      "cell_type": "code",
      "metadata": {
        "colab": {
          "base_uri": "https://localhost:8080/",
          "height": 450
        },
        "id": "zgDjbY8Y8jbf",
        "outputId": "4aae7fc3-064b-4418-ed93-ccde51baea13"
      },
      "source": [
        "from IPython.display import HTML\n",
        "HTML('<iframe src=\"https://www.facebook.com/plugins/video.php?height=314&href=https%3A%2F%2Fwww.facebook.com%2Ftsaiingwen%2Fvideos%2F1052822178577809%2F&show_text=true&width=560\" width=\"560\" height=\"429\" style=\"border:none;overflow:hidden\" scrolling=\"no\" frameborder=\"0\" allowfullscreen=\"true\" allow=\"autoplay; clipboard-write; encrypted-media; picture-in-picture; web-share\" allowFullScreen=\"true\"></iframe>')"
      ],
      "execution_count": 1,
      "outputs": [
        {
          "output_type": "execute_result",
          "data": {
            "text/html": [
              "<iframe src=\"https://www.facebook.com/plugins/video.php?height=314&href=https%3A%2F%2Fwww.facebook.com%2Ftsaiingwen%2Fvideos%2F1052822178577809%2F&show_text=true&width=560\" width=\"560\" height=\"429\" style=\"border:none;overflow:hidden\" scrolling=\"no\" frameborder=\"0\" allowfullscreen=\"true\" allow=\"autoplay; clipboard-write; encrypted-media; picture-in-picture; web-share\" allowFullScreen=\"true\"></iframe>"
            ],
            "text/plain": [
              "<IPython.core.display.HTML object>"
            ]
          },
          "metadata": {
            "tags": []
          },
          "execution_count": 1
        }
      ]
    },
    {
      "cell_type": "markdown",
      "metadata": {
        "id": "2rYMkJWPLn4v"
      },
      "source": [
        "# 安裝套件、下載影片"
      ]
    },
    {
      "cell_type": "code",
      "metadata": {
        "colab": {
          "base_uri": "https://localhost:8080/"
        },
        "id": "xiv9VrNWNB7S",
        "outputId": "efa978d5-96a9-4161-e714-62086915f839"
      },
      "source": [
        "!pip install -q soundfile\n",
        "!pip install -q pydub\n",
        "!pip install -q fb-down\n",
        "!fbdown https://www.facebook.com/tsaiingwen/videos/1052822178577809 --output 20210524.mp4\n",
        "!git clone -q https://github.com/x1001000/raspberrypi3-yamnet-sed\n",
        "!cp raspberrypi3-yamnet-sed/yamnet/* ."
      ],
      "execution_count": 2,
      "outputs": [
        {
          "output_type": "stream",
          "text": [
            "  Building wheel for fb-down (setup.py) ... \u001b[?25l\u001b[?25hdone\n",
            "\u001b[H\u001b[2J\n",
            "                                                              \n",
            ",------.,-----.      ,------.   ,-----. ,--.   ,--.,--.  ,--. \n",
            "|  .---'|  |) /_     |  .-.  \\ '  .-.  '|  |   |  ||  ,'.|  | \n",
            "|  `--, |  .-.  \\    |  |  \\  :|  | |  ||  |.'.|  ||  |' '  | \n",
            "|  |`   |  '--' /    |  '--'  /'  '-'  '|   ,'.   ||  | `   | \n",
            "`--'    `------'     `-------'  `-----' '--'   '--'`--'  `--' \n",
            "                   By : GURKIRAT SINGH\n",
            "            https://tbhaxor.github.com/fbdown    \n",
            "    \n",
            "URL : https://www.facebook.com/tsaiingwen/videos/1052822178577809\n",
            "Save As : 20210524.mp4\n",
            "Video Size :  785.04 KB\n",
            "\n",
            "786KB [00:00, 13191.22KB/s]           \n",
            "Download Complete !!!\n"
          ],
          "name": "stdout"
        }
      ]
    },
    {
      "cell_type": "markdown",
      "metadata": {
        "id": "IhypBTHIXJ-l"
      },
      "source": [
        "# 匯入套件、聲音辨識模型"
      ]
    },
    {
      "cell_type": "code",
      "metadata": {
        "id": "2JF8vxpYYO3y"
      },
      "source": [
        "import numpy as np\n",
        "import resampy\n",
        "import soundfile as sf\n",
        "import tensorflow as tf\n",
        "\n",
        "import params as yamnet_params\n",
        "import yamnet as yamnet_model\n",
        "\n",
        "from tensorflow import keras\n",
        "from tensorflow.keras import layers\n",
        "from tensorflow.keras import models\n",
        "\n",
        "from pydub import AudioSegment\n",
        "\n",
        "from IPython.display import display, Audio\n",
        "from time import sleep\n",
        "\n",
        "params = yamnet_params.Params()\n",
        "yamnet = yamnet_model.yamnet_frames_model(params)\n",
        "yamnet.load_weights('yamnet.h5')\n",
        "yamnet_classes = yamnet_model.class_names('yamnet_class_map_zh-tw.csv')"
      ],
      "execution_count": 3,
      "outputs": []
    },
    {
      "cell_type": "markdown",
      "metadata": {
        "id": "Keir_XdfKm6V"
      },
      "source": [
        "# 擷取聲音"
      ]
    },
    {
      "cell_type": "code",
      "metadata": {
        "id": "VqkttEe-IlpY"
      },
      "source": [
        "AudioSegment.from_file('20210524.mp4').export('20210524.wav', format='wav')\n",
        "# https://github.com/tensorflow/models/blob/master/research/audioset/yamnet/inference.py#L40\n",
        "wav_data, sr = sf.read('20210524.wav', dtype=np.int16)\n",
        "assert wav_data.dtype == np.int16, 'Bad sample type: %r' % wav_data.dtype\n",
        "waveform = wav_data / tf.int16.max#32768.0  # Convert to [-1.0, +1.0]\n",
        "waveform = waveform.astype('float32')\n",
        "\n",
        "# Convert to mono and the sample rate expected by YAMNet.\n",
        "if len(waveform.shape) > 1:\n",
        "    waveform = np.mean(waveform, axis=1)\n",
        "if sr != params.sample_rate:\n",
        "    waveform = resampy.resample(waveform, sr, params.sample_rate)"
      ],
      "execution_count": 4,
      "outputs": []
    },
    {
      "cell_type": "markdown",
      "metadata": {
        "id": "e7KbG_101iQ6"
      },
      "source": [
        "# 執行推論"
      ]
    },
    {
      "cell_type": "code",
      "metadata": {
        "colab": {
          "base_uri": "https://localhost:8080/"
        },
        "id": "hO9OPCPlKAwl",
        "outputId": "d247745c-21f3-4de5-e0df-199c942fdfc5"
      },
      "source": [
        "MA = 2\n",
        "SR = int(params.sample_rate)\n",
        "for i in range(MA, len(waveform)//SR):\n",
        "    scores, embeddings, spectrogram = yamnet(waveform[(i-MA)*SR:i*SR])\n",
        "    prediction = np.mean(scores[:-1], axis=0)\n",
        "    top5 = np.argsort(prediction)[::-1][:5]\n",
        "    print(f'{i%60:2d}s',\n",
        "        ''.join(f\" {prediction[i]:.2f} 👉{yamnet_classes[i][:10].ljust(10, '　')}\" for i in top5))"
      ],
      "execution_count": 5,
      "outputs": [
        {
          "output_type": "stream",
          "text": [
            " 2s  0.16 👉車輛　　　　　　　　 0.10 👉室外，城市或人造　　 0.09 👉火　　　　　　　　　 0.08 👉機動車輛（道路）　　 0.08 👉汽車　　　　　　　　\n",
            " 3s  0.37 👉水　　　　　　　　　 0.23 👉雨　　　　　　　　　 0.15 👉雨滴　　　　　　　　 0.10 👉倒水　　　　　　　　 0.10 👉液體　　　　　　　　\n",
            " 4s  0.59 👉水　　　　　　　　　 0.59 👉雨　　　　　　　　　 0.39 👉雨滴　　　　　　　　 0.36 👉雨表面上　　　　　　 0.17 👉油炸（食品）　　　　\n",
            " 5s  0.51 👉水　　　　　　　　　 0.48 👉雨　　　　　　　　　 0.31 👉雨滴　　　　　　　　 0.25 👉雨表面上　　　　　　 0.11 👉油炸（食品）　　　　\n",
            " 6s  0.29 👉水　　　　　　　　　 0.23 👉雨　　　　　　　　　 0.17 👉雨滴　　　　　　　　 0.13 👉言語　　　　　　　　 0.12 👉雨表面上　　　　　　\n",
            " 7s  0.14 👉水　　　　　　　　　 0.11 👉動物　　　　　　　　 0.11 👉嘶　　　　　　　　　 0.10 👉液體　　　　　　　　 0.09 👉蒸汽　　　　　　　　\n",
            " 8s  0.40 👉水　　　　　　　　　 0.19 👉雨　　　　　　　　　 0.13 👉液體　　　　　　　　 0.12 👉雨滴　　　　　　　　 0.08 👉油炸（食品）　　　　\n",
            " 9s  0.46 👉水　　　　　　　　　 0.29 👉雨　　　　　　　　　 0.27 👉雨滴　　　　　　　　 0.18 👉液體　　　　　　　　 0.15 👉雨表面上　　　　　　\n",
            "10s  0.34 👉雨　　　　　　　　　 0.30 👉水　　　　　　　　　 0.22 👉雨滴　　　　　　　　 0.19 👉雨表面上　　　　　　 0.09 👉室外，農村或天然　　\n",
            "11s  0.44 👉雨　　　　　　　　　 0.37 👉雨滴　　　　　　　　 0.33 👉水　　　　　　　　　 0.23 👉雨表面上　　　　　　 0.09 👉室外，農村或天然　　\n",
            "12s  0.43 👉雨　　　　　　　　　 0.36 👉雨滴　　　　　　　　 0.31 👉雨表面上　　　　　　 0.29 👉水　　　　　　　　　 0.08 👉沙沙　　　　　　　　\n",
            "13s  0.65 👉雨　　　　　　　　　 0.62 👉雨滴　　　　　　　　 0.50 👉水　　　　　　　　　 0.47 👉雨表面上　　　　　　 0.11 👉液體　　　　　　　　\n",
            "14s  0.38 👉雨滴　　　　　　　　 0.33 👉雨　　　　　　　　　 0.27 👉水　　　　　　　　　 0.23 👉雨表面上　　　　　　 0.19 👉液體　　　　　　　　\n",
            "15s  0.40 👉雨　　　　　　　　　 0.40 👉雨滴　　　　　　　　 0.39 👉水　　　　　　　　　 0.26 👉雨表面上　　　　　　 0.13 👉液體　　　　　　　　\n",
            "16s  0.69 👉雨　　　　　　　　　 0.62 👉雨滴　　　　　　　　 0.58 👉水　　　　　　　　　 0.46 👉雨表面上　　　　　　 0.14 👉倒水　　　　　　　　\n",
            "17s  0.67 👉雨　　　　　　　　　 0.63 👉水　　　　　　　　　 0.60 👉雨滴　　　　　　　　 0.43 👉雨表面上　　　　　　 0.18 👉雷雨　　　　　　　　\n",
            "18s  0.40 👉粉紅噪音　　　　　　 0.38 👉白噪音　　　　　　　 0.34 👉噪聲　　　　　　　　 0.17 👉沙沙　　　　　　　　 0.11 👉雨　　　　　　　　　\n",
            "19s  0.56 👉粉紅噪音　　　　　　 0.37 👉噪聲　　　　　　　　 0.31 👉白噪音　　　　　　　 0.16 👉沙沙　　　　　　　　 0.10 👉室外，農村或天然　　\n",
            "20s  0.39 👉雨　　　　　　　　　 0.32 👉雨滴　　　　　　　　 0.28 👉雨表面上　　　　　　 0.28 👉水　　　　　　　　　 0.10 👉白噪音　　　　　　　\n",
            "21s  0.67 👉雨　　　　　　　　　 0.44 👉雨表面上　　　　　　 0.43 👉水　　　　　　　　　 0.37 👉雨滴　　　　　　　　 0.14 👉粉紅噪音　　　　　　\n"
          ],
          "name": "stdout"
        }
      ]
    },
    {
      "cell_type": "markdown",
      "metadata": {
        "id": "NpHD1IsFNC4P"
      },
      "source": [
        "## 👉左側數字為👉右側聲音事件的可能性，因為一段聲音同時包含多種可能事件，所以數字之間並沒有總和等於1的關係！"
      ]
    }
  ]
}