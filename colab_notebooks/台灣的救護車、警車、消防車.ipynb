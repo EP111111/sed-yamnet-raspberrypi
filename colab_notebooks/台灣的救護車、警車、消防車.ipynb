{
  "nbformat": 4,
  "nbformat_minor": 0,
  "metadata": {
    "colab": {
      "name": "台灣的救護車、警車、消防車",
      "provenance": [],
      "collapsed_sections": [
        "7-LTF2CRXAKB",
        "2rYMkJWPLn4v",
        "0ugq6ZxBXxxX",
        "IhypBTHIXJ-l",
        "Uvj-8tXAfY-P",
        "_LWgDBwXYD7W",
        "AlRCS3zSf3wV",
        "mMEO5scnhhqb"
      ],
      "authorship_tag": "ABX9TyMZhk2bwAKgP+drLy1wwAOa",
      "include_colab_link": true
    },
    "kernelspec": {
      "display_name": "Python 3",
      "name": "python3"
    }
  },
  "cells": [
    {
      "cell_type": "markdown",
      "metadata": {
        "id": "view-in-github",
        "colab_type": "text"
      },
      "source": [
        "<a href=\"https://colab.research.google.com/github/x1001000/raspberrypi3-yamnet-sed/blob/main/colab_notebooks/%E5%8F%B0%E7%81%A3%E7%9A%84%E6%95%91%E8%AD%B7%E8%BB%8A%E3%80%81%E8%AD%A6%E8%BB%8A%E3%80%81%E6%B6%88%E9%98%B2%E8%BB%8A.ipynb\" target=\"_parent\"><img src=\"https://colab.research.google.com/assets/colab-badge.svg\" alt=\"Open In Colab\"/></a>"
      ]
    },
    {
      "cell_type": "markdown",
      "metadata": {
        "id": "7-LTF2CRXAKB"
      },
      "source": [
        "# At runtime reset"
      ]
    },
    {
      "cell_type": "markdown",
      "metadata": {
        "id": "2rYMkJWPLn4v"
      },
      "source": [
        "## install"
      ]
    },
    {
      "cell_type": "code",
      "metadata": {
        "colab": {
          "base_uri": "https://localhost:8080/"
        },
        "id": "xiv9VrNWNB7S",
        "outputId": "d47e48b8-4794-438d-93b1-a41ea1614163"
      },
      "source": [
        "!pip install soundfile\n",
        "!pip install git+https://github.com/nficano/pytube\n",
        "!pip install pydub"
      ],
      "execution_count": null,
      "outputs": [
        {
          "output_type": "stream",
          "text": [
            "Requirement already satisfied: soundfile in /usr/local/lib/python3.7/dist-packages (0.10.3.post1)\n",
            "Requirement already satisfied: cffi>=1.0 in /usr/local/lib/python3.7/dist-packages (from soundfile) (1.14.5)\n",
            "Requirement already satisfied: pycparser in /usr/local/lib/python3.7/dist-packages (from cffi>=1.0->soundfile) (2.20)\n",
            "Collecting git+https://github.com/nficano/pytube\n",
            "  Cloning https://github.com/nficano/pytube to /tmp/pip-req-build-x31gc2yf\n",
            "  Running command git clone -q https://github.com/nficano/pytube /tmp/pip-req-build-x31gc2yf\n",
            "Requirement already satisfied: typing_extensions in /usr/local/lib/python3.7/dist-packages (from pytube==10.5.3) (3.7.4.3)\n",
            "Building wheels for collected packages: pytube\n",
            "  Building wheel for pytube (setup.py) ... \u001b[?25l\u001b[?25hdone\n",
            "  Created wheel for pytube: filename=pytube-10.5.3-cp37-none-any.whl size=42794 sha256=84bc8761e4b53337304c068708b0ca46979de9ea3d914f5a3d9f3813155b86e6\n",
            "  Stored in directory: /tmp/pip-ephem-wheel-cache-eq0ylop8/wheels/44/da/40/3b5e03abe33a91895343814fb44b309512375408f4a909555b\n",
            "Successfully built pytube\n",
            "Installing collected packages: pytube\n",
            "Successfully installed pytube-10.5.3\n",
            "Collecting pydub\n",
            "  Downloading https://files.pythonhosted.org/packages/a6/53/d78dc063216e62fc55f6b2eebb447f6a4b0a59f55c8406376f76bf959b08/pydub-0.25.1-py2.py3-none-any.whl\n",
            "Installing collected packages: pydub\n",
            "Successfully installed pydub-0.25.1\n"
          ],
          "name": "stdout"
        }
      ]
    },
    {
      "cell_type": "markdown",
      "metadata": {
        "id": "0ugq6ZxBXxxX"
      },
      "source": [
        "## download YAMNet (15M bytes)"
      ]
    },
    {
      "cell_type": "code",
      "metadata": {
        "colab": {
          "base_uri": "https://localhost:8080/"
        },
        "id": "3LQPb6xDMXXN",
        "outputId": "4bd1408f-a93d-4b77-8e08-8fd6fec82f76"
      },
      "source": [
        "# !curl -O https://storage.googleapis.com/audioset/yamnet.h5\n",
        "# !git clone https://github.com/tensorflow/models\n",
        "# !cp models/research/audioset/yamnet/* .\n",
        "!git clone https://github.com/x1001000/raspberrypi3-yamnet-sed\n",
        "!cp raspberrypi3-yamnet-sed/yamnet/* ."
      ],
      "execution_count": null,
      "outputs": [
        {
          "output_type": "stream",
          "text": [
            "Cloning into 'raspberrypi3-yamnet-sed'...\n",
            "remote: Enumerating objects: 23, done.\u001b[K\n",
            "remote: Counting objects: 100% (23/23), done.\u001b[K\n",
            "remote: Compressing objects: 100% (20/20), done.\u001b[K\n",
            "remote: Total 285 (delta 9), reused 9 (delta 3), pack-reused 262\u001b[K\n",
            "Receiving objects: 100% (285/285), 32.96 MiB | 25.15 MiB/s, done.\n",
            "Resolving deltas: 100% (161/161), done.\n"
          ],
          "name": "stdout"
        }
      ]
    },
    {
      "cell_type": "markdown",
      "metadata": {
        "id": "IhypBTHIXJ-l"
      },
      "source": [
        "# At runtime restart"
      ]
    },
    {
      "cell_type": "markdown",
      "metadata": {
        "id": "Uvj-8tXAfY-P"
      },
      "source": [
        "## import"
      ]
    },
    {
      "cell_type": "code",
      "metadata": {
        "id": "2JF8vxpYYO3y"
      },
      "source": [
        "import numpy as np\n",
        "import resampy\n",
        "import soundfile as sf\n",
        "import tensorflow as tf\n",
        "\n",
        "import params as yamnet_params\n",
        "import yamnet as yamnet_model\n",
        "\n",
        "from tensorflow import keras\n",
        "from tensorflow.keras import layers\n",
        "from tensorflow.keras import models\n",
        "\n",
        "from pytube import Playlist, YouTube\n",
        "from pydub import AudioSegment\n",
        "\n",
        "from IPython.display import display, Audio\n",
        "from time import sleep"
      ],
      "execution_count": null,
      "outputs": []
    },
    {
      "cell_type": "markdown",
      "metadata": {
        "id": "_LWgDBwXYD7W"
      },
      "source": [
        "## load YAMNet (3.7M params)"
      ]
    },
    {
      "cell_type": "code",
      "metadata": {
        "id": "a8jdW7vqblgV"
      },
      "source": [
        "params = yamnet_params.Params()\n",
        "yamnet = yamnet_model.yamnet_frames_model(params)\n",
        "yamnet.load_weights('yamnet.h5')\n",
        "yamnet_classes = yamnet_model.class_names('yamnet_class_map_zh-tw.csv')\n",
        "yamnet_classes = np.concatenate([yamnet_classes, np.array(['台灣垃圾車'])])\n",
        "\n",
        "#yamnet.summary()"
      ],
      "execution_count": null,
      "outputs": []
    },
    {
      "cell_type": "markdown",
      "metadata": {
        "id": "AlRCS3zSf3wV"
      },
      "source": [
        "## def data_from_YouTube(url)"
      ]
    },
    {
      "cell_type": "code",
      "metadata": {
        "id": "ylL8GWHrIhgF"
      },
      "source": [
        "def data_from_YouTube(url):\n",
        "    title = YouTube(url).title\n",
        "    stream = YouTube(url).streams.get_audio_only()\n",
        "    if stream:\n",
        "        default_filename = stream.default_filename\n",
        "        print(stream.download(), '✅已下載，匯出wav檔...', end='')\n",
        "        AudioSegment.from_file(default_filename).export(default_filename+'.wav', format='wav')\n",
        "        print('匯出waveform陣列...')\n",
        "        file_name = default_filename+'.wav'\n",
        "\n",
        "        # https://github.com/tensorflow/models/blob/master/research/audioset/yamnet/inference.py#L40\n",
        "        wav_data, sr = sf.read(file_name, dtype=np.int16)\n",
        "        assert wav_data.dtype == np.int16, 'Bad sample type: %r' % wav_data.dtype\n",
        "        waveform = wav_data / tf.int16.max#32768.0  # Convert to [-1.0, +1.0]\n",
        "        waveform = waveform.astype('float32')\n",
        "\n",
        "        # Convert to mono and the sample rate expected by YAMNet.\n",
        "        if len(waveform.shape) > 1:\n",
        "            waveform = np.mean(waveform, axis=1)\n",
        "        if sr != params.sample_rate:\n",
        "            waveform = resampy.resample(waveform, sr, params.sample_rate)\n",
        "        \n",
        "        return title, waveform\n",
        "    else:\n",
        "        print(f'No audio_only stream from {title}!')"
      ],
      "execution_count": null,
      "outputs": []
    },
    {
      "cell_type": "markdown",
      "metadata": {
        "id": "mMEO5scnhhqb"
      },
      "source": [
        "## def data_from_Playlist(url)"
      ]
    },
    {
      "cell_type": "code",
      "metadata": {
        "id": "NF59TimwcHQY"
      },
      "source": [
        "def data_from_Playlist(url, begin=1, end=None):\n",
        "    titles = []\n",
        "    waveforms = []\n",
        "    for url in Playlist(url).video_urls[begin-1:end]:\n",
        "        title, waveform = data_from_YouTube(url)\n",
        "        waveforms.append(waveform)\n",
        "        titles.append(title)\n",
        "        # sleep(10) # HTTP 429 hack\n",
        "    return titles, waveforms"
      ],
      "execution_count": null,
      "outputs": []
    },
    {
      "cell_type": "markdown",
      "metadata": {
        "id": "e7KbG_101iQ6"
      },
      "source": [
        "# Run inference on a playlist"
      ]
    },
    {
      "cell_type": "markdown",
      "metadata": {
        "id": "WTcXfgWWLtU2"
      },
      "source": [
        "## 救護車"
      ]
    },
    {
      "cell_type": "code",
      "metadata": {
        "colab": {
          "base_uri": "https://localhost:8080/"
        },
        "id": "7b1lgkWWKEPb",
        "outputId": "da629dab-ad5a-4bd5-a9c0-44f08876e31d"
      },
      "source": [
        "playlist = ['https://www.youtube.com/playlist?list=PL0Q2eQA7p-wSQp7_JiKgEuQSwJiiwvq7M'] # 救護車\n",
        "\n",
        "MA = 5\n",
        "SR = int(params.sample_rate)\n",
        "\n",
        "titles, waveforms = data_from_Playlist(*playlist)\n",
        "print('\\nRunning inference...')\n",
        "for title, waveform in zip(titles, waveforms):\n",
        "    print('\\n'+title)\n",
        "    # display(Audio(waveform, rate=SR)) # crashes if waveform is big\n",
        "    for i in range(MA, len(waveform)//SR, MA):\n",
        "        scores, embeddings, spectrogram = yamnet(waveform[(i-MA)*SR:i*SR])\n",
        "        prediction = np.mean(scores[:-1], axis=0)\n",
        "        top5 = np.argsort(prediction)[::-1][:5]\n",
        "        print(f'{i//60}:{i%60:2d}',\n",
        "            ''.join(f\" {prediction[i]:.2f} 👉{yamnet_classes[i][:12].ljust(12, '　')}\" for i in top5))"
      ],
      "execution_count": null,
      "outputs": [
        {
          "output_type": "stream",
          "text": [
            "/content/台灣救護車音效.mp4 ✅已下載，匯出wav檔...匯出waveform陣列...\n",
            "/content/台北市救護車緊急出動 Taipei Ambulance Responding.mp4 ✅已下載，匯出wav檔...匯出waveform陣列...\n",
            "/content/Mercedes-Benz AMBULANCE 賓士救護車出勤.mp4 ✅已下載，匯出wav檔...匯出waveform陣列...\n",
            "/content/大台北民間救護車緊急出動 Private Ambulances Responding in Metro Taipei.mp4 ✅已下載，匯出wav檔...匯出waveform陣列...\n",
            "\n",
            "Running inference...\n",
            "\n",
            "台灣救護車音效\n",
            "0: 5  0.53 👉應急車輛　　　　　　　　 0.46 👉車輛　　　　　　　　　　 0.44 👉警笛　　　　　　　　　　 0.41 👉救護車（警報）　　　　　 0.40 👉機動車輛（道路）　　　　\n",
            "0:10  0.42 👉應急車輛　　　　　　　　 0.36 👉機動車輛（道路）　　　　 0.35 👉救護車（警報）　　　　　 0.34 👉車輛　　　　　　　　　　 0.34 👉警笛　　　　　　　　　　\n",
            "0:15  0.47 👉應急車輛　　　　　　　　 0.43 👉警笛　　　　　　　　　　 0.38 👉救護車（警報）　　　　　 0.36 👉車輛　　　　　　　　　　 0.35 👉機動車輛（道路）　　　　\n",
            "0:20  0.57 👉應急車輛　　　　　　　　 0.50 👉救護車（警報）　　　　　 0.50 👉警笛　　　　　　　　　　 0.39 👉車輛　　　　　　　　　　 0.39 👉報警　　　　　　　　　　\n",
            "0:25  0.64 👉應急車輛　　　　　　　　 0.60 👉警笛　　　　　　　　　　 0.55 👉救護車（警報）　　　　　 0.50 👉報警　　　　　　　　　　 0.45 👉機動車輛（道路）　　　　\n",
            "0:30  0.66 👉應急車輛　　　　　　　　 0.58 👉警笛　　　　　　　　　　 0.53 👉救護車（警報）　　　　　 0.48 👉機動車輛（道路）　　　　 0.46 👉報警　　　　　　　　　　\n",
            "0:35  0.72 👉應急車輛　　　　　　　　 0.66 👉警笛　　　　　　　　　　 0.59 👉救護車（警報）　　　　　 0.56 👉機動車輛（道路）　　　　 0.54 👉報警　　　　　　　　　　\n",
            "0:40  0.69 👉應急車輛　　　　　　　　 0.59 👉警笛　　　　　　　　　　 0.57 👉救護車（警報）　　　　　 0.56 👉機動車輛（道路）　　　　 0.53 👉車輛　　　　　　　　　　\n",
            "0:45  0.61 👉應急車輛　　　　　　　　 0.54 👉機動車輛（道路）　　　　 0.52 👉車輛　　　　　　　　　　 0.49 👉救護車（警報）　　　　　 0.48 👉警笛　　　　　　　　　　\n",
            "0:50  0.55 👉應急車輛　　　　　　　　 0.45 👉警笛　　　　　　　　　　 0.44 👉機動車輛（道路）　　　　 0.44 👉救護車（警報）　　　　　 0.41 👉車輛　　　　　　　　　　\n",
            "0:55  0.60 👉應急車輛　　　　　　　　 0.51 👉警笛　　　　　　　　　　 0.50 👉救護車（警報）　　　　　 0.48 👉機動車輛（道路）　　　　 0.45 👉車輛　　　　　　　　　　\n",
            "1: 0  0.55 👉應急車輛　　　　　　　　 0.51 👉警笛　　　　　　　　　　 0.50 👉救護車（警報）　　　　　 0.44 👉機動車輛（道路）　　　　 0.43 👉報警　　　　　　　　　　\n",
            "1: 5  0.50 👉應急車輛　　　　　　　　 0.45 👉救護車（警報）　　　　　 0.44 👉警笛　　　　　　　　　　 0.33 👉機動車輛（道路）　　　　 0.32 👉報警　　　　　　　　　　\n",
            "1:10  0.63 👉應急車輛　　　　　　　　 0.57 👉警笛　　　　　　　　　　 0.52 👉救護車（警報）　　　　　 0.45 👉報警　　　　　　　　　　 0.44 👉車輛　　　　　　　　　　\n",
            "1:15  0.71 👉應急車輛　　　　　　　　 0.63 👉警笛　　　　　　　　　　 0.61 👉救護車（警報）　　　　　 0.55 👉機動車輛（道路）　　　　 0.52 👉車輛　　　　　　　　　　\n",
            "1:20  0.73 👉應急車輛　　　　　　　　 0.63 👉警笛　　　　　　　　　　 0.60 👉救護車（警報）　　　　　 0.59 👉機動車輛（道路）　　　　 0.56 👉車輛　　　　　　　　　　\n",
            "1:25  0.65 👉應急車輛　　　　　　　　 0.54 👉機動車輛（道路）　　　　 0.52 👉車輛　　　　　　　　　　 0.51 👉警笛　　　　　　　　　　 0.49 👉救護車（警報）　　　　　\n",
            "1:30  0.56 👉應急車輛　　　　　　　　 0.48 👉車輛　　　　　　　　　　 0.46 👉機動車輛（道路）　　　　 0.43 👉警笛　　　　　　　　　　 0.41 👉救護車（警報）　　　　　\n",
            "1:35  0.65 👉應急車輛　　　　　　　　 0.55 👉救護車（警報）　　　　　 0.55 👉機動車輛（道路）　　　　 0.55 👉車輛　　　　　　　　　　 0.53 👉警笛　　　　　　　　　　\n",
            "1:40  0.57 👉應急車輛　　　　　　　　 0.49 👉機動車輛（道路）　　　　 0.48 👉警笛　　　　　　　　　　 0.47 👉救護車（警報）　　　　　 0.46 👉車輛　　　　　　　　　　\n",
            "1:45  0.47 👉應急車輛　　　　　　　　 0.43 👉救護車（警報）　　　　　 0.38 👉警笛　　　　　　　　　　 0.36 👉機動車輛（道路）　　　　 0.34 👉車輛　　　　　　　　　　\n",
            "1:50  0.59 👉應急車輛　　　　　　　　 0.56 👉警笛　　　　　　　　　　 0.49 👉救護車（警報）　　　　　 0.46 👉報警　　　　　　　　　　 0.37 👉機動車輛（道路）　　　　\n",
            "1:55  0.64 👉應急車輛　　　　　　　　 0.57 👉警笛　　　　　　　　　　 0.53 👉救護車（警報）　　　　　 0.46 👉報警　　　　　　　　　　 0.45 👉車輛　　　　　　　　　　\n",
            "2: 0  0.79 👉應急車輛　　　　　　　　 0.70 👉警笛　　　　　　　　　　 0.67 👉救護車（警報）　　　　　 0.62 👉機動車輛（道路）　　　　 0.61 👉車輛　　　　　　　　　　\n",
            "2: 5  0.69 👉應急車輛　　　　　　　　 0.60 👉機動車輛（道路）　　　　 0.57 👉車輛　　　　　　　　　　 0.56 👉警笛　　　　　　　　　　 0.55 👉救護車（警報）　　　　　\n",
            "2:10  0.71 👉應急車輛　　　　　　　　 0.59 👉警笛　　　　　　　　　　 0.58 👉機動車輛（道路）　　　　 0.56 👉救護車（警報）　　　　　 0.55 👉車輛　　　　　　　　　　\n",
            "2:15  0.61 👉應急車輛　　　　　　　　 0.52 👉警笛　　　　　　　　　　 0.51 👉救護車（警報）　　　　　 0.47 👉機動車輛（道路）　　　　 0.44 👉車輛　　　　　　　　　　\n",
            "2:20  0.55 👉應急車輛　　　　　　　　 0.51 👉車輛　　　　　　　　　　 0.51 👉機動車輛（道路）　　　　 0.46 👉警笛　　　　　　　　　　 0.45 👉救護車（警報）　　　　　\n",
            "2:25  0.50 👉應急車輛　　　　　　　　 0.41 👉警笛　　　　　　　　　　 0.40 👉救護車（警報）　　　　　 0.40 👉機動車輛（道路）　　　　 0.39 👉車輛　　　　　　　　　　\n",
            "2:30  0.63 👉應急車輛　　　　　　　　 0.57 👉救護車（警報）　　　　　 0.55 👉警笛　　　　　　　　　　 0.47 👉機動車輛（道路）　　　　 0.44 👉報警　　　　　　　　　　\n",
            "2:35  0.60 👉應急車輛　　　　　　　　 0.57 👉警笛　　　　　　　　　　 0.55 👉救護車（警報）　　　　　 0.46 👉報警　　　　　　　　　　 0.40 👉機動車輛（道路）　　　　\n",
            "2:40  0.61 👉應急車輛　　　　　　　　 0.54 👉警笛　　　　　　　　　　 0.51 👉救護車（警報）　　　　　 0.45 👉機動車輛（道路）　　　　 0.42 👉車輛　　　　　　　　　　\n",
            "2:45  0.74 👉應急車輛　　　　　　　　 0.66 👉警笛　　　　　　　　　　 0.59 👉救護車（警報）　　　　　 0.54 👉機動車輛（道路）　　　　 0.54 👉車輛　　　　　　　　　　\n",
            "2:50  0.76 👉應急車輛　　　　　　　　 0.65 👉警笛　　　　　　　　　　 0.65 👉機動車輛（道路）　　　　 0.64 👉救護車（警報）　　　　　 0.63 👉車輛　　　　　　　　　　\n",
            "2:55  0.68 👉應急車輛　　　　　　　　 0.58 👉機動車輛（道路）　　　　 0.57 👉救護車（警報）　　　　　 0.56 👉警笛　　　　　　　　　　 0.55 👉車輛　　　　　　　　　　\n",
            "3: 0  0.59 👉應急車輛　　　　　　　　 0.53 👉機動車輛（道路）　　　　 0.52 👉車輛　　　　　　　　　　 0.46 👉救護車（警報）　　　　　 0.44 👉警笛　　　　　　　　　　\n",
            "3: 5  0.56 👉應急車輛　　　　　　　　 0.45 👉警笛　　　　　　　　　　 0.44 👉機動車輛（道路）　　　　 0.44 👉救護車（警報）　　　　　 0.44 👉車輛　　　　　　　　　　\n",
            "3:10  0.61 👉應急車輛　　　　　　　　 0.50 👉警笛　　　　　　　　　　 0.50 👉車輛　　　　　　　　　　 0.49 👉救護車（警報）　　　　　 0.48 👉機動車輛（道路）　　　　\n",
            "3:15  0.53 👉應急車輛　　　　　　　　 0.47 👉警笛　　　　　　　　　　 0.46 👉救護車（警報）　　　　　 0.39 👉機動車輛（道路）　　　　 0.38 👉報警　　　　　　　　　　\n",
            "3:20  0.52 👉應急車輛　　　　　　　　 0.47 👉警笛　　　　　　　　　　 0.47 👉救護車（警報）　　　　　 0.35 👉報警　　　　　　　　　　 0.35 👉機動車輛（道路）　　　　\n",
            "3:25  0.69 👉應急車輛　　　　　　　　 0.64 👉警笛　　　　　　　　　　 0.59 👉救護車（警報）　　　　　 0.52 👉報警　　　　　　　　　　 0.47 👉機動車輛（道路）　　　　\n",
            "3:30  0.71 👉應急車輛　　　　　　　　 0.63 👉警笛　　　　　　　　　　 0.56 👉救護車（警報）　　　　　 0.51 👉機動車輛（道路）　　　　 0.51 👉報警　　　　　　　　　　\n",
            "3:35  0.74 👉應急車輛　　　　　　　　 0.63 👉機動車輛（道路）　　　　 0.61 👉車輛　　　　　　　　　　 0.61 👉警笛　　　　　　　　　　 0.60 👉救護車（警報）　　　　　\n",
            "3:40  0.53 👉應急車輛　　　　　　　　 0.48 👉機動車輛（道路）　　　　 0.43 👉警笛　　　　　　　　　　 0.42 👉救護車（警報）　　　　　 0.42 👉車輛　　　　　　　　　　\n",
            "3:45  0.72 👉應急車輛　　　　　　　　 0.58 👉車輛　　　　　　　　　　 0.57 👉機動車輛（道路）　　　　 0.57 👉警笛　　　　　　　　　　 0.57 👉救護車（警報）　　　　　\n",
            "3:50  0.64 👉應急車輛　　　　　　　　 0.54 👉機動車輛（道路）　　　　 0.54 👉警笛　　　　　　　　　　 0.53 👉救護車（警報）　　　　　 0.51 👉車輛　　　　　　　　　　\n",
            "3:55  0.57 👉應急車輛　　　　　　　　 0.50 👉救護車（警報）　　　　　 0.47 👉機動車輛（道路）　　　　 0.47 👉警笛　　　　　　　　　　 0.45 👉車輛　　　　　　　　　　\n",
            "4: 0  0.41 👉應急車輛　　　　　　　　 0.40 👉警笛　　　　　　　　　　 0.35 👉救護車（警報）　　　　　 0.31 👉機動車輛（道路）　　　　 0.31 👉車輛　　　　　　　　　　\n",
            "4: 5  0.65 👉應急車輛　　　　　　　　 0.58 👉警笛　　　　　　　　　　 0.57 👉救護車（警報）　　　　　 0.46 👉報警　　　　　　　　　　 0.45 👉機動車輛（道路）　　　　\n",
            "4:10  0.67 👉應急車輛　　　　　　　　 0.62 👉警笛　　　　　　　　　　 0.57 👉救護車（警報）　　　　　 0.51 👉報警　　　　　　　　　　 0.46 👉機動車輛（道路）　　　　\n",
            "4:15  0.68 👉應急車輛　　　　　　　　 0.56 👉警笛　　　　　　　　　　 0.55 👉救護車（警報）　　　　　 0.54 👉機動車輛（道路）　　　　 0.51 👉車輛　　　　　　　　　　\n",
            "4:20  0.71 👉應急車輛　　　　　　　　 0.61 👉警笛　　　　　　　　　　 0.56 👉機動車輛（道路）　　　　 0.56 👉救護車（警報）　　　　　 0.54 👉車輛　　　　　　　　　　\n",
            "4:25  0.74 👉應急車輛　　　　　　　　 0.63 👉警笛　　　　　　　　　　 0.61 👉救護車（警報）　　　　　 0.58 👉機動車輛（道路）　　　　 0.58 👉車輛　　　　　　　　　　\n",
            "4:30  0.66 👉應急車輛　　　　　　　　 0.55 👉機動車輛（道路）　　　　 0.55 👉警笛　　　　　　　　　　 0.54 👉車輛　　　　　　　　　　 0.54 👉救護車（警報）　　　　　\n",
            "4:35  0.47 👉應急車輛　　　　　　　　 0.44 👉機動車輛（道路）　　　　 0.41 👉車輛　　　　　　　　　　 0.37 👉救護車（警報）　　　　　 0.37 👉警笛　　　　　　　　　　\n",
            "4:40  0.54 👉應急車輛　　　　　　　　 0.44 👉警笛　　　　　　　　　　 0.44 👉救護車（警報）　　　　　 0.44 👉機動車輛（道路）　　　　 0.40 👉車輛　　　　　　　　　　\n",
            "4:45  0.48 👉應急車輛　　　　　　　　 0.44 👉警笛　　　　　　　　　　 0.41 👉救護車（警報）　　　　　 0.35 👉機動車輛（道路）　　　　 0.35 👉車輛　　　　　　　　　　\n",
            "4:50  0.56 👉應急車輛　　　　　　　　 0.52 👉警笛　　　　　　　　　　 0.47 👉救護車（警報）　　　　　 0.42 👉報警　　　　　　　　　　 0.37 👉機動車輛（道路）　　　　\n",
            "4:55  0.59 👉應急車輛　　　　　　　　 0.55 👉警笛　　　　　　　　　　 0.51 👉救護車（警報）　　　　　 0.43 👉報警　　　　　　　　　　 0.40 👉機動車輛（道路）　　　　\n",
            "5: 0  0.79 👉應急車輛　　　　　　　　 0.71 👉警笛　　　　　　　　　　 0.67 👉救護車（警報）　　　　　 0.63 👉機動車輛（道路）　　　　 0.62 👉車輛　　　　　　　　　　\n",
            "5: 5  0.75 👉應急車輛　　　　　　　　 0.65 👉警笛　　　　　　　　　　 0.61 👉救護車（警報）　　　　　 0.60 👉機動車輛（道路）　　　　 0.57 👉車輛　　　　　　　　　　\n",
            "5:10  0.69 👉應急車輛　　　　　　　　 0.59 👉機動車輛（道路）　　　　 0.57 👉車輛　　　　　　　　　　 0.56 👉警笛　　　　　　　　　　 0.55 👉救護車（警報）　　　　　\n",
            "5:15  0.46 👉應急車輛　　　　　　　　 0.39 👉機動車輛（道路）　　　　 0.37 👉警笛　　　　　　　　　　 0.36 👉救護車（警報）　　　　　 0.34 👉車輛　　　　　　　　　　\n",
            "5:20  0.67 👉應急車輛　　　　　　　　 0.57 👉救護車（警報）　　　　　 0.56 👉警笛　　　　　　　　　　 0.55 👉車輛　　　　　　　　　　 0.54 👉機動車輛（道路）　　　　\n",
            "5:25  0.55 👉應急車輛　　　　　　　　 0.49 👉警笛　　　　　　　　　　 0.48 👉救護車（警報）　　　　　 0.46 👉機動車輛（道路）　　　　 0.42 👉車輛　　　　　　　　　　\n",
            "5:30  0.60 👉應急車輛　　　　　　　　 0.55 👉救護車（警報）　　　　　 0.51 👉警笛　　　　　　　　　　 0.44 👉車輛　　　　　　　　　　 0.43 👉機動車輛（道路）　　　　\n",
            "5:35  0.47 👉警笛　　　　　　　　　　 0.46 👉應急車輛　　　　　　　　 0.40 👉救護車（警報）　　　　　 0.36 👉報警　　　　　　　　　　 0.29 👉機動車輛（道路）　　　　\n",
            "5:40  0.66 👉應急車輛　　　　　　　　 0.61 👉警笛　　　　　　　　　　 0.56 👉救護車（警報）　　　　　 0.49 👉報警　　　　　　　　　　 0.47 👉車輛　　　　　　　　　　\n",
            "5:45  0.75 👉應急車輛　　　　　　　　 0.67 👉警笛　　　　　　　　　　 0.61 👉救護車（警報）　　　　　 0.59 👉機動車輛（道路）　　　　 0.57 👉車輛　　　　　　　　　　\n",
            "5:50  0.67 👉應急車輛　　　　　　　　 0.61 👉機動車輛（道路）　　　　 0.57 👉車輛　　　　　　　　　　 0.55 👉救護車（警報）　　　　　 0.54 👉警笛　　　　　　　　　　\n",
            "5:55  0.68 👉應急車輛　　　　　　　　 0.55 👉警笛　　　　　　　　　　 0.55 👉救護車（警報）　　　　　 0.54 👉機動車輛（道路）　　　　 0.51 👉車輛　　　　　　　　　　\n",
            "6: 0  0.57 👉應急車輛　　　　　　　　 0.47 👉警笛　　　　　　　　　　 0.47 👉機動車輛（道路）　　　　 0.47 👉救護車（警報）　　　　　 0.44 👉車輛　　　　　　　　　　\n",
            "6: 5  0.57 👉應急車輛　　　　　　　　 0.49 👉機動車輛（道路）　　　　 0.48 👉救護車（警報）　　　　　 0.47 👉車輛　　　　　　　　　　 0.46 👉警笛　　　　　　　　　　\n",
            "6:10  0.52 👉應急車輛　　　　　　　　 0.42 👉救護車（警報）　　　　　 0.41 👉車輛　　　　　　　　　　 0.41 👉警笛　　　　　　　　　　 0.40 👉機動車輛（道路）　　　　\n",
            "6:15  0.61 👉應急車輛　　　　　　　　 0.52 👉警笛　　　　　　　　　　 0.51 👉救護車（警報）　　　　　 0.44 👉機動車輛（道路）　　　　 0.43 👉車輛　　　　　　　　　　\n",
            "6:20  0.56 👉應急車輛　　　　　　　　 0.51 👉警笛　　　　　　　　　　 0.51 👉救護車（警報）　　　　　 0.42 👉報警　　　　　　　　　　 0.42 👉車輛　　　　　　　　　　\n",
            "6:25  0.66 👉應急車輛　　　　　　　　 0.62 👉警笛　　　　　　　　　　 0.56 👉救護車（警報）　　　　　 0.49 👉報警　　　　　　　　　　 0.48 👉機動車輛（道路）　　　　\n",
            "6:30  0.69 👉應急車輛　　　　　　　　 0.59 👉警笛　　　　　　　　　　 0.56 👉救護車（警報）　　　　　 0.51 👉機動車輛（道路）　　　　 0.49 👉車輛　　　　　　　　　　\n",
            "6:35  0.77 👉應急車輛　　　　　　　　 0.65 👉警笛　　　　　　　　　　 0.64 👉機動車輛（道路）　　　　 0.63 👉救護車（警報）　　　　　 0.62 👉車輛　　　　　　　　　　\n",
            "6:40  0.56 👉應急車輛　　　　　　　　 0.47 👉警笛　　　　　　　　　　 0.45 👉機動車輛（道路）　　　　 0.45 👉救護車（警報）　　　　　 0.43 👉車輛　　　　　　　　　　\n",
            "6:45  0.70 👉應急車輛　　　　　　　　 0.62 👉車輛　　　　　　　　　　 0.60 👉機動車輛（道路）　　　　 0.57 👉救護車（警報）　　　　　 0.56 👉警笛　　　　　　　　　　\n",
            "6:50  0.46 👉應急車輛　　　　　　　　 0.39 👉警笛　　　　　　　　　　 0.39 👉救護車（警報）　　　　　 0.37 👉機動車輛（道路）　　　　 0.31 👉車輛　　　　　　　　　　\n",
            "6:55  0.60 👉應急車輛　　　　　　　　 0.54 👉警笛　　　　　　　　　　 0.53 👉救護車（警報）　　　　　 0.48 👉機動車輛（道路）　　　　 0.47 👉車輛　　　　　　　　　　\n",
            "7: 0  0.55 👉應急車輛　　　　　　　　 0.50 👉警笛　　　　　　　　　　 0.46 👉救護車（警報）　　　　　 0.39 👉報警　　　　　　　　　　 0.39 👉機動車輛（道路）　　　　\n",
            "7: 5  0.57 👉應急車輛　　　　　　　　 0.51 👉救護車（警報）　　　　　 0.50 👉警笛　　　　　　　　　　 0.39 👉機動車輛（道路）　　　　 0.39 👉車輛　　　　　　　　　　\n",
            "7:10  0.70 👉應急車輛　　　　　　　　 0.65 👉警笛　　　　　　　　　　 0.59 👉救護車（警報）　　　　　 0.52 👉報警　　　　　　　　　　 0.49 👉機動車輛（道路）　　　　\n",
            "7:15  0.69 👉應急車輛　　　　　　　　 0.58 👉警笛　　　　　　　　　　 0.57 👉機動車輛（道路）　　　　 0.56 👉救護車（警報）　　　　　 0.56 👉車輛　　　　　　　　　　\n",
            "7:20  0.72 👉應急車輛　　　　　　　　 0.62 👉警笛　　　　　　　　　　 0.59 👉救護車（警報）　　　　　 0.58 👉機動車輛（道路）　　　　 0.54 👉車輛　　　　　　　　　　\n",
            "7:25  0.63 👉應急車輛　　　　　　　　 0.56 👉車輛　　　　　　　　　　 0.56 👉機動車輛（道路）　　　　 0.47 👉救護車（警報）　　　　　 0.47 👉警笛　　　　　　　　　　\n",
            "7:30  0.59 👉應急車輛　　　　　　　　 0.50 👉車輛　　　　　　　　　　 0.50 👉機動車輛（道路）　　　　 0.46 👉警笛　　　　　　　　　　 0.46 👉救護車（警報）　　　　　\n",
            "7:35  0.61 👉應急車輛　　　　　　　　 0.51 👉機動車輛（道路）　　　　 0.50 👉警笛　　　　　　　　　　 0.50 👉救護車（警報）　　　　　 0.50 👉車輛　　　　　　　　　　\n",
            "7:40  0.57 👉應急車輛　　　　　　　　 0.50 👉救護車（警報）　　　　　 0.49 👉機動車輛（道路）　　　　 0.48 👉警笛　　　　　　　　　　 0.45 👉車輛　　　　　　　　　　\n",
            "7:45  0.44 👉應急車輛　　　　　　　　 0.40 👉警笛　　　　　　　　　　 0.37 👉救護車（警報）　　　　　 0.32 👉車輛　　　　　　　　　　 0.31 👉機動車輛（道路）　　　　\n",
            "7:50  0.65 👉應急車輛　　　　　　　　 0.57 👉警笛　　　　　　　　　　 0.52 👉救護車（警報）　　　　　 0.45 👉報警　　　　　　　　　　 0.44 👉車輛　　　　　　　　　　\n",
            "7:55  0.66 👉應急車輛　　　　　　　　 0.65 👉警笛　　　　　　　　　　 0.57 👉救護車（警報）　　　　　 0.54 👉報警　　　　　　　　　　 0.46 👉機動車輛（道路）　　　　\n",
            "8: 0  0.70 👉應急車輛　　　　　　　　 0.61 👉警笛　　　　　　　　　　 0.58 👉機動車輛（道路）　　　　 0.57 👉救護車（警報）　　　　　 0.55 👉車輛　　　　　　　　　　\n",
            "8: 5  0.70 👉應急車輛　　　　　　　　 0.58 👉機動車輛（道路）　　　　 0.57 👉警笛　　　　　　　　　　 0.54 👉車輛　　　　　　　　　　 0.54 👉救護車（警報）　　　　　\n",
            "8:10  0.75 👉應急車輛　　　　　　　　 0.64 👉警笛　　　　　　　　　　 0.63 👉救護車（警報）　　　　　 0.61 👉機動車輛（道路）　　　　 0.61 👉車輛　　　　　　　　　　\n",
            "8:15  0.61 👉應急車輛　　　　　　　　 0.53 👉警笛　　　　　　　　　　 0.50 👉救護車（警報）　　　　　 0.47 👉機動車輛（道路）　　　　 0.46 👉車輛　　　　　　　　　　\n",
            "8:20  0.62 👉應急車輛　　　　　　　　 0.55 👉機動車輛（道路）　　　　 0.55 👉車輛　　　　　　　　　　 0.51 👉救護車（警報）　　　　　 0.51 👉警笛　　　　　　　　　　\n",
            "8:25  0.48 👉應急車輛　　　　　　　　 0.42 👉警笛　　　　　　　　　　 0.41 👉救護車（警報）　　　　　 0.35 👉機動車輛（道路）　　　　 0.32 👉報警　　　　　　　　　　\n",
            "8:30  0.52 👉應急車輛　　　　　　　　 0.48 👉警笛　　　　　　　　　　 0.48 👉救護車（警報）　　　　　 0.40 👉報警　　　　　　　　　　 0.38 👉機動車輛（道路）　　　　\n",
            "8:35  0.61 👉應急車輛　　　　　　　　 0.56 👉警笛　　　　　　　　　　 0.49 👉救護車（警報）　　　　　 0.46 👉報警　　　　　　　　　　 0.41 👉車輛　　　　　　　　　　\n",
            "8:40  0.69 👉應急車輛　　　　　　　　 0.61 👉警笛　　　　　　　　　　 0.59 👉救護車（警報）　　　　　 0.52 👉機動車輛（道路）　　　　 0.51 👉車輛　　　　　　　　　　\n",
            "8:45  0.75 👉應急車輛　　　　　　　　 0.66 👉警笛　　　　　　　　　　 0.64 👉救護車（警報）　　　　　 0.60 👉機動車輛（道路）　　　　 0.57 👉車輛　　　　　　　　　　\n",
            "8:50  0.79 👉應急車輛　　　　　　　　 0.67 👉警笛　　　　　　　　　　 0.67 👉車輛　　　　　　　　　　 0.65 👉機動車輛（道路）　　　　 0.64 👉救護車（警報）　　　　　\n",
            "8:55  0.66 👉應急車輛　　　　　　　　 0.53 👉警笛　　　　　　　　　　 0.53 👉救護車（警報）　　　　　 0.53 👉機動車輛（道路）　　　　 0.50 👉車輛　　　　　　　　　　\n",
            "9: 0  0.48 👉應急車輛　　　　　　　　 0.45 👉機動車輛（道路）　　　　 0.42 👉車輛　　　　　　　　　　 0.38 👉救護車（警報）　　　　　 0.38 👉警笛　　　　　　　　　　\n",
            "9: 5  0.61 👉應急車輛　　　　　　　　 0.51 👉救護車（警報）　　　　　 0.50 👉機動車輛（道路）　　　　 0.50 👉警笛　　　　　　　　　　 0.48 👉車輛　　　　　　　　　　\n",
            "9:10  0.47 👉應急車輛　　　　　　　　 0.41 👉警笛　　　　　　　　　　 0.40 👉救護車（警報）　　　　　 0.38 👉機動車輛（道路）　　　　 0.38 👉車輛　　　　　　　　　　\n",
            "9:15  0.60 👉應急車輛　　　　　　　　 0.51 👉警笛　　　　　　　　　　 0.51 👉救護車（警報）　　　　　 0.45 👉車輛　　　　　　　　　　 0.44 👉機動車輛（道路）　　　　\n",
            "9:20  0.56 👉應急車輛　　　　　　　　 0.52 👉警笛　　　　　　　　　　 0.49 👉救護車（警報）　　　　　 0.39 👉報警　　　　　　　　　　 0.38 👉機動車輛（道路）　　　　\n",
            "9:25  0.75 👉應急車輛　　　　　　　　 0.68 👉警笛　　　　　　　　　　 0.60 👉救護車（警報）　　　　　 0.57 👉報警　　　　　　　　　　 0.55 👉車輛　　　　　　　　　　\n",
            "9:30  0.76 👉應急車輛　　　　　　　　 0.68 👉警笛　　　　　　　　　　 0.62 👉救護車（警報）　　　　　 0.61 👉機動車輛（道路）　　　　 0.58 👉報警　　　　　　　　　　\n",
            "\n",
            "台北市救護車緊急出動 Taipei Ambulance Responding\n",
            "0: 5  0.30 👉車輛　　　　　　　　　　 0.25 👉警笛　　　　　　　　　　 0.25 👉救護車（警報）　　　　　 0.24 👉報警　　　　　　　　　　 0.24 👉應急車輛　　　　　　　　\n",
            "0:10  0.33 👉警笛　　　　　　　　　　 0.33 👉車輛　　　　　　　　　　 0.32 👉報警　　　　　　　　　　 0.32 👉應急車輛　　　　　　　　 0.31 👉機動車輛（道路）　　　　\n",
            "0:15  0.54 👉警笛　　　　　　　　　　 0.52 👉報警　　　　　　　　　　 0.35 👉應急車輛　　　　　　　　 0.27 👉救護車（警報）　　　　　 0.22 👉警車（警報）　　　　　　\n",
            "\n",
            "Mercedes-Benz AMBULANCE 賓士救護車出勤\n",
            "0: 5  0.18 👉報警　　　　　　　　　　 0.14 👉警笛　　　　　　　　　　 0.11 👉安靜　　　　　　　　　　 0.10 👉汽車喇叭，汽車喇叭聲，喇 0.10 👉嗶，嗶　　　　　　　　　\n",
            "0:10  0.30 👉車輛　　　　　　　　　　 0.13 👉冰淇淋車，冰淇淋車　　　 0.11 👉音樂　　　　　　　　　　 0.10 👉機動車輛（道路）　　　　 0.09 👉救護車（警報）　　　　　\n",
            "\n",
            "大台北民間救護車緊急出動 Private Ambulances Responding in Metro Taipei\n",
            "0: 5  0.83 👉應急車輛　　　　　　　　 0.67 👉車輛　　　　　　　　　　 0.66 👉機動車輛（道路）　　　　 0.66 👉救護車（警報）　　　　　 0.40 👉警笛　　　　　　　　　　\n",
            "0:10  0.88 👉應急車輛　　　　　　　　 0.73 👉機動車輛（道路）　　　　 0.72 👉車輛　　　　　　　　　　 0.66 👉救護車（警報）　　　　　 0.48 👉警笛　　　　　　　　　　\n",
            "0:15  0.88 👉應急車輛　　　　　　　　 0.75 👉機動車輛（道路）　　　　 0.73 👉車輛　　　　　　　　　　 0.71 👉救護車（警報）　　　　　 0.51 👉警笛　　　　　　　　　　\n",
            "0:20  0.86 👉應急車輛　　　　　　　　 0.74 👉機動車輛（道路）　　　　 0.73 👉車輛　　　　　　　　　　 0.54 👉救護車（警報）　　　　　 0.43 👉消防車，消防車（警笛）　\n",
            "0:25  0.86 👉應急車輛　　　　　　　　 0.73 👉車輛　　　　　　　　　　 0.71 👉機動車輛（道路）　　　　 0.50 👉救護車（警報）　　　　　 0.43 👉消防車，消防車（警笛）　\n",
            "0:30  0.74 👉車輛　　　　　　　　　　 0.32 👉機動車輛（道路）　　　　 0.25 👉應急車輛　　　　　　　　 0.20 👉交通噪聲，道路噪聲　　　 0.12 👉救護車（警報）　　　　　\n",
            "0:35  0.54 👉車輛　　　　　　　　　　 0.25 👉機動車輛（道路）　　　　 0.22 👉交通噪聲，道路噪聲　　　 0.22 👉割草機　　　　　　　　　 0.20 👉光引擎（高頻）　　　　　\n",
            "0:40  0.53 👉車輛　　　　　　　　　　 0.38 👉交通噪聲，道路噪聲　　　 0.26 👉機動車輛（道路）　　　　 0.13 👉總線　　　　　　　　　　 0.12 👉汽車　　　　　　　　　　\n",
            "0:45  0.32 👉車輛　　　　　　　　　　 0.27 👉海洋　　　　　　　　　　 0.26 👉波，衝浪　　　　　　　　 0.24 👉水　　　　　　　　　　　 0.17 👉機動車輛（道路）　　　　\n",
            "0:50  0.35 👉車輛　　　　　　　　　　 0.23 👉海洋　　　　　　　　　　 0.23 👉水　　　　　　　　　　　 0.20 👉波，衝浪　　　　　　　　 0.17 👉風　　　　　　　　　　　\n",
            "0:55  0.77 👉車輛　　　　　　　　　　 0.19 👉機動車輛（道路）　　　　 0.12 👉汽車　　　　　　　　　　 0.09 👉卡車　　　　　　　　　　 0.07 👉室外，城市或人造　　　　\n",
            "1: 0  0.53 👉車輛　　　　　　　　　　 0.37 👉交通噪聲，道路噪聲　　　 0.24 👉機動車輛（道路）　　　　 0.12 👉波，衝浪　　　　　　　　 0.12 👉總線　　　　　　　　　　\n",
            "1: 5  0.31 👉車輛　　　　　　　　　　 0.25 👉交通噪聲，道路噪聲　　　 0.17 👉機動車輛（道路）　　　　 0.10 👉汽車　　　　　　　　　　 0.09 👉言語　　　　　　　　　　\n",
            "1:10  0.87 👉車輛　　　　　　　　　　 0.33 👉交通噪聲，道路噪聲　　　 0.31 👉機動車輛（道路）　　　　 0.16 👉總線　　　　　　　　　　 0.09 👉鐵路交通　　　　　　　　\n",
            "1:15  0.62 👉車輛　　　　　　　　　　 0.34 👉交通噪聲，道路噪聲　　　 0.32 👉機動車輛（道路）　　　　 0.14 👉汽車　　　　　　　　　　 0.09 👉總線　　　　　　　　　　\n",
            "1:20  0.52 👉車輛　　　　　　　　　　 0.15 👉鐵路交通　　　　　　　　 0.13 👉培養　　　　　　　　　　 0.11 👉地鐵，地鐵，地下　　　　 0.07 👉機動車輛（道路）　　　　\n",
            "1:25  0.56 👉車輛　　　　　　　　　　 0.50 👉應急車輛　　　　　　　　 0.44 👉警笛　　　　　　　　　　 0.41 👉報警　　　　　　　　　　 0.34 👉機動車輛（道路）　　　　\n",
            "1:30  0.54 👉車輛　　　　　　　　　　 0.23 👉鐵路交通　　　　　　　　 0.20 👉培養　　　　　　　　　　 0.14 👉地鐵，地鐵，地下　　　　 0.08 👉車廂，車皮　　　　　　　\n",
            "1:35  0.44 👉車輛　　　　　　　　　　 0.29 👉飛機　　　　　　　　　　 0.25 👉固定翼飛機，飛機　　　　 0.14 👉鐵路交通　　　　　　　　 0.14 👉地鐵，地鐵，地下　　　　\n",
            "1:40  0.54 👉車輛　　　　　　　　　　 0.14 👉風　　　　　　　　　　　 0.11 👉風噪聲（麥克風）　　　　 0.10 👉機動車輛（道路）　　　　 0.07 👉汽車　　　　　　　　　　\n",
            "1:45  0.35 👉風　　　　　　　　　　　 0.31 👉風噪聲（麥克風）　　　　 0.22 👉車輛　　　　　　　　　　 0.16 👉船，水上交通工具　　　　 0.14 👉海洋　　　　　　　　　　\n",
            "1:50  0.19 👉車輛　　　　　　　　　　 0.16 👉風　　　　　　　　　　　 0.15 👉言語　　　　　　　　　　 0.12 👉風噪聲（麥克風）　　　　 0.07 👉船，水上交通工具　　　　\n",
            "1:55  0.35 👉風　　　　　　　　　　　 0.26 👉風噪聲（麥克風）　　　　 0.08 👉風鈴　　　　　　　　　　 0.08 👉鐘　　　　　　　　　　　 0.08 👉鐘　　　　　　　　　　　\n",
            "2: 0  0.13 👉風　　　　　　　　　　　 0.11 👉風噪聲（麥克風）　　　　 0.11 👉車輛　　　　　　　　　　 0.09 👉言語　　　　　　　　　　 0.08 👉交通噪聲，道路噪聲　　　\n",
            "2: 5  0.55 👉應急車輛　　　　　　　　 0.55 👉救護車（警報）　　　　　 0.52 👉警笛　　　　　　　　　　 0.49 👉報警　　　　　　　　　　 0.43 👉機動車輛（道路）　　　　\n",
            "2:10  0.20 👉風　　　　　　　　　　　 0.18 👉車輛　　　　　　　　　　 0.14 👉海洋　　　　　　　　　　 0.14 👉風噪聲（麥克風）　　　　 0.12 👉波，衝浪　　　　　　　　\n",
            "2:15  0.63 👉風　　　　　　　　　　　 0.52 👉風噪聲（麥克風）　　　　 0.28 👉海洋　　　　　　　　　　 0.23 👉水　　　　　　　　　　　 0.20 👉波，衝浪　　　　　　　　\n",
            "2:20  0.28 👉海洋　　　　　　　　　　 0.27 👉風　　　　　　　　　　　 0.22 👉水　　　　　　　　　　　 0.22 👉波，衝浪　　　　　　　　 0.21 👉風噪聲（麥克風）　　　　\n",
            "2:25  0.58 👉風　　　　　　　　　　　 0.44 👉海洋　　　　　　　　　　 0.43 👉風噪聲（麥克風）　　　　 0.39 👉波，衝浪　　　　　　　　 0.33 👉水　　　　　　　　　　　\n"
          ],
          "name": "stdout"
        }
      ]
    },
    {
      "cell_type": "markdown",
      "metadata": {
        "id": "2svBWzQNLvd2"
      },
      "source": [
        "## 警車"
      ]
    },
    {
      "cell_type": "code",
      "metadata": {
        "id": "a_1SH5g4DgNc",
        "colab": {
          "base_uri": "https://localhost:8080/"
        },
        "outputId": "4cad7812-70d8-4718-ccf8-ace03854481a"
      },
      "source": [
        "playlist = ['https://www.youtube.com/playlist?list=PL0Q2eQA7p-wQkx2hcJMyD-7fB6xqhRz_B'] # 警車\n",
        "\n",
        "MA = 5\n",
        "SR = int(params.sample_rate)\n",
        "\n",
        "titles, waveforms = data_from_Playlist(*playlist)\n",
        "print('\\nRunning inference...')\n",
        "for title, waveform in zip(titles, waveforms):\n",
        "    print('\\n'+title)\n",
        "    # display(Audio(waveform, rate=SR)) # crashes if waveform is big\n",
        "    for i in range(MA, len(waveform)//SR, MA):\n",
        "        scores, embeddings, spectrogram = yamnet(waveform[(i-MA)*SR:i*SR])\n",
        "        prediction = np.mean(scores[:-1], axis=0)\n",
        "        top5 = np.argsort(prediction)[::-1][:5]\n",
        "        print(f'{i//60}:{i%60:2d}',\n",
        "            ''.join(f\" {prediction[i]:.2f} 👉{yamnet_classes[i][:12].ljust(12, '　')}\" for i in top5))"
      ],
      "execution_count": null,
      "outputs": [
        {
          "output_type": "stream",
          "text": [
            "/content/警車警笛聲 EP1 提供大家下載！！！.mp4 ✅已下載，匯出wav檔...匯出waveform陣列...\n",
            "/content/警車警笛聲 EP2 標準警笛！！.mp4 ✅已下載，匯出wav檔...匯出waveform陣列...\n",
            "/content/警車警笛聲 EP3 臺灣警車警笛分類.mp4 ✅已下載，匯出wav檔...匯出waveform陣列...\n",
            "/content/臺灣警車鈴聲(緊急處理用)完整版.mp4 ✅已下載，匯出wav檔...匯出waveform陣列...\n",
            "\n",
            "Running inference...\n",
            "\n",
            "警車警笛聲 EP.1 提供大家下載！！！\n",
            "0: 5  0.97 👉警笛　　　　　　　　　　 0.96 👉報警　　　　　　　　　　 0.35 👉警車（警報）　　　　　　 0.20 👉應急車輛　　　　　　　　 0.14 👉救護車（警報）　　　　　\n",
            "0:10  0.97 👉警笛　　　　　　　　　　 0.96 👉報警　　　　　　　　　　 0.41 👉警車（警報）　　　　　　 0.25 👉應急車輛　　　　　　　　 0.16 👉救護車（警報）　　　　　\n",
            "0:15  0.97 👉警笛　　　　　　　　　　 0.96 👉報警　　　　　　　　　　 0.37 👉警車（警報）　　　　　　 0.20 👉應急車輛　　　　　　　　 0.15 👉救護車（警報）　　　　　\n",
            "0:20  0.97 👉警笛　　　　　　　　　　 0.96 👉報警　　　　　　　　　　 0.33 👉警車（警報）　　　　　　 0.21 👉應急車輛　　　　　　　　 0.13 👉救護車（警報）　　　　　\n",
            "0:25  0.95 👉警笛　　　　　　　　　　 0.93 👉報警　　　　　　　　　　 0.46 👉警車（警報）　　　　　　 0.26 👉應急車輛　　　　　　　　 0.18 👉救護車（警報）　　　　　\n",
            "0:30  0.96 👉警笛　　　　　　　　　　 0.95 👉報警　　　　　　　　　　 0.40 👉警車（警報）　　　　　　 0.27 👉應急車輛　　　　　　　　 0.17 👉救護車（警報）　　　　　\n",
            "0:35  0.96 👉警笛　　　　　　　　　　 0.95 👉報警　　　　　　　　　　 0.42 👉警車（警報）　　　　　　 0.25 👉應急車輛　　　　　　　　 0.17 👉救護車（警報）　　　　　\n",
            "\n",
            "警車警笛聲 EP.2 標準警笛！！\n",
            "0: 5  0.93 👉報警　　　　　　　　　　 0.92 👉警笛　　　　　　　　　　 0.77 👉警車（警報）　　　　　　 0.29 👉應急車輛　　　　　　　　 0.12 👉機動車輛（道路）　　　　\n",
            "0:10  0.93 👉報警　　　　　　　　　　 0.93 👉警笛　　　　　　　　　　 0.75 👉警車（警報）　　　　　　 0.28 👉應急車輛　　　　　　　　 0.12 👉機動車輛（道路）　　　　\n",
            "0:15  0.93 👉報警　　　　　　　　　　 0.93 👉警笛　　　　　　　　　　 0.71 👉警車（警報）　　　　　　 0.22 👉應急車輛　　　　　　　　 0.08 👉機動車輛（道路）　　　　\n",
            "0:20  0.92 👉報警　　　　　　　　　　 0.91 👉警笛　　　　　　　　　　 0.73 👉警車（警報）　　　　　　 0.28 👉應急車輛　　　　　　　　 0.12 👉機動車輛（道路）　　　　\n",
            "0:25  0.93 👉警笛　　　　　　　　　　 0.93 👉報警　　　　　　　　　　 0.73 👉警車（警報）　　　　　　 0.27 👉應急車輛　　　　　　　　 0.12 👉機動車輛（道路）　　　　\n",
            "0:30  0.94 👉報警　　　　　　　　　　 0.94 👉警笛　　　　　　　　　　 0.68 👉警車（警報）　　　　　　 0.24 👉應急車輛　　　　　　　　 0.09 👉機動車輛（道路）　　　　\n",
            "0:35  0.93 👉報警　　　　　　　　　　 0.93 👉警笛　　　　　　　　　　 0.65 👉警車（警報）　　　　　　 0.21 👉應急車輛　　　　　　　　 0.08 👉機動車輛（道路）　　　　\n",
            "\n",
            "警車警笛聲 EP.3 臺灣警車警笛分類\n",
            "0: 5  0.57 👉警笛　　　　　　　　　　 0.54 👉報警　　　　　　　　　　 0.36 👉應急車輛　　　　　　　　 0.36 👉警車（警報）　　　　　　 0.21 👉機動車輛（道路）　　　　\n",
            "0:10  0.82 👉警車（警報）　　　　　　 0.14 👉警笛　　　　　　　　　　 0.09 👉報警　　　　　　　　　　 0.08 👉救護車（警報）　　　　　 0.06 👉應急車輛　　　　　　　　\n",
            "0:15  0.70 👉警笛　　　　　　　　　　 0.66 👉報警　　　　　　　　　　 0.53 👉警車（警報）　　　　　　 0.34 👉應急車輛　　　　　　　　 0.25 👉救護車（警報）　　　　　\n",
            "0:20  0.83 👉警笛　　　　　　　　　　 0.79 👉報警　　　　　　　　　　 0.62 👉警車（警報）　　　　　　 0.36 👉應急車輛　　　　　　　　 0.27 👉救護車（警報）　　　　　\n",
            "\n",
            "臺灣警車鈴聲(緊急處理用)完整版\n",
            "0: 5  0.17 👉音樂　　　　　　　　　　 0.16 👉報警　　　　　　　　　　 0.16 👉警笛　　　　　　　　　　 0.06 👉警車（警報）　　　　　　 0.05 👉車輛　　　　　　　　　　\n",
            "0:10  0.36 👉警笛　　　　　　　　　　 0.29 👉報警　　　　　　　　　　 0.17 👉音樂　　　　　　　　　　 0.08 👉鋼吉他，滑棒吉他　　　　 0.07 👉警車（警報）　　　　　　\n",
            "0:15  0.64 👉警笛　　　　　　　　　　 0.63 👉報警　　　　　　　　　　 0.28 👉警車（警報）　　　　　　 0.13 👉應急車輛　　　　　　　　 0.07 👉特雷門　　　　　　　　　\n",
            "0:20  0.89 👉警笛　　　　　　　　　　 0.86 👉報警　　　　　　　　　　 0.77 👉警車（警報）　　　　　　 0.28 👉應急車輛　　　　　　　　 0.10 👉機動車輛（道路）　　　　\n",
            "0:25  0.60 👉警笛　　　　　　　　　　 0.56 👉報警　　　　　　　　　　 0.51 👉警車（警報）　　　　　　 0.27 👉應急車輛　　　　　　　　 0.21 👉音樂　　　　　　　　　　\n",
            "0:30  0.84 👉警笛　　　　　　　　　　 0.81 👉報警　　　　　　　　　　 0.57 👉警車（警報）　　　　　　 0.28 👉應急車輛　　　　　　　　 0.13 👉機動車輛（道路）　　　　\n",
            "0:35  0.83 👉警笛　　　　　　　　　　 0.79 👉報警　　　　　　　　　　 0.59 👉警車（警報）　　　　　　 0.30 👉應急車輛　　　　　　　　 0.15 👉救護車（警報）　　　　　\n",
            "0:40  0.67 👉警笛　　　　　　　　　　 0.65 👉報警　　　　　　　　　　 0.55 👉警車（警報）　　　　　　 0.29 👉應急車輛　　　　　　　　 0.13 👉機動車輛（道路）　　　　\n"
          ],
          "name": "stdout"
        }
      ]
    },
    {
      "cell_type": "markdown",
      "metadata": {
        "id": "WayRVXO8Lz89"
      },
      "source": [
        "## 消防車"
      ]
    },
    {
      "cell_type": "code",
      "metadata": {
        "colab": {
          "base_uri": "https://localhost:8080/"
        },
        "id": "EqmI8mIEHLmm",
        "outputId": "18b000a7-5d47-4743-e930-9dea80b34234"
      },
      "source": [
        "playlist = ['https://www.youtube.com/playlist?list=PL0Q2eQA7p-wQ29QPFe6LfvWRMqId-N_75'] # 消防車\n",
        "\n",
        "MA = 5\n",
        "SR = int(params.sample_rate)\n",
        "\n",
        "titles, waveforms = data_from_Playlist(*playlist)\n",
        "print('\\nRunning inference...')\n",
        "for title, waveform in zip(titles, waveforms):\n",
        "    print('\\n'+title)\n",
        "    # display(Audio(waveform, rate=SR)) # crashes if waveform is big\n",
        "    for i in range(MA, len(waveform)//SR, MA):\n",
        "        scores, embeddings, spectrogram = yamnet(waveform[(i-MA)*SR:i*SR])\n",
        "        prediction = np.mean(scores[:-1], axis=0)\n",
        "        top5 = np.argsort(prediction)[::-1][:5]\n",
        "        print(f'{i//60}:{i%60:2d}',\n",
        "            ''.join(f\" {prediction[i]:.2f} 👉{yamnet_classes[i][:12].ljust(12, '　')}\" for i in top5))"
      ],
      "execution_count": null,
      "outputs": [
        {
          "output_type": "stream",
          "text": [
            "/content/消防車的聲音.mp4 ✅已下載，匯出wav檔...匯出waveform陣列...\n",
            "/content/20190719 協助大昌分隊消防車開道.mp4 ✅已下載，匯出wav檔...匯出waveform陣列...\n",
            "/content/消防車出勤鳴笛的震撼.mp4 ✅已下載，匯出wav檔...匯出waveform陣列...\n",
            "/content/台南市消防車緊急出動 Tainan City Fire Engine Response Demo.mp4 ✅已下載，匯出wav檔...匯出waveform陣列...\n",
            "\n",
            "Running inference...\n",
            "\n",
            "消防車的聲音\n",
            "0: 5  0.71 👉警車（警報）　　　　　　 0.68 👉警笛　　　　　　　　　　 0.64 👉報警　　　　　　　　　　 0.62 👉應急車輛　　　　　　　　 0.41 👉機動車輛（道路）　　　　\n",
            "0:10  0.82 👉警車（警報）　　　　　　 0.73 👉警笛　　　　　　　　　　 0.71 👉報警　　　　　　　　　　 0.68 👉應急車輛　　　　　　　　 0.44 👉機動車輛（道路）　　　　\n",
            "0:15  0.74 👉應急車輛　　　　　　　　 0.72 👉警車（警報）　　　　　　 0.65 👉警笛　　　　　　　　　　 0.61 👉報警　　　　　　　　　　 0.56 👉車輛　　　　　　　　　　\n",
            "0:20  0.71 👉警車（警報）　　　　　　 0.70 👉應急車輛　　　　　　　　 0.68 👉警笛　　　　　　　　　　 0.65 👉報警　　　　　　　　　　 0.46 👉機動車輛（道路）　　　　\n",
            "0:25  0.80 👉警車（警報）　　　　　　 0.73 👉警笛　　　　　　　　　　 0.71 👉應急車輛　　　　　　　　 0.71 👉報警　　　　　　　　　　 0.48 👉機動車輛（道路）　　　　\n",
            "0:30  0.70 👉應急車輛　　　　　　　　 0.70 👉警車（警報）　　　　　　 0.67 👉警笛　　　　　　　　　　 0.64 👉報警　　　　　　　　　　 0.48 👉車輛　　　　　　　　　　\n",
            "\n",
            "20190719 協助大昌分隊消防車開道\n",
            "0: 5  0.61 👉車輛　　　　　　　　　　 0.56 👉應急車輛　　　　　　　　 0.43 👉消防車，消防車（警笛）　 0.42 👉機動車輛（道路）　　　　 0.28 👉警笛　　　　　　　　　　\n",
            "0:10  0.75 👉應急車輛　　　　　　　　 0.61 👉車輛　　　　　　　　　　 0.58 👉機動車輛（道路）　　　　 0.56 👉消防車，消防車（警笛）　 0.37 👉警笛　　　　　　　　　　\n",
            "0:15  0.65 👉應急車輛　　　　　　　　 0.57 👉車輛　　　　　　　　　　 0.51 👉消防車，消防車（警笛）　 0.51 👉機動車輛（道路）　　　　 0.29 👉警笛　　　　　　　　　　\n",
            "0:20  0.78 👉應急車輛　　　　　　　　 0.61 👉車輛　　　　　　　　　　 0.58 👉機動車輛（道路）　　　　 0.51 👉消防車，消防車（警笛）　 0.44 👉警笛　　　　　　　　　　\n",
            "0:25  0.80 👉應急車輛　　　　　　　　 0.64 👉車輛　　　　　　　　　　 0.63 👉機動車輛（道路）　　　　 0.48 👉消防車，消防車（警笛）　 0.47 👉警笛　　　　　　　　　　\n",
            "0:30  0.72 👉應急車輛　　　　　　　　 0.56 👉車輛　　　　　　　　　　 0.56 👉消防車，消防車（警笛）　 0.53 👉機動車輛（道路）　　　　 0.33 👉警笛　　　　　　　　　　\n",
            "0:35  0.70 👉應急車輛　　　　　　　　 0.57 👉車輛　　　　　　　　　　 0.52 👉機動車輛（道路）　　　　 0.49 👉消防車，消防車（警笛）　 0.35 👉警笛　　　　　　　　　　\n",
            "0:40  0.51 👉車輛　　　　　　　　　　 0.33 👉應急車輛　　　　　　　　 0.30 👉機動車輛（道路）　　　　 0.24 👉消防車，消防車（警笛）　 0.20 👉警車（警報）　　　　　　\n",
            "0:45  0.55 👉應急車輛　　　　　　　　 0.43 👉機動車輛（道路）　　　　 0.43 👉車輛　　　　　　　　　　 0.39 👉警車（警報）　　　　　　 0.37 👉報警　　　　　　　　　　\n",
            "0:50  0.25 👉報警　　　　　　　　　　 0.23 👉哨　　　　　　　　　　　 0.20 👉動物　　　　　　　　　　 0.18 👉鳥　　　　　　　　　　　 0.17 👉警車（警報）　　　　　　\n",
            "0:55  0.46 👉應急車輛　　　　　　　　 0.39 👉報警　　　　　　　　　　 0.37 👉警車（警報）　　　　　　 0.36 👉車輛　　　　　　　　　　 0.35 👉警笛　　　　　　　　　　\n",
            "1: 0  0.29 👉警車（警報）　　　　　　 0.29 👉報警　　　　　　　　　　 0.21 👉哨　　　　　　　　　　　 0.20 👉動物　　　　　　　　　　 0.18 👉警笛　　　　　　　　　　\n",
            "1: 5  0.54 👉警車（警報）　　　　　　 0.54 👉應急車輛　　　　　　　　 0.39 👉機動車輛（道路）　　　　 0.39 👉警笛　　　　　　　　　　 0.39 👉報警　　　　　　　　　　\n",
            "1:10  0.36 👉哨　　　　　　　　　　　 0.28 👉動物　　　　　　　　　　 0.26 👉鳥　　　　　　　　　　　 0.23 👉野生動物　　　　　　　　 0.19 👉報警　　　　　　　　　　\n",
            "1:15  0.52 👉警車（警報）　　　　　　 0.40 👉報警　　　　　　　　　　 0.39 👉警笛　　　　　　　　　　 0.38 👉應急車輛　　　　　　　　 0.21 👉機動車輛（道路）　　　　\n",
            "1:20  0.55 👉警車（警報）　　　　　　 0.47 👉應急車輛　　　　　　　　 0.42 👉警笛　　　　　　　　　　 0.42 👉報警　　　　　　　　　　 0.30 👉車輛　　　　　　　　　　\n",
            "1:25  0.59 👉警車（警報）　　　　　　 0.58 👉應急車輛　　　　　　　　 0.57 👉警笛　　　　　　　　　　 0.55 👉報警　　　　　　　　　　 0.43 👉機動車輛（道路）　　　　\n",
            "1:30  0.59 👉應急車輛　　　　　　　　 0.53 👉車輛　　　　　　　　　　 0.44 👉消防車，消防車（警笛）　 0.40 👉機動車輛（道路）　　　　 0.35 👉警車（警報）　　　　　　\n",
            "1:35  0.57 👉應急車輛　　　　　　　　 0.42 👉消防車，消防車（警笛）　 0.42 👉車輛　　　　　　　　　　 0.36 👉機動車輛（道路）　　　　 0.29 👉警車（警報）　　　　　　\n",
            "1:40  0.25 👉哨　　　　　　　　　　　 0.20 👉動物　　　　　　　　　　 0.19 👉鳥　　　　　　　　　　　 0.18 👉野生動物　　　　　　　　 0.16 👉報警　　　　　　　　　　\n",
            "1:45  0.29 👉動物　　　　　　　　　　 0.26 👉鳥　　　　　　　　　　　 0.26 👉野生動物　　　　　　　　 0.12 👉報警　　　　　　　　　　 0.10 👉鳥發聲，鳥呼叫，鳥歌　　\n",
            "1:50  0.45 👉哨　　　　　　　　　　　 0.26 👉報警　　　　　　　　　　 0.21 👉口哨　　　　　　　　　　 0.15 👉鳥　　　　　　　　　　　 0.14 👉動物　　　　　　　　　　\n",
            "1:55  0.24 👉哨　　　　　　　　　　　 0.15 👉動物　　　　　　　　　　 0.14 👉野生動物　　　　　　　　 0.14 👉鳥　　　　　　　　　　　 0.13 👉報警　　　　　　　　　　\n",
            "2: 0  0.35 👉哨　　　　　　　　　　　 0.29 👉報警　　　　　　　　　　 0.22 👉車輛　　　　　　　　　　 0.16 👉應急車輛　　　　　　　　 0.15 👉鳥　　　　　　　　　　　\n",
            "2: 5  0.29 👉野生動物　　　　　　　　 0.29 👉報警　　　　　　　　　　 0.29 👉鳥　　　　　　　　　　　 0.27 👉動物　　　　　　　　　　 0.26 👉警車（警報）　　　　　　\n",
            "2:10  0.44 👉車輛　　　　　　　　　　 0.35 👉應急車輛　　　　　　　　 0.31 👉機動車輛（道路）　　　　 0.27 👉警車（警報）　　　　　　 0.26 👉警笛　　　　　　　　　　\n",
            "2:15  0.56 👉哨　　　　　　　　　　　 0.31 👉鳥　　　　　　　　　　　 0.31 👉野生動物　　　　　　　　 0.29 👉動物　　　　　　　　　　 0.28 👉報警　　　　　　　　　　\n",
            "2:20  0.45 👉哨　　　　　　　　　　　 0.35 👉報警　　　　　　　　　　 0.19 👉口哨　　　　　　　　　　 0.13 👉車輛　　　　　　　　　　 0.12 👉警車（警報）　　　　　　\n",
            "2:25  0.62 👉應急車輛　　　　　　　　 0.47 👉車輛　　　　　　　　　　 0.42 👉機動車輛（道路）　　　　 0.40 👉消防車，消防車（警笛）　 0.34 👉警笛　　　　　　　　　　\n",
            "2:30  0.54 👉應急車輛　　　　　　　　 0.53 👉警車（警報）　　　　　　 0.42 👉警笛　　　　　　　　　　 0.40 👉報警　　　　　　　　　　 0.38 👉機動車輛（道路）　　　　\n",
            "2:35  0.50 👉應急車輛　　　　　　　　 0.37 👉車輛　　　　　　　　　　 0.34 👉機動車輛（道路）　　　　 0.32 👉警笛　　　　　　　　　　 0.32 👉警車（警報）　　　　　　\n",
            "2:40  0.69 👉應急車輛　　　　　　　　 0.49 👉機動車輛（道路）　　　　 0.47 👉車輛　　　　　　　　　　 0.42 👉警笛　　　　　　　　　　 0.40 👉報警　　　　　　　　　　\n",
            "2:45  0.49 👉哨　　　　　　　　　　　 0.41 👉報警　　　　　　　　　　 0.17 👉鳥　　　　　　　　　　　 0.15 👉野生動物　　　　　　　　 0.15 👉動物　　　　　　　　　　\n",
            "2:50  0.45 👉動物　　　　　　　　　　 0.35 👉鳥　　　　　　　　　　　 0.33 👉野生動物　　　　　　　　 0.20 👉鳥發聲，鳥呼叫，鳥歌　　 0.14 👉啁啾，鳴叫　　　　　　　\n",
            "2:55  0.52 👉警車（警報）　　　　　　 0.46 👉應急車輛　　　　　　　　 0.45 👉報警　　　　　　　　　　 0.45 👉警笛　　　　　　　　　　 0.35 👉機動車輛（道路）　　　　\n",
            "3: 0  0.83 👉應急車輛　　　　　　　　 0.70 👉車輛　　　　　　　　　　 0.67 👉機動車輛（道路）　　　　 0.49 👉警笛　　　　　　　　　　 0.48 👉消防車，消防車（警笛）　\n",
            "3: 5  0.67 👉應急車輛　　　　　　　　 0.66 👉警車（警報）　　　　　　 0.64 👉警笛　　　　　　　　　　 0.63 👉報警　　　　　　　　　　 0.43 👉機動車輛（道路）　　　　\n",
            "3:10  0.32 👉應急車輛　　　　　　　　 0.30 👉警車（警報）　　　　　　 0.27 👉報警　　　　　　　　　　 0.25 👉警笛　　　　　　　　　　 0.24 👉車輛　　　　　　　　　　\n",
            "3:15  0.71 👉車輛　　　　　　　　　　 0.27 👉機動車輛（道路）　　　　 0.22 👉摩托車　　　　　　　　　 0.19 👉應急車輛　　　　　　　　 0.14 👉消防車，消防車（警笛）　\n",
            "3:20  0.27 👉應急車輛　　　　　　　　 0.22 👉報警　　　　　　　　　　 0.20 👉車輛　　　　　　　　　　 0.19 👉警笛　　　　　　　　　　 0.18 👉警車（警報）　　　　　　\n",
            "3:25  0.22 👉警車（警報）　　　　　　 0.22 👉報警　　　　　　　　　　 0.18 👉警笛　　　　　　　　　　 0.15 👉應急車輛　　　　　　　　 0.09 👉機動車輛（道路）　　　　\n",
            "3:30  0.33 👉車輛　　　　　　　　　　 0.21 👉機動車輛（道路）　　　　 0.18 👉應急車輛　　　　　　　　 0.18 👉報警　　　　　　　　　　 0.16 👉警車（警報）　　　　　　\n",
            "3:35  0.17 👉車輛　　　　　　　　　　 0.15 👉野生動物　　　　　　　　 0.15 👉動物　　　　　　　　　　 0.14 👉鳥　　　　　　　　　　　 0.08 👉鳥發聲，鳥呼叫，鳥歌　　\n",
            "3:40  0.22 👉車輛　　　　　　　　　　 0.19 👉應急車輛　　　　　　　　 0.19 👉報警　　　　　　　　　　 0.18 👉機動車輛（道路）　　　　 0.17 👉警車（警報）　　　　　　\n",
            "3:45  0.38 👉車輛　　　　　　　　　　 0.28 👉應急車輛　　　　　　　　 0.23 👉機動車輛（道路）　　　　 0.18 👉報警　　　　　　　　　　 0.18 👉警車（警報）　　　　　　\n",
            "3:50  0.25 👉報警　　　　　　　　　　 0.19 👉哨　　　　　　　　　　　 0.17 👉動物　　　　　　　　　　 0.17 👉鳥　　　　　　　　　　　 0.16 👉車輛　　　　　　　　　　\n",
            "3:55  0.43 👉動物　　　　　　　　　　 0.39 👉野生動物　　　　　　　　 0.38 👉鳥　　　　　　　　　　　 0.16 👉鳥發聲，鳥呼叫，鳥歌　　 0.15 👉哨　　　　　　　　　　　\n",
            "4: 0  0.22 👉動物　　　　　　　　　　 0.22 👉警車（警報）　　　　　　 0.20 👉應急車輛　　　　　　　　 0.19 👉報警　　　　　　　　　　 0.19 👉警笛　　　　　　　　　　\n",
            "4: 5  0.32 👉警車（警報）　　　　　　 0.31 👉言語　　　　　　　　　　 0.29 👉應急車輛　　　　　　　　 0.18 👉機動車輛（道路）　　　　 0.17 👉警笛　　　　　　　　　　\n",
            "4:10  0.39 👉警車（警報）　　　　　　 0.34 👉報警　　　　　　　　　　 0.21 👉警笛　　　　　　　　　　 0.20 👉哨　　　　　　　　　　　 0.18 👉應急車輛　　　　　　　　\n",
            "4:15  0.53 👉應急車輛　　　　　　　　 0.44 👉警車（警報）　　　　　　 0.42 👉車輛　　　　　　　　　　 0.41 👉機動車輛（道路）　　　　 0.35 👉警笛　　　　　　　　　　\n",
            "4:20  0.65 👉應急車輛　　　　　　　　 0.56 👉警車（警報）　　　　　　 0.48 👉機動車輛（道路）　　　　 0.45 👉警笛　　　　　　　　　　 0.43 👉報警　　　　　　　　　　\n",
            "4:25  0.71 👉應急車輛　　　　　　　　 0.69 👉警車（警報）　　　　　　 0.55 👉警笛　　　　　　　　　　 0.54 👉機動車輛（道路）　　　　 0.52 👉報警　　　　　　　　　　\n",
            "4:30  0.71 👉應急車輛　　　　　　　　 0.55 👉警車（警報）　　　　　　 0.52 👉警笛　　　　　　　　　　 0.51 👉報警　　　　　　　　　　 0.48 👉機動車輛（道路）　　　　\n",
            "4:35  0.50 👉應急車輛　　　　　　　　 0.47 👉車輛　　　　　　　　　　 0.36 👉機動車輛（道路）　　　　 0.34 👉消防車，消防車（警笛）　 0.33 👉警笛　　　　　　　　　　\n",
            "4:40  0.34 👉應急車輛　　　　　　　　 0.32 👉車輛　　　　　　　　　　 0.28 👉警車（警報）　　　　　　 0.27 👉機動車輛（道路）　　　　 0.21 👉警笛　　　　　　　　　　\n",
            "4:45  0.32 👉動物　　　　　　　　　　 0.27 👉野生動物　　　　　　　　 0.26 👉鳥　　　　　　　　　　　 0.17 👉哨　　　　　　　　　　　 0.14 👉鳥發聲，鳥呼叫，鳥歌　　\n",
            "4:50  0.33 👉車輛　　　　　　　　　　 0.31 👉報警　　　　　　　　　　 0.30 👉警笛　　　　　　　　　　 0.30 👉應急車輛　　　　　　　　 0.23 👉機動車輛（道路）　　　　\n",
            "4:55  0.34 👉應急車輛　　　　　　　　 0.32 👉警車（警報）　　　　　　 0.26 👉車輛　　　　　　　　　　 0.25 👉機動車輛（道路）　　　　 0.23 👉報警　　　　　　　　　　\n",
            "5: 0  0.58 👉警車（警報）　　　　　　 0.56 👉應急車輛　　　　　　　　 0.44 👉警笛　　　　　　　　　　 0.42 👉報警　　　　　　　　　　 0.41 👉機動車輛（道路）　　　　\n",
            "5: 5  0.72 👉應急車輛　　　　　　　　 0.65 👉警車（警報）　　　　　　 0.60 👉車輛　　　　　　　　　　 0.54 👉機動車輛（道路）　　　　 0.49 👉警笛　　　　　　　　　　\n",
            "5:10  0.44 👉應急車輛　　　　　　　　 0.39 👉車輛　　　　　　　　　　 0.35 👉消防車，消防車（警笛）　 0.33 👉警車（警報）　　　　　　 0.28 👉機動車輛（道路）　　　　\n",
            "5:15  0.39 👉哨　　　　　　　　　　　 0.23 👉報警　　　　　　　　　　 0.21 👉鳥　　　　　　　　　　　 0.19 👉野生動物　　　　　　　　 0.15 👉動物　　　　　　　　　　\n",
            "5:20  0.44 👉動物　　　　　　　　　　 0.41 👉鳥　　　　　　　　　　　 0.39 👉野生動物　　　　　　　　 0.24 👉鳥發聲，鳥呼叫，鳥歌　　 0.17 👉警車（警報）　　　　　　\n",
            "5:25  0.38 👉警車（警報）　　　　　　 0.31 👉報警　　　　　　　　　　 0.28 👉警笛　　　　　　　　　　 0.27 👉應急車輛　　　　　　　　 0.22 👉動物　　　　　　　　　　\n",
            "5:30  0.54 👉應急車輛　　　　　　　　 0.54 👉警車（警報）　　　　　　 0.43 👉警笛　　　　　　　　　　 0.42 👉機動車輛（道路）　　　　 0.41 👉報警　　　　　　　　　　\n",
            "5:35  0.73 👉應急車輛　　　　　　　　 0.58 👉車輛　　　　　　　　　　 0.56 👉機動車輛（道路）　　　　 0.47 👉警車（警報）　　　　　　 0.43 👉警笛　　　　　　　　　　\n",
            "5:40  0.42 👉應急車輛　　　　　　　　 0.36 👉車輛　　　　　　　　　　 0.32 👉機動車輛（道路）　　　　 0.31 👉警車（警報）　　　　　　 0.28 👉警笛　　　　　　　　　　\n",
            "5:45  0.60 👉應急車輛　　　　　　　　 0.43 👉車輛　　　　　　　　　　 0.43 👉警笛　　　　　　　　　　 0.41 👉警車（警報）　　　　　　 0.41 👉機動車輛（道路）　　　　\n",
            "5:50  0.32 👉報警　　　　　　　　　　 0.32 👉警車（警報）　　　　　　 0.29 👉應急車輛　　　　　　　　 0.26 👉警笛　　　　　　　　　　 0.20 👉車輛　　　　　　　　　　\n",
            "5:55  0.45 👉警車（警報）　　　　　　 0.37 👉應急車輛　　　　　　　　 0.26 👉車輛　　　　　　　　　　 0.23 👉機動車輛（道路）　　　　 0.21 👉警笛　　　　　　　　　　\n",
            "6: 0  0.33 👉車輛　　　　　　　　　　 0.30 👉警車（警報）　　　　　　 0.25 👉應急車輛　　　　　　　　 0.23 👉機動車輛（道路）　　　　 0.16 👉警笛　　　　　　　　　　\n",
            "6: 5  0.52 👉車輛　　　　　　　　　　 0.30 👉機動車輛（道路）　　　　 0.24 👉應急車輛　　　　　　　　 0.16 👉摩托車　　　　　　　　　 0.14 👉報警　　　　　　　　　　\n",
            "6:10  0.67 👉動物　　　　　　　　　　 0.49 👉野生動物　　　　　　　　 0.42 👉鳥　　　　　　　　　　　 0.19 👉鳥發聲，鳥呼叫，鳥歌　　 0.14 👉鴨　　　　　　　　　　　\n",
            "6:15  0.29 👉言語　　　　　　　　　　 0.13 👉車輛　　　　　　　　　　 0.12 👉應急車輛　　　　　　　　 0.11 👉警車（警報）　　　　　　 0.10 👉警笛　　　　　　　　　　\n",
            "6:20  0.10 👉警笛　　　　　　　　　　 0.10 👉風　　　　　　　　　　　 0.09 👉車輛　　　　　　　　　　 0.08 👉馬蹄聲　　　　　　　　　 0.08 👉應急車輛　　　　　　　　\n",
            "6:25  0.34 👉應急車輛　　　　　　　　 0.26 👉警車（警報）　　　　　　 0.23 👉機動車輛（道路）　　　　 0.23 👉警笛　　　　　　　　　　 0.22 👉報警　　　　　　　　　　\n",
            "6:30  0.69 👉應急車輛　　　　　　　　 0.65 👉警車（警報）　　　　　　 0.50 👉機動車輛（道路）　　　　 0.44 👉警笛　　　　　　　　　　 0.43 👉報警　　　　　　　　　　\n",
            "6:35  0.24 👉動物　　　　　　　　　　 0.17 👉野生動物　　　　　　　　 0.17 👉鳥　　　　　　　　　　　 0.12 👉應急車輛　　　　　　　　 0.11 👉報警　　　　　　　　　　\n",
            "6:40  0.27 👉警車（警報）　　　　　　 0.24 👉動物　　　　　　　　　　 0.20 👉報警　　　　　　　　　　 0.18 👉警笛　　　　　　　　　　 0.17 👉應急車輛　　　　　　　　\n",
            "6:45  0.48 👉警車（警報）　　　　　　 0.39 👉應急車輛　　　　　　　　 0.36 👉警笛　　　　　　　　　　 0.34 👉報警　　　　　　　　　　 0.24 👉機動車輛（道路）　　　　\n",
            "6:50  0.27 👉警車（警報）　　　　　　 0.24 👉報警　　　　　　　　　　 0.23 👉警笛　　　　　　　　　　 0.17 👉動物　　　　　　　　　　 0.10 👉音樂　　　　　　　　　　\n",
            "6:55  0.69 👉警車（警報）　　　　　　 0.57 👉警笛　　　　　　　　　　 0.56 👉報警　　　　　　　　　　 0.55 👉應急車輛　　　　　　　　 0.35 👉機動車輛（道路）　　　　\n",
            "7: 0  0.53 👉警車（警報）　　　　　　 0.47 👉應急車輛　　　　　　　　 0.42 👉警笛　　　　　　　　　　 0.41 👉報警　　　　　　　　　　 0.31 👉機動車輛（道路）　　　　\n",
            "7: 5  0.58 👉應急車輛　　　　　　　　 0.40 👉車輛　　　　　　　　　　 0.40 👉機動車輛（道路）　　　　 0.36 👉警車（警報）　　　　　　 0.29 👉消防車，消防車（警笛）　\n",
            "7:10  0.36 👉應急車輛　　　　　　　　 0.35 👉警車（警報）　　　　　　 0.20 👉警笛　　　　　　　　　　 0.18 👉消防車，消防車（警笛）　 0.16 👉報警　　　　　　　　　　\n",
            "7:15  0.25 👉應急車輛　　　　　　　　 0.19 👉警笛　　　　　　　　　　 0.17 👉報警　　　　　　　　　　 0.16 👉車輛　　　　　　　　　　 0.15 👉救護車（警報）　　　　　\n",
            "7:20  0.23 👉警車（警報）　　　　　　 0.21 👉應急車輛　　　　　　　　 0.20 👉警笛　　　　　　　　　　 0.20 👉報警　　　　　　　　　　 0.10 👉動物　　　　　　　　　　\n",
            "7:25  0.70 👉警車（警報）　　　　　　 0.67 👉應急車輛　　　　　　　　 0.49 👉機動車輛（道路）　　　　 0.43 👉警笛　　　　　　　　　　 0.42 👉報警　　　　　　　　　　\n",
            "7:30  0.75 👉應急車輛　　　　　　　　 0.70 👉警車（警報）　　　　　　 0.61 👉警笛　　　　　　　　　　 0.59 👉報警　　　　　　　　　　 0.55 👉機動車輛（道路）　　　　\n",
            "7:35  0.35 👉應急車輛　　　　　　　　 0.31 👉警車（警報）　　　　　　 0.29 👉言語　　　　　　　　　　 0.21 👉機動車輛（道路）　　　　 0.16 👉車輛　　　　　　　　　　\n",
            "7:40  0.27 👉報警　　　　　　　　　　 0.26 👉警車（警報）　　　　　　 0.24 👉應急車輛　　　　　　　　 0.21 👉警笛　　　　　　　　　　 0.20 👉哨　　　　　　　　　　　\n",
            "7:45  0.53 👉警車（警報）　　　　　　 0.42 👉報警　　　　　　　　　　 0.42 👉警笛　　　　　　　　　　 0.41 👉應急車輛　　　　　　　　 0.24 👉機動車輛（道路）　　　　\n",
            "7:50  0.45 👉警車（警報）　　　　　　 0.35 👉報警　　　　　　　　　　 0.30 👉警笛　　　　　　　　　　 0.22 👉應急車輛　　　　　　　　 0.17 👉哨　　　　　　　　　　　\n",
            "7:55  0.25 👉警車（警報）　　　　　　 0.21 👉應急車輛　　　　　　　　 0.19 👉報警　　　　　　　　　　 0.16 👉警笛　　　　　　　　　　 0.13 👉機動車輛（道路）　　　　\n",
            "8: 0  0.52 👉應急車輛　　　　　　　　 0.48 👉警車（警報）　　　　　　 0.37 👉警笛　　　　　　　　　　 0.34 👉報警　　　　　　　　　　 0.29 👉機動車輛（道路）　　　　\n",
            "8: 5  0.59 👉警車（警報）　　　　　　 0.42 👉應急車輛　　　　　　　　 0.41 👉警笛　　　　　　　　　　 0.37 👉報警　　　　　　　　　　 0.27 👉機動車輛（道路）　　　　\n",
            "8:10  0.70 👉應急車輛　　　　　　　　 0.62 👉警車（警報）　　　　　　 0.55 👉警笛　　　　　　　　　　 0.53 👉報警　　　　　　　　　　 0.52 👉機動車輛（道路）　　　　\n",
            "8:15  0.55 👉應急車輛　　　　　　　　 0.43 👉報警　　　　　　　　　　 0.40 👉警笛　　　　　　　　　　 0.38 👉車輛　　　　　　　　　　 0.37 👉機動車輛（道路）　　　　\n",
            "8:20  0.40 👉車輛　　　　　　　　　　 0.14 👉機動車輛（道路）　　　　 0.11 👉應急車輛　　　　　　　　 0.08 👉消防車，消防車（警笛）　 0.07 👉警笛　　　　　　　　　　\n",
            "8:25  0.23 👉汽車防盜器　　　　　　　 0.21 👉報警　　　　　　　　　　 0.21 👉應急車輛　　　　　　　　 0.19 👉車輛　　　　　　　　　　 0.16 👉機動車輛（道路）　　　　\n",
            "8:30  0.32 👉應急車輛　　　　　　　　 0.26 👉警車（警報）　　　　　　 0.25 👉言語　　　　　　　　　　 0.25 👉警笛　　　　　　　　　　 0.24 👉機動車輛（道路）　　　　\n",
            "8:35  0.73 👉應急車輛　　　　　　　　 0.57 👉警車（警報）　　　　　　 0.54 👉機動車輛（道路）　　　　 0.53 👉警笛　　　　　　　　　　 0.51 👉車輛　　　　　　　　　　\n",
            "8:40  0.64 👉應急車輛　　　　　　　　 0.60 👉警車（警報）　　　　　　 0.59 👉警笛　　　　　　　　　　 0.54 👉報警　　　　　　　　　　 0.43 👉機動車輛（道路）　　　　\n",
            "8:45  0.47 👉車輛　　　　　　　　　　 0.18 👉機動車輛（道路）　　　　 0.13 👉摩托車　　　　　　　　　 0.11 👉應急車輛　　　　　　　　 0.10 👉警車（警報）　　　　　　\n",
            "8:50  0.60 👉車輛　　　　　　　　　　 0.30 👉應急車輛　　　　　　　　 0.29 👉機動車輛（道路）　　　　 0.28 👉消防車，消防車（警笛）　 0.14 👉警笛　　　　　　　　　　\n",
            "8:55  0.40 👉言語　　　　　　　　　　 0.10 👉哨　　　　　　　　　　　 0.09 👉動物　　　　　　　　　　 0.09 👉報警　　　　　　　　　　 0.08 👉野生動物　　　　　　　　\n",
            "9: 0  0.19 👉動物　　　　　　　　　　 0.18 👉鳥　　　　　　　　　　　 0.17 👉野生動物　　　　　　　　 0.16 👉報警　　　　　　　　　　 0.13 👉應急車輛　　　　　　　　\n",
            "9: 5  0.75 👉應急車輛　　　　　　　　 0.56 👉機動車輛（道路）　　　　 0.53 👉車輛　　　　　　　　　　 0.45 👉警笛　　　　　　　　　　 0.44 👉警車（警報）　　　　　　\n",
            "9:10  0.84 👉應急車輛　　　　　　　　 0.69 👉機動車輛（道路）　　　　 0.65 👉車輛　　　　　　　　　　 0.50 👉警笛　　　　　　　　　　 0.47 👉警車（警報）　　　　　　\n",
            "9:15  0.67 👉車輛　　　　　　　　　　 0.60 👉應急車輛　　　　　　　　 0.51 👉機動車輛（道路）　　　　 0.43 👉消防車，消防車（警笛）　 0.30 👉警笛　　　　　　　　　　\n",
            "9:20  0.73 👉車輛　　　　　　　　　　 0.53 👉應急車輛　　　　　　　　 0.47 👉機動車輛（道路）　　　　 0.47 👉消防車，消防車（警笛）　 0.22 👉警笛　　　　　　　　　　\n",
            "9:25  0.54 👉應急車輛　　　　　　　　 0.50 👉車輛　　　　　　　　　　 0.41 👉機動車輛（道路）　　　　 0.36 👉警車（警報）　　　　　　 0.35 👉警笛　　　　　　　　　　\n",
            "9:30  0.71 👉車輛　　　　　　　　　　 0.61 👉應急車輛　　　　　　　　 0.53 👉消防車，消防車（警笛）　 0.48 👉機動車輛（道路）　　　　 0.27 👉警笛　　　　　　　　　　\n",
            "9:35  0.49 👉應急車輛　　　　　　　　 0.39 👉車輛　　　　　　　　　　 0.36 👉消防車，消防車（警笛）　 0.33 👉機動車輛（道路）　　　　 0.29 👉警車（警報）　　　　　　\n",
            "9:40  0.67 👉應急車輛　　　　　　　　 0.55 👉車輛　　　　　　　　　　 0.51 👉消防車，消防車（警笛）　 0.46 👉機動車輛（道路）　　　　 0.41 👉警笛　　　　　　　　　　\n",
            "9:45  0.74 👉應急車輛　　　　　　　　 0.66 👉車輛　　　　　　　　　　 0.59 👉消防車，消防車（警笛）　 0.56 👉機動車輛（道路）　　　　 0.38 👉報警　　　　　　　　　　\n",
            "9:50  0.57 👉應急車輛　　　　　　　　 0.44 👉車輛　　　　　　　　　　 0.38 👉警笛　　　　　　　　　　 0.37 👉機動車輛（道路）　　　　 0.37 👉消防車，消防車（警笛）　\n",
            "9:55  0.62 👉車輛　　　　　　　　　　 0.61 👉應急車輛　　　　　　　　 0.47 👉機動車輛（道路）　　　　 0.46 👉消防車，消防車（警笛）　 0.31 👉警笛　　　　　　　　　　\n",
            "10: 0  0.54 👉應急車輛　　　　　　　　 0.53 👉警車（警報）　　　　　　 0.41 👉警笛　　　　　　　　　　 0.40 👉車輛　　　　　　　　　　 0.37 👉報警　　　　　　　　　　\n",
            "10: 5  0.25 👉報警　　　　　　　　　　 0.20 👉哨　　　　　　　　　　　 0.15 👉動物　　　　　　　　　　 0.15 👉蜂鳴器　　　　　　　　　 0.13 👉鳥　　　　　　　　　　　\n",
            "10:10  0.27 👉報警　　　　　　　　　　 0.16 👉哨　　　　　　　　　　　 0.14 👉動物　　　　　　　　　　 0.13 👉野生動物　　　　　　　　 0.12 👉警車（警報）　　　　　　\n",
            "10:15  0.52 👉警車（警報）　　　　　　 0.33 👉警笛　　　　　　　　　　 0.31 👉報警　　　　　　　　　　 0.28 👉應急車輛　　　　　　　　 0.14 👉機動車輛（道路）　　　　\n",
            "10:20  0.54 👉警車（警報）　　　　　　 0.53 👉應急車輛　　　　　　　　 0.43 👉警笛　　　　　　　　　　 0.41 👉車輛　　　　　　　　　　 0.38 👉報警　　　　　　　　　　\n",
            "10:25  0.30 👉報警　　　　　　　　　　 0.29 👉警車（警報）　　　　　　 0.21 👉警笛　　　　　　　　　　 0.19 👉應急車輛　　　　　　　　 0.17 👉動物　　　　　　　　　　\n",
            "10:30  0.39 👉報警　　　　　　　　　　 0.39 👉應急車輛　　　　　　　　 0.38 👉警車（警報）　　　　　　 0.30 👉警笛　　　　　　　　　　 0.27 👉車輛　　　　　　　　　　\n",
            "10:35  0.17 👉報警　　　　　　　　　　 0.16 👉哨　　　　　　　　　　　 0.16 👉動物　　　　　　　　　　 0.15 👉汽車防盜器　　　　　　　 0.12 👉野生動物　　　　　　　　\n",
            "10:40  0.50 👉應急車輛　　　　　　　　 0.44 👉車輛　　　　　　　　　　 0.36 👉消防車，消防車（警笛）　 0.33 👉機動車輛（道路）　　　　 0.30 👉警笛　　　　　　　　　　\n",
            "10:45  0.45 👉言語　　　　　　　　　　 0.09 👉車輛　　　　　　　　　　 0.06 👉警車（警報）　　　　　　 0.05 👉機動車輛（道路）　　　　 0.05 👉應急車輛　　　　　　　　\n",
            "10:50  0.41 👉警車（警報）　　　　　　 0.32 👉報警　　　　　　　　　　 0.29 👉警笛　　　　　　　　　　 0.22 👉應急車輛　　　　　　　　 0.13 👉汽車防盜器　　　　　　　\n",
            "10:55  0.42 👉應急車輛　　　　　　　　 0.37 👉警笛　　　　　　　　　　 0.36 👉報警　　　　　　　　　　 0.36 👉警車（警報）　　　　　　 0.25 👉機動車輛（道路）　　　　\n",
            "11: 0  0.23 👉報警　　　　　　　　　　 0.19 👉哨　　　　　　　　　　　 0.15 👉警車（警報）　　　　　　 0.13 👉汽車防盜器　　　　　　　 0.12 👉警笛　　　　　　　　　　\n",
            "11: 5  0.19 👉汽車防盜器　　　　　　　 0.15 👉動物　　　　　　　　　　 0.11 👉室外，農村或天然　　　　 0.09 👉野生動物　　　　　　　　 0.09 👉鳥　　　　　　　　　　　\n",
            "11:10  0.42 👉應急車輛　　　　　　　　 0.34 👉警車（警報）　　　　　　 0.30 👉機動車輛（道路）　　　　 0.29 👉車輛　　　　　　　　　　 0.28 👉警笛　　　　　　　　　　\n",
            "11:15  0.23 👉報警　　　　　　　　　　 0.18 👉哨　　　　　　　　　　　 0.16 👉動物　　　　　　　　　　 0.16 👉野生動物　　　　　　　　 0.15 👉鳥　　　　　　　　　　　\n",
            "11:20  0.34 👉哨　　　　　　　　　　　 0.30 👉野生動物　　　　　　　　 0.30 👉鳥　　　　　　　　　　　 0.29 👉動物　　　　　　　　　　 0.25 👉報警　　　　　　　　　　\n",
            "11:25  0.35 👉哨　　　　　　　　　　　 0.33 👉鳥　　　　　　　　　　　 0.32 👉動物　　　　　　　　　　 0.32 👉野生動物　　　　　　　　 0.25 👉報警　　　　　　　　　　\n",
            "11:30  0.21 👉警車（警報）　　　　　　 0.20 👉報警　　　　　　　　　　 0.17 👉哨　　　　　　　　　　　 0.17 👉動物　　　　　　　　　　 0.15 👉鳥　　　　　　　　　　　\n",
            "11:35  0.44 👉報警　　　　　　　　　　 0.42 👉警車（警報）　　　　　　 0.39 👉應急車輛　　　　　　　　 0.38 👉警笛　　　　　　　　　　 0.21 👉機動車輛（道路）　　　　\n",
            "11:40  0.72 👉應急車輛　　　　　　　　 0.49 👉警車（警報）　　　　　　 0.48 👉機動車輛（道路）　　　　 0.47 👉警笛　　　　　　　　　　 0.46 👉車輛　　　　　　　　　　\n",
            "11:45  0.23 👉言語　　　　　　　　　　 0.19 👉報警　　　　　　　　　　 0.15 👉哨　　　　　　　　　　　 0.14 👉應急車輛　　　　　　　　 0.14 👉警車（警報）　　　　　　\n",
            "11:50  0.34 👉言語　　　　　　　　　　 0.15 👉汽車防盜器　　　　　　　 0.14 👉車輛　　　　　　　　　　 0.11 👉應急車輛　　　　　　　　 0.11 👉報警　　　　　　　　　　\n",
            "11:55  0.46 👉警車（警報）　　　　　　 0.41 👉警笛　　　　　　　　　　 0.40 👉報警　　　　　　　　　　 0.35 👉應急車輛　　　　　　　　 0.24 👉機動車輛（道路）　　　　\n",
            "12: 0  0.76 👉警車（警報）　　　　　　 0.66 👉警笛　　　　　　　　　　 0.66 👉應急車輛　　　　　　　　 0.63 👉報警　　　　　　　　　　 0.43 👉機動車輛（道路）　　　　\n",
            "12: 5  0.39 👉警車（警報）　　　　　　 0.34 👉報警　　　　　　　　　　 0.30 👉警笛　　　　　　　　　　 0.28 👉應急車輛　　　　　　　　 0.21 👉機動車輛（道路）　　　　\n",
            "12:10  0.63 👉警車（警報）　　　　　　 0.54 👉警笛　　　　　　　　　　 0.53 👉應急車輛　　　　　　　　 0.52 👉報警　　　　　　　　　　 0.37 👉機動車輛（道路）　　　　\n",
            "12:15  0.40 👉警車（警報）　　　　　　 0.36 👉言語　　　　　　　　　　 0.33 👉應急車輛　　　　　　　　 0.32 👉警笛　　　　　　　　　　 0.29 👉報警　　　　　　　　　　\n",
            "12:20  0.57 👉應急車輛　　　　　　　　 0.55 👉報警　　　　　　　　　　 0.55 👉警笛　　　　　　　　　　 0.53 👉警車（警報）　　　　　　 0.33 👉機動車輛（道路）　　　　\n",
            "12:25  0.50 👉報警　　　　　　　　　　 0.49 👉應急車輛　　　　　　　　 0.44 👉警車（警報）　　　　　　 0.41 👉警笛　　　　　　　　　　 0.40 👉機動車輛（道路）　　　　\n",
            "12:30  0.63 👉警車（警報）　　　　　　 0.51 👉警笛　　　　　　　　　　 0.50 👉應急車輛　　　　　　　　 0.49 👉報警　　　　　　　　　　 0.31 👉機動車輛（道路）　　　　\n",
            "12:35  0.49 👉警車（警報）　　　　　　 0.42 👉報警　　　　　　　　　　 0.40 👉警笛　　　　　　　　　　 0.26 👉應急車輛　　　　　　　　 0.17 👉汽車防盜器　　　　　　　\n",
            "12:40  0.23 👉警車（警報）　　　　　　 0.20 👉報警　　　　　　　　　　 0.16 👉警笛　　　　　　　　　　 0.15 👉應急車輛　　　　　　　　 0.10 👉車輛　　　　　　　　　　\n",
            "12:45  0.37 👉警車（警報）　　　　　　 0.32 👉報警　　　　　　　　　　 0.31 👉警笛　　　　　　　　　　 0.18 👉應急車輛　　　　　　　　 0.08 👉機動車輛（道路）　　　　\n",
            "12:50  0.48 👉報警　　　　　　　　　　 0.46 👉應急車輛　　　　　　　　 0.46 👉警笛　　　　　　　　　　 0.34 👉警車（警報）　　　　　　 0.29 👉車輛　　　　　　　　　　\n",
            "12:55  0.35 👉應急車輛　　　　　　　　 0.30 👉警車（警報）　　　　　　 0.27 👉報警　　　　　　　　　　 0.26 👉警笛　　　　　　　　　　 0.23 👉車輛　　　　　　　　　　\n",
            "13: 0  0.40 👉應急車輛　　　　　　　　 0.33 👉警車（警報）　　　　　　 0.31 👉警笛　　　　　　　　　　 0.30 👉報警　　　　　　　　　　 0.28 👉車輛　　　　　　　　　　\n",
            "13: 5  0.49 👉報警　　　　　　　　　　 0.44 👉應急車輛　　　　　　　　 0.43 👉警笛　　　　　　　　　　 0.42 👉警車（警報）　　　　　　 0.31 👉機動車輛（道路）　　　　\n",
            "13:10  0.73 👉應急車輛　　　　　　　　 0.59 👉車輛　　　　　　　　　　 0.51 👉警車（警報）　　　　　　 0.51 👉機動車輛（道路）　　　　 0.47 👉警笛　　　　　　　　　　\n",
            "13:15  0.64 👉報警　　　　　　　　　　 0.55 👉警車（警報）　　　　　　 0.55 👉應急車輛　　　　　　　　 0.55 👉警笛　　　　　　　　　　 0.34 👉機動車輛（道路）　　　　\n",
            "\n",
            "消防車出勤鳴笛的震撼\n",
            "0: 5  0.42 👉車輛　　　　　　　　　　 0.36 👉機動車輛（道路）　　　　 0.32 👉應急車輛　　　　　　　　 0.19 👉警笛　　　　　　　　　　 0.18 👉報警　　　　　　　　　　\n",
            "0:10  0.52 👉報警　　　　　　　　　　 0.49 👉警笛　　　　　　　　　　 0.47 👉應急車輛　　　　　　　　 0.44 👉警車（警報）　　　　　　 0.33 👉車輛　　　　　　　　　　\n",
            "0:15  0.73 👉警笛　　　　　　　　　　 0.71 👉報警　　　　　　　　　　 0.58 👉應急車輛　　　　　　　　 0.56 👉警車（警報）　　　　　　 0.31 👉機動車輛（道路）　　　　\n",
            "0:20  0.71 👉應急車輛　　　　　　　　 0.59 👉警笛　　　　　　　　　　 0.56 👉報警　　　　　　　　　　 0.55 👉機動車輛（道路）　　　　 0.51 👉車輛　　　　　　　　　　\n",
            "0:25  0.68 👉應急車輛　　　　　　　　 0.52 👉機動車輛（道路）　　　　 0.50 👉車輛　　　　　　　　　　 0.45 👉警笛　　　　　　　　　　 0.43 👉報警　　　　　　　　　　\n",
            "0:30  0.51 👉應急車輛　　　　　　　　 0.38 👉機動車輛（道路）　　　　 0.36 👉車輛　　　　　　　　　　 0.32 👉警笛　　　　　　　　　　 0.30 👉報警　　　　　　　　　　\n",
            "\n",
            "台南市消防車緊急出動 Tainan City Fire Engine Response Demo\n",
            "0: 5  0.44 👉安靜　　　　　　　　　　 0.43 👉應急車輛　　　　　　　　 0.36 👉機動車輛（道路）　　　　 0.36 👉車輛　　　　　　　　　　 0.33 👉警車（警報）　　　　　　\n",
            "0:10  0.79 👉應急車輛　　　　　　　　 0.68 👉機動車輛（道路）　　　　 0.65 👉車輛　　　　　　　　　　 0.43 👉消防車，消防車（警笛）　 0.42 👉警車（警報）　　　　　　\n",
            "0:15  0.72 👉應急車輛　　　　　　　　 0.60 👉警笛　　　　　　　　　　 0.59 👉報警　　　　　　　　　　 0.59 👉機動車輛（道路）　　　　 0.53 👉警車（警報）　　　　　　\n",
            "0:20  0.78 👉應急車輛　　　　　　　　 0.65 👉機動車輛（道路）　　　　 0.61 👉車輛　　　　　　　　　　 0.50 👉警車（警報）　　　　　　 0.42 👉警笛　　　　　　　　　　\n",
            "0:25  0.76 👉應急車輛　　　　　　　　 0.63 👉車輛　　　　　　　　　　 0.61 👉機動車輛（道路）　　　　 0.57 👉警車（警報）　　　　　　 0.40 👉警笛　　　　　　　　　　\n",
            "0:30  0.77 👉應急車輛　　　　　　　　 0.71 👉警車（警報）　　　　　　 0.64 👉機動車輛（道路）　　　　 0.61 👉車輛　　　　　　　　　　 0.53 👉警笛　　　　　　　　　　\n",
            "0:35  0.78 👉應急車輛　　　　　　　　 0.65 👉機動車輛（道路）　　　　 0.62 👉車輛　　　　　　　　　　 0.60 👉警車（警報）　　　　　　 0.47 👉警笛　　　　　　　　　　\n",
            "0:40  0.74 👉應急車輛　　　　　　　　 0.70 👉警車（警報）　　　　　　 0.63 👉警笛　　　　　　　　　　 0.61 👉報警　　　　　　　　　　 0.58 👉機動車輛（道路）　　　　\n",
            "0:45  0.73 👉應急車輛　　　　　　　　 0.63 👉警車（警報）　　　　　　 0.54 👉機動車輛（道路）　　　　 0.52 👉警笛　　　　　　　　　　 0.51 👉車輛　　　　　　　　　　\n",
            "0:50  0.75 👉應急車輛　　　　　　　　 0.59 👉警車（警報）　　　　　　 0.58 👉機動車輛（道路）　　　　 0.50 👉警笛　　　　　　　　　　 0.49 👉車輛　　　　　　　　　　\n"
          ],
          "name": "stdout"
        }
      ]
    }
  ]
}