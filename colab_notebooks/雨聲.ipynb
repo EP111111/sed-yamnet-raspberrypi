{
  "nbformat": 4,
  "nbformat_minor": 0,
  "metadata": {
    "colab": {
      "name": "雨聲",
      "provenance": [],
      "collapsed_sections": [
        "7-LTF2CRXAKB",
        "2rYMkJWPLn4v",
        "0ugq6ZxBXxxX",
        "IhypBTHIXJ-l",
        "Uvj-8tXAfY-P",
        "_LWgDBwXYD7W",
        "AlRCS3zSf3wV",
        "I-ZLe8HlUSVz"
      ],
      "authorship_tag": "ABX9TyPkUfFXpGgGtnI8Us5IKGwr",
      "include_colab_link": true
    },
    "kernelspec": {
      "display_name": "Python 3",
      "name": "python3"
    }
  },
  "cells": [
    {
      "cell_type": "markdown",
      "metadata": {
        "id": "view-in-github",
        "colab_type": "text"
      },
      "source": [
        "<a href=\"https://colab.research.google.com/github/x1001000/raspberrypi3-yamnet-sed/blob/main/colab_notebooks/%E9%9B%A8%E8%81%B2.ipynb\" target=\"_parent\"><img src=\"https://colab.research.google.com/assets/colab-badge.svg\" alt=\"Open In Colab\"/></a>"
      ]
    },
    {
      "cell_type": "markdown",
      "metadata": {
        "id": "7-LTF2CRXAKB"
      },
      "source": [
        "# At runtime reset"
      ]
    },
    {
      "cell_type": "markdown",
      "metadata": {
        "id": "2rYMkJWPLn4v"
      },
      "source": [
        "## install"
      ]
    },
    {
      "cell_type": "code",
      "metadata": {
        "colab": {
          "base_uri": "https://localhost:8080/"
        },
        "id": "xiv9VrNWNB7S",
        "outputId": "2e6e82af-20b4-43c9-af30-630f1442d767"
      },
      "source": [
        "!pip install soundfile\n",
        "!pip install git+https://github.com/nficano/pytube\n",
        "!pip install pydub"
      ],
      "execution_count": null,
      "outputs": [
        {
          "output_type": "stream",
          "text": [
            "Requirement already satisfied: soundfile in /usr/local/lib/python3.7/dist-packages (0.10.3.post1)\n",
            "Requirement already satisfied: cffi>=1.0 in /usr/local/lib/python3.7/dist-packages (from soundfile) (1.14.5)\n",
            "Requirement already satisfied: pycparser in /usr/local/lib/python3.7/dist-packages (from cffi>=1.0->soundfile) (2.20)\n",
            "Collecting git+https://github.com/nficano/pytube\n",
            "  Cloning https://github.com/nficano/pytube to /tmp/pip-req-build-5bcugynn\n",
            "  Running command git clone -q https://github.com/nficano/pytube /tmp/pip-req-build-5bcugynn\n",
            "Building wheels for collected packages: pytube\n",
            "  Building wheel for pytube (setup.py) ... \u001b[?25l\u001b[?25hdone\n",
            "  Created wheel for pytube: filename=pytube-10.7.1-cp37-none-any.whl size=42890 sha256=b9120f4c00d3c7c28cd02a8cc0e644c45a911a1bec91b92c8ba15a308c41f397\n",
            "  Stored in directory: /tmp/pip-ephem-wheel-cache-9wq9r2tz/wheels/44/da/40/3b5e03abe33a91895343814fb44b309512375408f4a909555b\n",
            "Successfully built pytube\n",
            "Installing collected packages: pytube\n",
            "Successfully installed pytube-10.7.1\n",
            "Collecting pydub\n",
            "  Downloading https://files.pythonhosted.org/packages/a6/53/d78dc063216e62fc55f6b2eebb447f6a4b0a59f55c8406376f76bf959b08/pydub-0.25.1-py2.py3-none-any.whl\n",
            "Installing collected packages: pydub\n",
            "Successfully installed pydub-0.25.1\n"
          ],
          "name": "stdout"
        }
      ]
    },
    {
      "cell_type": "markdown",
      "metadata": {
        "id": "0ugq6ZxBXxxX"
      },
      "source": [
        "## download YAMNet (15M bytes)"
      ]
    },
    {
      "cell_type": "code",
      "metadata": {
        "colab": {
          "base_uri": "https://localhost:8080/"
        },
        "id": "3LQPb6xDMXXN",
        "outputId": "9dbe2029-a673-440b-fd37-13b8c3891455"
      },
      "source": [
        "# !curl -O https://storage.googleapis.com/audioset/yamnet.h5\n",
        "# !git clone https://github.com/tensorflow/models\n",
        "# !cp models/research/audioset/yamnet/* .\n",
        "!git clone https://github.com/x1001000/raspberrypi3-yamnet-sed\n",
        "!cp raspberrypi3-yamnet-sed/yamnet/* ."
      ],
      "execution_count": null,
      "outputs": [
        {
          "output_type": "stream",
          "text": [
            "Cloning into 'raspberrypi3-yamnet-sed'...\n",
            "remote: Enumerating objects: 352, done.\u001b[K\n",
            "remote: Counting objects: 100% (90/90), done.\u001b[K\n",
            "remote: Compressing objects: 100% (81/81), done.\u001b[K\n",
            "remote: Total 352 (delta 48), reused 20 (delta 9), pack-reused 262\u001b[K\n",
            "Receiving objects: 100% (352/352), 52.03 MiB | 25.42 MiB/s, done.\n",
            "Resolving deltas: 100% (200/200), done.\n"
          ],
          "name": "stdout"
        }
      ]
    },
    {
      "cell_type": "markdown",
      "metadata": {
        "id": "IhypBTHIXJ-l"
      },
      "source": [
        "# At runtime restart"
      ]
    },
    {
      "cell_type": "markdown",
      "metadata": {
        "id": "Uvj-8tXAfY-P"
      },
      "source": [
        "## import"
      ]
    },
    {
      "cell_type": "code",
      "metadata": {
        "id": "2JF8vxpYYO3y"
      },
      "source": [
        "import numpy as np\n",
        "import resampy\n",
        "import soundfile as sf\n",
        "import tensorflow as tf\n",
        "\n",
        "import params as yamnet_params\n",
        "import yamnet as yamnet_model\n",
        "\n",
        "from tensorflow import keras\n",
        "from tensorflow.keras import layers\n",
        "from tensorflow.keras import models\n",
        "\n",
        "from pytube import Playlist, YouTube\n",
        "from pydub import AudioSegment\n",
        "\n",
        "from IPython.display import display, Audio\n",
        "from time import sleep"
      ],
      "execution_count": null,
      "outputs": []
    },
    {
      "cell_type": "markdown",
      "metadata": {
        "id": "_LWgDBwXYD7W"
      },
      "source": [
        "## load YAMNet (3.7M params)"
      ]
    },
    {
      "cell_type": "code",
      "metadata": {
        "colab": {
          "base_uri": "https://localhost:8080/"
        },
        "id": "a8jdW7vqblgV",
        "outputId": "c89cdf13-babd-4c82-e241-3b5a1da805ee"
      },
      "source": [
        "params = yamnet_params.Params()\n",
        "yamnet = yamnet_model.yamnet_frames_model(params)\n",
        "yamnet.load_weights('yamnet.h5')\n",
        "yamnet_classes = yamnet_model.class_names('yamnet_class_map_zh-tw.csv')\n",
        "yamnet_classes = np.concatenate([yamnet_classes, np.array(['台灣垃圾車'])])\n",
        "\n",
        "yamnet.summary()"
      ],
      "execution_count": null,
      "outputs": [
        {
          "output_type": "stream",
          "text": [
            "Model: \"yamnet_frames\"\n",
            "__________________________________________________________________________________________________\n",
            "Layer (type)                    Output Shape         Param #     Connected to                     \n",
            "==================================================================================================\n",
            "input_1 (InputLayer)            [(None,)]            0                                            \n",
            "__________________________________________________________________________________________________\n",
            "tf.compat.v1.shape (TFOpLambda) (1,)                 0           input_1[0][0]                    \n",
            "__________________________________________________________________________________________________\n",
            "tf.__operators__.getitem (Slici ()                   0           tf.compat.v1.shape[0][0]         \n",
            "__________________________________________________________________________________________________\n",
            "tf.math.maximum_1 (TFOpLambda)  ()                   0           tf.__operators__.getitem[0][0]   \n",
            "__________________________________________________________________________________________________\n",
            "tf.math.subtract_1 (TFOpLambda) ()                   0           tf.math.maximum_1[0][0]          \n",
            "__________________________________________________________________________________________________\n",
            "tf.cast (TFOpLambda)            ()                   0           tf.math.subtract_1[0][0]         \n",
            "__________________________________________________________________________________________________\n",
            "tf.math.truediv (TFOpLambda)    ()                   0           tf.cast[0][0]                    \n",
            "__________________________________________________________________________________________________\n",
            "tf.math.ceil (TFOpLambda)       ()                   0           tf.math.truediv[0][0]            \n",
            "__________________________________________________________________________________________________\n",
            "tf.cast_1 (TFOpLambda)          ()                   0           tf.math.ceil[0][0]               \n",
            "__________________________________________________________________________________________________\n",
            "tf.math.subtract (TFOpLambda)   ()                   0           tf.__operators__.getitem[0][0]   \n",
            "__________________________________________________________________________________________________\n",
            "tf.math.multiply (TFOpLambda)   ()                   0           tf.cast_1[0][0]                  \n",
            "__________________________________________________________________________________________________\n",
            "tf.math.maximum (TFOpLambda)    ()                   0           tf.math.subtract[0][0]           \n",
            "__________________________________________________________________________________________________\n",
            "tf.math.subtract_2 (TFOpLambda) ()                   0           tf.math.multiply[0][0]           \n",
            "                                                                 tf.math.subtract_1[0][0]         \n",
            "__________________________________________________________________________________________________\n",
            "tf.__operators__.add (TFOpLambd ()                   0           tf.math.maximum[0][0]            \n",
            "                                                                 tf.math.subtract_2[0][0]         \n",
            "__________________________________________________________________________________________________\n",
            "tf.compat.v1.pad (TFOpLambda)   (None,)              0           input_1[0][0]                    \n",
            "                                                                 tf.__operators__.add[0][0]       \n",
            "__________________________________________________________________________________________________\n",
            "tf.signal.stft (TFOpLambda)     (None, 257)          0           tf.compat.v1.pad[0][0]           \n",
            "__________________________________________________________________________________________________\n",
            "tf.math.abs (TFOpLambda)        (None, 257)          0           tf.signal.stft[0][0]             \n",
            "__________________________________________________________________________________________________\n",
            "tf.linalg.matmul (TFOpLambda)   (None, 64)           0           tf.math.abs[0][0]                \n",
            "__________________________________________________________________________________________________\n",
            "tf.__operators__.add_1 (TFOpLam (None, 64)           0           tf.linalg.matmul[0][0]           \n",
            "__________________________________________________________________________________________________\n",
            "tf.math.log (TFOpLambda)        (None, 64)           0           tf.__operators__.add_1[0][0]     \n",
            "__________________________________________________________________________________________________\n",
            "tf.signal.frame (TFOpLambda)    (None, 96, 64)       0           tf.math.log[0][0]                \n",
            "__________________________________________________________________________________________________\n",
            "reshape (Reshape)               (None, 96, 64, 1)    0           tf.signal.frame[0][0]            \n",
            "__________________________________________________________________________________________________\n",
            "layer1/conv (Conv2D)            (None, 48, 32, 32)   288         reshape[0][0]                    \n",
            "__________________________________________________________________________________________________\n",
            "layer1/conv/bn (BatchNormalizat (None, 48, 32, 32)   96          layer1/conv[0][0]                \n",
            "__________________________________________________________________________________________________\n",
            "layer1/relu (ReLU)              (None, 48, 32, 32)   0           layer1/conv/bn[0][0]             \n",
            "__________________________________________________________________________________________________\n",
            "layer2/depthwise_conv (Depthwis (None, 48, 32, 32)   288         layer1/relu[0][0]                \n",
            "__________________________________________________________________________________________________\n",
            "layer2/depthwise_conv/bn (Batch (None, 48, 32, 32)   96          layer2/depthwise_conv[0][0]      \n",
            "__________________________________________________________________________________________________\n",
            "layer2/depthwise_conv/relu (ReL (None, 48, 32, 32)   0           layer2/depthwise_conv/bn[0][0]   \n",
            "__________________________________________________________________________________________________\n",
            "layer2/pointwise_conv (Conv2D)  (None, 48, 32, 64)   2048        layer2/depthwise_conv/relu[0][0] \n",
            "__________________________________________________________________________________________________\n",
            "layer2/pointwise_conv/bn (Batch (None, 48, 32, 64)   192         layer2/pointwise_conv[0][0]      \n",
            "__________________________________________________________________________________________________\n",
            "layer2/pointwise_conv/relu (ReL (None, 48, 32, 64)   0           layer2/pointwise_conv/bn[0][0]   \n",
            "__________________________________________________________________________________________________\n",
            "layer3/depthwise_conv (Depthwis (None, 24, 16, 64)   576         layer2/pointwise_conv/relu[0][0] \n",
            "__________________________________________________________________________________________________\n",
            "layer3/depthwise_conv/bn (Batch (None, 24, 16, 64)   192         layer3/depthwise_conv[0][0]      \n",
            "__________________________________________________________________________________________________\n",
            "layer3/depthwise_conv/relu (ReL (None, 24, 16, 64)   0           layer3/depthwise_conv/bn[0][0]   \n",
            "__________________________________________________________________________________________________\n",
            "layer3/pointwise_conv (Conv2D)  (None, 24, 16, 128)  8192        layer3/depthwise_conv/relu[0][0] \n",
            "__________________________________________________________________________________________________\n",
            "layer3/pointwise_conv/bn (Batch (None, 24, 16, 128)  384         layer3/pointwise_conv[0][0]      \n",
            "__________________________________________________________________________________________________\n",
            "layer3/pointwise_conv/relu (ReL (None, 24, 16, 128)  0           layer3/pointwise_conv/bn[0][0]   \n",
            "__________________________________________________________________________________________________\n",
            "layer4/depthwise_conv (Depthwis (None, 24, 16, 128)  1152        layer3/pointwise_conv/relu[0][0] \n",
            "__________________________________________________________________________________________________\n",
            "layer4/depthwise_conv/bn (Batch (None, 24, 16, 128)  384         layer4/depthwise_conv[0][0]      \n",
            "__________________________________________________________________________________________________\n",
            "layer4/depthwise_conv/relu (ReL (None, 24, 16, 128)  0           layer4/depthwise_conv/bn[0][0]   \n",
            "__________________________________________________________________________________________________\n",
            "layer4/pointwise_conv (Conv2D)  (None, 24, 16, 128)  16384       layer4/depthwise_conv/relu[0][0] \n",
            "__________________________________________________________________________________________________\n",
            "layer4/pointwise_conv/bn (Batch (None, 24, 16, 128)  384         layer4/pointwise_conv[0][0]      \n",
            "__________________________________________________________________________________________________\n",
            "layer4/pointwise_conv/relu (ReL (None, 24, 16, 128)  0           layer4/pointwise_conv/bn[0][0]   \n",
            "__________________________________________________________________________________________________\n",
            "layer5/depthwise_conv (Depthwis (None, 12, 8, 128)   1152        layer4/pointwise_conv/relu[0][0] \n",
            "__________________________________________________________________________________________________\n",
            "layer5/depthwise_conv/bn (Batch (None, 12, 8, 128)   384         layer5/depthwise_conv[0][0]      \n",
            "__________________________________________________________________________________________________\n",
            "layer5/depthwise_conv/relu (ReL (None, 12, 8, 128)   0           layer5/depthwise_conv/bn[0][0]   \n",
            "__________________________________________________________________________________________________\n",
            "layer5/pointwise_conv (Conv2D)  (None, 12, 8, 256)   32768       layer5/depthwise_conv/relu[0][0] \n",
            "__________________________________________________________________________________________________\n",
            "layer5/pointwise_conv/bn (Batch (None, 12, 8, 256)   768         layer5/pointwise_conv[0][0]      \n",
            "__________________________________________________________________________________________________\n",
            "layer5/pointwise_conv/relu (ReL (None, 12, 8, 256)   0           layer5/pointwise_conv/bn[0][0]   \n",
            "__________________________________________________________________________________________________\n",
            "layer6/depthwise_conv (Depthwis (None, 12, 8, 256)   2304        layer5/pointwise_conv/relu[0][0] \n",
            "__________________________________________________________________________________________________\n",
            "layer6/depthwise_conv/bn (Batch (None, 12, 8, 256)   768         layer6/depthwise_conv[0][0]      \n",
            "__________________________________________________________________________________________________\n",
            "layer6/depthwise_conv/relu (ReL (None, 12, 8, 256)   0           layer6/depthwise_conv/bn[0][0]   \n",
            "__________________________________________________________________________________________________\n",
            "layer6/pointwise_conv (Conv2D)  (None, 12, 8, 256)   65536       layer6/depthwise_conv/relu[0][0] \n",
            "__________________________________________________________________________________________________\n",
            "layer6/pointwise_conv/bn (Batch (None, 12, 8, 256)   768         layer6/pointwise_conv[0][0]      \n",
            "__________________________________________________________________________________________________\n",
            "layer6/pointwise_conv/relu (ReL (None, 12, 8, 256)   0           layer6/pointwise_conv/bn[0][0]   \n",
            "__________________________________________________________________________________________________\n",
            "layer7/depthwise_conv (Depthwis (None, 6, 4, 256)    2304        layer6/pointwise_conv/relu[0][0] \n",
            "__________________________________________________________________________________________________\n",
            "layer7/depthwise_conv/bn (Batch (None, 6, 4, 256)    768         layer7/depthwise_conv[0][0]      \n",
            "__________________________________________________________________________________________________\n",
            "layer7/depthwise_conv/relu (ReL (None, 6, 4, 256)    0           layer7/depthwise_conv/bn[0][0]   \n",
            "__________________________________________________________________________________________________\n",
            "layer7/pointwise_conv (Conv2D)  (None, 6, 4, 512)    131072      layer7/depthwise_conv/relu[0][0] \n",
            "__________________________________________________________________________________________________\n",
            "layer7/pointwise_conv/bn (Batch (None, 6, 4, 512)    1536        layer7/pointwise_conv[0][0]      \n",
            "__________________________________________________________________________________________________\n",
            "layer7/pointwise_conv/relu (ReL (None, 6, 4, 512)    0           layer7/pointwise_conv/bn[0][0]   \n",
            "__________________________________________________________________________________________________\n",
            "layer8/depthwise_conv (Depthwis (None, 6, 4, 512)    4608        layer7/pointwise_conv/relu[0][0] \n",
            "__________________________________________________________________________________________________\n",
            "layer8/depthwise_conv/bn (Batch (None, 6, 4, 512)    1536        layer8/depthwise_conv[0][0]      \n",
            "__________________________________________________________________________________________________\n",
            "layer8/depthwise_conv/relu (ReL (None, 6, 4, 512)    0           layer8/depthwise_conv/bn[0][0]   \n",
            "__________________________________________________________________________________________________\n",
            "layer8/pointwise_conv (Conv2D)  (None, 6, 4, 512)    262144      layer8/depthwise_conv/relu[0][0] \n",
            "__________________________________________________________________________________________________\n",
            "layer8/pointwise_conv/bn (Batch (None, 6, 4, 512)    1536        layer8/pointwise_conv[0][0]      \n",
            "__________________________________________________________________________________________________\n",
            "layer8/pointwise_conv/relu (ReL (None, 6, 4, 512)    0           layer8/pointwise_conv/bn[0][0]   \n",
            "__________________________________________________________________________________________________\n",
            "layer9/depthwise_conv (Depthwis (None, 6, 4, 512)    4608        layer8/pointwise_conv/relu[0][0] \n",
            "__________________________________________________________________________________________________\n",
            "layer9/depthwise_conv/bn (Batch (None, 6, 4, 512)    1536        layer9/depthwise_conv[0][0]      \n",
            "__________________________________________________________________________________________________\n",
            "layer9/depthwise_conv/relu (ReL (None, 6, 4, 512)    0           layer9/depthwise_conv/bn[0][0]   \n",
            "__________________________________________________________________________________________________\n",
            "layer9/pointwise_conv (Conv2D)  (None, 6, 4, 512)    262144      layer9/depthwise_conv/relu[0][0] \n",
            "__________________________________________________________________________________________________\n",
            "layer9/pointwise_conv/bn (Batch (None, 6, 4, 512)    1536        layer9/pointwise_conv[0][0]      \n",
            "__________________________________________________________________________________________________\n",
            "layer9/pointwise_conv/relu (ReL (None, 6, 4, 512)    0           layer9/pointwise_conv/bn[0][0]   \n",
            "__________________________________________________________________________________________________\n",
            "layer10/depthwise_conv (Depthwi (None, 6, 4, 512)    4608        layer9/pointwise_conv/relu[0][0] \n",
            "__________________________________________________________________________________________________\n",
            "layer10/depthwise_conv/bn (Batc (None, 6, 4, 512)    1536        layer10/depthwise_conv[0][0]     \n",
            "__________________________________________________________________________________________________\n",
            "layer10/depthwise_conv/relu (Re (None, 6, 4, 512)    0           layer10/depthwise_conv/bn[0][0]  \n",
            "__________________________________________________________________________________________________\n",
            "layer10/pointwise_conv (Conv2D) (None, 6, 4, 512)    262144      layer10/depthwise_conv/relu[0][0]\n",
            "__________________________________________________________________________________________________\n",
            "layer10/pointwise_conv/bn (Batc (None, 6, 4, 512)    1536        layer10/pointwise_conv[0][0]     \n",
            "__________________________________________________________________________________________________\n",
            "layer10/pointwise_conv/relu (Re (None, 6, 4, 512)    0           layer10/pointwise_conv/bn[0][0]  \n",
            "__________________________________________________________________________________________________\n",
            "layer11/depthwise_conv (Depthwi (None, 6, 4, 512)    4608        layer10/pointwise_conv/relu[0][0]\n",
            "__________________________________________________________________________________________________\n",
            "layer11/depthwise_conv/bn (Batc (None, 6, 4, 512)    1536        layer11/depthwise_conv[0][0]     \n",
            "__________________________________________________________________________________________________\n",
            "layer11/depthwise_conv/relu (Re (None, 6, 4, 512)    0           layer11/depthwise_conv/bn[0][0]  \n",
            "__________________________________________________________________________________________________\n",
            "layer11/pointwise_conv (Conv2D) (None, 6, 4, 512)    262144      layer11/depthwise_conv/relu[0][0]\n",
            "__________________________________________________________________________________________________\n",
            "layer11/pointwise_conv/bn (Batc (None, 6, 4, 512)    1536        layer11/pointwise_conv[0][0]     \n",
            "__________________________________________________________________________________________________\n",
            "layer11/pointwise_conv/relu (Re (None, 6, 4, 512)    0           layer11/pointwise_conv/bn[0][0]  \n",
            "__________________________________________________________________________________________________\n",
            "layer12/depthwise_conv (Depthwi (None, 6, 4, 512)    4608        layer11/pointwise_conv/relu[0][0]\n",
            "__________________________________________________________________________________________________\n",
            "layer12/depthwise_conv/bn (Batc (None, 6, 4, 512)    1536        layer12/depthwise_conv[0][0]     \n",
            "__________________________________________________________________________________________________\n",
            "layer12/depthwise_conv/relu (Re (None, 6, 4, 512)    0           layer12/depthwise_conv/bn[0][0]  \n",
            "__________________________________________________________________________________________________\n",
            "layer12/pointwise_conv (Conv2D) (None, 6, 4, 512)    262144      layer12/depthwise_conv/relu[0][0]\n",
            "__________________________________________________________________________________________________\n",
            "layer12/pointwise_conv/bn (Batc (None, 6, 4, 512)    1536        layer12/pointwise_conv[0][0]     \n",
            "__________________________________________________________________________________________________\n",
            "layer12/pointwise_conv/relu (Re (None, 6, 4, 512)    0           layer12/pointwise_conv/bn[0][0]  \n",
            "__________________________________________________________________________________________________\n",
            "layer13/depthwise_conv (Depthwi (None, 3, 2, 512)    4608        layer12/pointwise_conv/relu[0][0]\n",
            "__________________________________________________________________________________________________\n",
            "layer13/depthwise_conv/bn (Batc (None, 3, 2, 512)    1536        layer13/depthwise_conv[0][0]     \n",
            "__________________________________________________________________________________________________\n",
            "layer13/depthwise_conv/relu (Re (None, 3, 2, 512)    0           layer13/depthwise_conv/bn[0][0]  \n",
            "__________________________________________________________________________________________________\n",
            "layer13/pointwise_conv (Conv2D) (None, 3, 2, 1024)   524288      layer13/depthwise_conv/relu[0][0]\n",
            "__________________________________________________________________________________________________\n",
            "layer13/pointwise_conv/bn (Batc (None, 3, 2, 1024)   3072        layer13/pointwise_conv[0][0]     \n",
            "__________________________________________________________________________________________________\n",
            "layer13/pointwise_conv/relu (Re (None, 3, 2, 1024)   0           layer13/pointwise_conv/bn[0][0]  \n",
            "__________________________________________________________________________________________________\n",
            "layer14/depthwise_conv (Depthwi (None, 3, 2, 1024)   9216        layer13/pointwise_conv/relu[0][0]\n",
            "__________________________________________________________________________________________________\n",
            "layer14/depthwise_conv/bn (Batc (None, 3, 2, 1024)   3072        layer14/depthwise_conv[0][0]     \n",
            "__________________________________________________________________________________________________\n",
            "layer14/depthwise_conv/relu (Re (None, 3, 2, 1024)   0           layer14/depthwise_conv/bn[0][0]  \n",
            "__________________________________________________________________________________________________\n",
            "layer14/pointwise_conv (Conv2D) (None, 3, 2, 1024)   1048576     layer14/depthwise_conv/relu[0][0]\n",
            "__________________________________________________________________________________________________\n",
            "layer14/pointwise_conv/bn (Batc (None, 3, 2, 1024)   3072        layer14/pointwise_conv[0][0]     \n",
            "__________________________________________________________________________________________________\n",
            "layer14/pointwise_conv/relu (Re (None, 3, 2, 1024)   0           layer14/pointwise_conv/bn[0][0]  \n",
            "__________________________________________________________________________________________________\n",
            "global_average_pooling2d (Globa (None, 1024)         0           layer14/pointwise_conv/relu[0][0]\n",
            "__________________________________________________________________________________________________\n",
            "dense (Dense)                   (None, 521)          534025      global_average_pooling2d[0][0]   \n",
            "__________________________________________________________________________________________________\n",
            "activation (Activation)         (None, 521)          0           dense[0][0]                      \n",
            "==================================================================================================\n",
            "Total params: 3,751,369\n",
            "Trainable params: 3,729,481\n",
            "Non-trainable params: 21,888\n",
            "__________________________________________________________________________________________________\n"
          ],
          "name": "stdout"
        }
      ]
    },
    {
      "cell_type": "markdown",
      "metadata": {
        "id": "AlRCS3zSf3wV"
      },
      "source": [
        "## def data_from_YouTube(url)"
      ]
    },
    {
      "cell_type": "code",
      "metadata": {
        "id": "ylL8GWHrIhgF"
      },
      "source": [
        "def data_from_YouTube(url):\n",
        "    title = YouTube(url).title\n",
        "    stream = YouTube(url).streams.get_audio_only()\n",
        "    if stream:\n",
        "        default_filename = stream.default_filename\n",
        "        print(stream.download(), '✅已下載，匯出wav檔...', end='')\n",
        "        AudioSegment.from_file(default_filename).export(default_filename+'.wav', format='wav')\n",
        "        print('匯出waveform陣列...')\n",
        "        file_name = default_filename+'.wav'\n",
        "\n",
        "        # https://github.com/tensorflow/models/blob/master/research/audioset/yamnet/inference.py#L40\n",
        "        wav_data, sr = sf.read(file_name, dtype=np.int16)\n",
        "        assert wav_data.dtype == np.int16, 'Bad sample type: %r' % wav_data.dtype\n",
        "        waveform = wav_data / tf.int16.max#32768.0  # Convert to [-1.0, +1.0]\n",
        "        waveform = waveform.astype('float32')\n",
        "\n",
        "        # Convert to mono and the sample rate expected by YAMNet.\n",
        "        if len(waveform.shape) > 1:\n",
        "            waveform = np.mean(waveform, axis=1)\n",
        "        if sr != params.sample_rate:\n",
        "            waveform = resampy.resample(waveform, sr, params.sample_rate)\n",
        "        \n",
        "        return title, waveform\n",
        "    else:\n",
        "        print(f'No audio_only stream from {title}!')"
      ],
      "execution_count": null,
      "outputs": []
    },
    {
      "cell_type": "markdown",
      "metadata": {
        "id": "mMEO5scnhhqb"
      },
      "source": [
        "## def data_from_Playlist(url)"
      ]
    },
    {
      "cell_type": "code",
      "metadata": {
        "id": "NF59TimwcHQY"
      },
      "source": [
        "def data_from_Playlist(url, begin=1, end=None):\n",
        "    titles = []\n",
        "    waveforms = []\n",
        "    for url in Playlist(url).video_urls[begin-1:end]:\n",
        "        title, waveform = data_from_YouTube(url)\n",
        "        waveforms.append(waveform)\n",
        "        titles.append(title)\n",
        "        sleep(10) # HTTP 429 hack\n",
        "    return titles, waveforms"
      ],
      "execution_count": null,
      "outputs": []
    },
    {
      "cell_type": "markdown",
      "metadata": {
        "id": "e7KbG_101iQ6"
      },
      "source": [
        "# Run inference on a playlist w/wo custom output layer"
      ]
    },
    {
      "cell_type": "markdown",
      "metadata": {
        "id": "I-ZLe8HlUSVz"
      },
      "source": [
        "## load the model as the output layer"
      ]
    },
    {
      "cell_type": "code",
      "metadata": {
        "id": "2rxydNGtUxL7"
      },
      "source": [
        "model = models.load_model('20210316-3.h5')"
      ],
      "execution_count": null,
      "outputs": []
    },
    {
      "cell_type": "markdown",
      "metadata": {
        "id": "qDnhdm9a9f7y"
      },
      "source": [
        "## Run 5s MA inference"
      ]
    },
    {
      "cell_type": "code",
      "metadata": {
        "colab": {
          "base_uri": "https://localhost:8080/"
        },
        "id": "7b1lgkWWKEPb",
        "outputId": "0d000254-e8fc-493d-8c5c-cc6ab15d6947"
      },
      "source": [
        "playlist = ['https://www.youtube.com/playlist?list=PL0Q2eQA7p-wTWf8KtSNes33asI9Nc4iRA'] # 雨聲\n",
        "\n",
        "MA = 5\n",
        "SR = int(params.sample_rate)\n",
        "\n",
        "titles, waveforms = data_from_Playlist(*playlist)\n",
        "print('\\nRunning inference...')\n",
        "for title, waveform in zip(titles, waveforms):\n",
        "    print('\\n'+title)\n",
        "    #display(Audio(waveform, rate=SR)) # crashes if waveform is big\n",
        "    for i in range(MA, len(waveform)//SR, MA):\n",
        "        scores, embeddings, spectrogram = yamnet(waveform[(i-MA)*SR:i*SR])\n",
        "        # Scores is a matrix of (time_frames, num_classes) classifier scores.\n",
        "        # Average them along time to get an overall classifier output for the clip.\n",
        "        prediction = np.mean(scores[:-1], axis=0) # last one scores comes from insufficient samples\n",
        "        # w👇 wo☝️\n",
        "        # prediction = np.mean(model.predict(embeddings[:-1]), axis=0)\n",
        "        # Report the highest-scoring classes and their scores.\n",
        "        top5 = np.argsort(prediction)[::-1][:5]\n",
        "        print(f'{i//60}:{i%60:2d}',\n",
        "            ''.join(f\" {prediction[i]:.2f} 👉{yamnet_classes[i][:12].ljust(12, '　')}\" for i in top5))"
      ],
      "execution_count": null,
      "outputs": [
        {
          "output_type": "stream",
          "text": [
            "/content/フリー効果音『雨』.mp4 ✅已下載，匯出wav檔...匯出waveform陣列...\n",
            "/content/Severe Thunder Storm.mp4 ✅已下載，匯出wav檔...匯出waveform陣列...\n",
            "\n",
            "Running inference...\n",
            "\n",
            "フリー効果音『雨』\n",
            "0: 5  0.79 👉雨　　　　　　　　　　　 0.78 👉水　　　　　　　　　　　 0.60 👉雨表面上　　　　　　　　 0.51 👉雨滴　　　　　　　　　　 0.13 👉流　　　　　　　　　　　\n",
            "0:10  0.78 👉雨　　　　　　　　　　　 0.74 👉水　　　　　　　　　　　 0.61 👉雨表面上　　　　　　　　 0.52 👉雨滴　　　　　　　　　　 0.07 👉流　　　　　　　　　　　\n",
            "0:15  0.85 👉雨　　　　　　　　　　　 0.79 👉水　　　　　　　　　　　 0.65 👉雨表面上　　　　　　　　 0.53 👉雨滴　　　　　　　　　　 0.09 👉流　　　　　　　　　　　\n",
            "0:20  0.87 👉雨　　　　　　　　　　　 0.82 👉水　　　　　　　　　　　 0.70 👉雨表面上　　　　　　　　 0.54 👉雨滴　　　　　　　　　　 0.08 👉流　　　　　　　　　　　\n",
            "0:25  0.74 👉雨　　　　　　　　　　　 0.60 👉水　　　　　　　　　　　 0.57 👉雨表面上　　　　　　　　 0.47 👉雨滴　　　　　　　　　　 0.12 👉火　　　　　　　　　　　\n",
            "0:30  0.85 👉雨　　　　　　　　　　　 0.83 👉水　　　　　　　　　　　 0.66 👉雨表面上　　　　　　　　 0.59 👉雨滴　　　　　　　　　　 0.07 👉流　　　　　　　　　　　\n",
            "0:35  0.78 👉雨　　　　　　　　　　　 0.72 👉水　　　　　　　　　　　 0.59 👉雨表面上　　　　　　　　 0.52 👉雨滴　　　　　　　　　　 0.09 👉火　　　　　　　　　　　\n",
            "0:40  0.91 👉雨　　　　　　　　　　　 0.82 👉水　　　　　　　　　　　 0.72 👉雨表面上　　　　　　　　 0.58 👉雨滴　　　　　　　　　　 0.06 👉火　　　　　　　　　　　\n",
            "0:45  0.93 👉雨　　　　　　　　　　　 0.90 👉水　　　　　　　　　　　 0.78 👉雨表面上　　　　　　　　 0.65 👉雨滴　　　　　　　　　　 0.03 👉流　　　　　　　　　　　\n",
            "0:50  0.84 👉雨　　　　　　　　　　　 0.74 👉水　　　　　　　　　　　 0.67 👉雨表面上　　　　　　　　 0.54 👉雨滴　　　　　　　　　　 0.10 👉火　　　　　　　　　　　\n",
            "0:55  0.69 👉水　　　　　　　　　　　 0.65 👉雨　　　　　　　　　　　 0.49 👉雨表面上　　　　　　　　 0.44 👉雨滴　　　　　　　　　　 0.18 👉流　　　　　　　　　　　\n",
            "1: 0  0.89 👉水　　　　　　　　　　　 0.86 👉雨　　　　　　　　　　　 0.68 👉雨表面上　　　　　　　　 0.60 👉雨滴　　　　　　　　　　 0.11 👉流　　　　　　　　　　　\n",
            "1: 5  0.80 👉雨　　　　　　　　　　　 0.80 👉水　　　　　　　　　　　 0.62 👉雨表面上　　　　　　　　 0.49 👉雨滴　　　　　　　　　　 0.12 👉流　　　　　　　　　　　\n",
            "1:10  0.86 👉水　　　　　　　　　　　 0.83 👉雨　　　　　　　　　　　 0.64 👉雨表面上　　　　　　　　 0.54 👉雨滴　　　　　　　　　　 0.14 👉流　　　　　　　　　　　\n",
            "1:15  0.85 👉雨　　　　　　　　　　　 0.84 👉水　　　　　　　　　　　 0.70 👉雨表面上　　　　　　　　 0.54 👉雨滴　　　　　　　　　　 0.10 👉流　　　　　　　　　　　\n",
            "1:20  0.75 👉雨　　　　　　　　　　　 0.69 👉水　　　　　　　　　　　 0.59 👉雨表面上　　　　　　　　 0.48 👉雨滴　　　　　　　　　　 0.10 👉流　　　　　　　　　　　\n",
            "1:25  0.72 👉水　　　　　　　　　　　 0.71 👉雨　　　　　　　　　　　 0.51 👉雨表面上　　　　　　　　 0.45 👉雨滴　　　　　　　　　　 0.16 👉流　　　　　　　　　　　\n",
            "1:30  0.89 👉雨　　　　　　　　　　　 0.87 👉水　　　　　　　　　　　 0.69 👉雨表面上　　　　　　　　 0.59 👉雨滴　　　　　　　　　　 0.07 👉流　　　　　　　　　　　\n",
            "1:35  0.83 👉雨　　　　　　　　　　　 0.80 👉水　　　　　　　　　　　 0.64 👉雨表面上　　　　　　　　 0.55 👉雨滴　　　　　　　　　　 0.06 👉流　　　　　　　　　　　\n",
            "1:40  0.92 👉雨　　　　　　　　　　　 0.88 👉水　　　　　　　　　　　 0.76 👉雨表面上　　　　　　　　 0.66 👉雨滴　　　　　　　　　　 0.04 👉室外，農村或天然　　　　\n",
            "1:45  0.88 👉雨　　　　　　　　　　　 0.83 👉水　　　　　　　　　　　 0.71 👉雨表面上　　　　　　　　 0.57 👉雨滴　　　　　　　　　　 0.05 👉室外，農村或天然　　　　\n",
            "1:50  0.87 👉水　　　　　　　　　　　 0.77 👉雨　　　　　　　　　　　 0.58 👉雨表面上　　　　　　　　 0.48 👉雨滴　　　　　　　　　　 0.19 👉流　　　　　　　　　　　\n",
            "1:55  0.85 👉水　　　　　　　　　　　 0.76 👉雨　　　　　　　　　　　 0.61 👉雨表面上　　　　　　　　 0.53 👉雨滴　　　　　　　　　　 0.22 👉流　　　　　　　　　　　\n",
            "2: 0  0.89 👉水　　　　　　　　　　　 0.86 👉雨　　　　　　　　　　　 0.68 👉雨表面上　　　　　　　　 0.58 👉雨滴　　　　　　　　　　 0.10 👉流　　　　　　　　　　　\n",
            "2: 5  0.83 👉雨　　　　　　　　　　　 0.82 👉水　　　　　　　　　　　 0.66 👉雨表面上　　　　　　　　 0.58 👉雨滴　　　　　　　　　　 0.10 👉流　　　　　　　　　　　\n",
            "2:10  0.89 👉雨　　　　　　　　　　　 0.84 👉水　　　　　　　　　　　 0.73 👉雨表面上　　　　　　　　 0.61 👉雨滴　　　　　　　　　　 0.05 👉室外，農村或天然　　　　\n",
            "2:15  0.81 👉雨　　　　　　　　　　　 0.79 👉水　　　　　　　　　　　 0.61 👉雨表面上　　　　　　　　 0.49 👉雨滴　　　　　　　　　　 0.13 👉流　　　　　　　　　　　\n",
            "2:20  0.84 👉水　　　　　　　　　　　 0.73 👉雨　　　　　　　　　　　 0.57 👉雨表面上　　　　　　　　 0.50 👉雨滴　　　　　　　　　　 0.21 👉流　　　　　　　　　　　\n",
            "2:25  0.91 👉雨　　　　　　　　　　　 0.87 👉水　　　　　　　　　　　 0.72 👉雨表面上　　　　　　　　 0.65 👉雨滴　　　　　　　　　　 0.05 👉流　　　　　　　　　　　\n",
            "2:30  0.74 👉水　　　　　　　　　　　 0.74 👉雨　　　　　　　　　　　 0.55 👉雨表面上　　　　　　　　 0.49 👉雨滴　　　　　　　　　　 0.10 👉流　　　　　　　　　　　\n",
            "2:35  0.83 👉雨　　　　　　　　　　　 0.79 👉水　　　　　　　　　　　 0.61 👉雨表面上　　　　　　　　 0.52 👉雨滴　　　　　　　　　　 0.10 👉流　　　　　　　　　　　\n",
            "2:40  0.88 👉雨　　　　　　　　　　　 0.87 👉水　　　　　　　　　　　 0.70 👉雨表面上　　　　　　　　 0.59 👉雨滴　　　　　　　　　　 0.08 👉流　　　　　　　　　　　\n",
            "2:45  0.71 👉雨　　　　　　　　　　　 0.67 👉水　　　　　　　　　　　 0.55 👉雨表面上　　　　　　　　 0.44 👉雨滴　　　　　　　　　　 0.11 👉火　　　　　　　　　　　\n",
            "2:50  0.86 👉雨　　　　　　　　　　　 0.82 👉水　　　　　　　　　　　 0.68 👉雨表面上　　　　　　　　 0.58 👉雨滴　　　　　　　　　　 0.06 👉流　　　　　　　　　　　\n",
            "2:55  0.84 👉雨　　　　　　　　　　　 0.84 👉水　　　　　　　　　　　 0.66 👉雨表面上　　　　　　　　 0.56 👉雨滴　　　　　　　　　　 0.07 👉流　　　　　　　　　　　\n",
            "3: 0  0.80 👉雨　　　　　　　　　　　 0.77 👉水　　　　　　　　　　　 0.60 👉雨表面上　　　　　　　　 0.51 👉雨滴　　　　　　　　　　 0.10 👉流　　　　　　　　　　　\n",
            "3: 5  0.92 👉雨　　　　　　　　　　　 0.90 👉水　　　　　　　　　　　 0.75 👉雨表面上　　　　　　　　 0.64 👉雨滴　　　　　　　　　　 0.04 👉流　　　　　　　　　　　\n",
            "3:10  0.88 👉雨　　　　　　　　　　　 0.86 👉水　　　　　　　　　　　 0.70 👉雨表面上　　　　　　　　 0.58 👉雨滴　　　　　　　　　　 0.07 👉流　　　　　　　　　　　\n",
            "3:15  0.84 👉雨　　　　　　　　　　　 0.75 👉水　　　　　　　　　　　 0.64 👉雨表面上　　　　　　　　 0.56 👉雨滴　　　　　　　　　　 0.07 👉火　　　　　　　　　　　\n",
            "\n",
            "Severe Thunder Storm\n",
            "0: 5  1.00 👉安靜　　　　　　　　　　 0.00 👉言語　　　　　　　　　　 0.00 👉音樂　　　　　　　　　　 0.00 👉室內，小房間　　　　　　 0.00 👉旁白，獨白　　　　　　　\n",
            "0:10  0.89 👉安靜　　　　　　　　　　 0.01 👉液體　　　　　　　　　　 0.01 👉噴霧　　　　　　　　　　 0.01 👉車輛　　　　　　　　　　 0.01 👉室外，農村或天然　　　　\n",
            "0:15  0.61 👉水　　　　　　　　　　　 0.60 👉雷雨　　　　　　　　　　 0.57 👉雷　　　　　　　　　　　 0.46 👉雨　　　　　　　　　　　 0.23 👉海洋　　　　　　　　　　\n",
            "0:20  0.76 👉雷雨　　　　　　　　　　 0.73 👉雨　　　　　　　　　　　 0.72 👉雷　　　　　　　　　　　 0.69 👉水　　　　　　　　　　　 0.37 👉雨表面上　　　　　　　　\n",
            "0:25  0.44 👉水　　　　　　　　　　　 0.34 👉粉紅噪音　　　　　　　　 0.23 👉瀑布　　　　　　　　　　 0.22 👉流　　　　　　　　　　　 0.20 👉海洋　　　　　　　　　　\n",
            "0:30  0.78 👉雷雨　　　　　　　　　　 0.75 👉雷　　　　　　　　　　　 0.48 👉雨　　　　　　　　　　　 0.34 👉水　　　　　　　　　　　 0.26 👉雨表面上　　　　　　　　\n",
            "0:35  0.99 👉雷雨　　　　　　　　　　 0.98 👉雷　　　　　　　　　　　 0.64 👉雨　　　　　　　　　　　 0.44 👉水　　　　　　　　　　　 0.17 👉雨表面上　　　　　　　　\n",
            "0:40  0.65 👉雷雨　　　　　　　　　　 0.62 👉雷　　　　　　　　　　　 0.56 👉雨　　　　　　　　　　　 0.43 👉水　　　　　　　　　　　 0.27 👉雨表面上　　　　　　　　\n",
            "0:45  0.55 👉安靜　　　　　　　　　　 0.06 👉室外，農村或天然　　　　 0.06 👉水　　　　　　　　　　　 0.04 👉車輛　　　　　　　　　　 0.04 👉瀑布　　　　　　　　　　\n",
            "0:50  0.34 👉雷雨　　　　　　　　　　 0.31 👉雷　　　　　　　　　　　 0.22 👉雨　　　　　　　　　　　 0.21 👉水　　　　　　　　　　　 0.14 👉雨表面上　　　　　　　　\n",
            "0:55  0.90 👉雷雨　　　　　　　　　　 0.87 👉雷　　　　　　　　　　　 0.71 👉雨　　　　　　　　　　　 0.58 👉水　　　　　　　　　　　 0.32 👉雨表面上　　　　　　　　\n",
            "1: 0  0.99 👉雷雨　　　　　　　　　　 0.98 👉雷　　　　　　　　　　　 0.69 👉雨　　　　　　　　　　　 0.50 👉水　　　　　　　　　　　 0.14 👉雨表面上　　　　　　　　\n",
            "1: 5  0.99 👉雷雨　　　　　　　　　　 0.97 👉雷　　　　　　　　　　　 0.61 👉雨　　　　　　　　　　　 0.43 👉水　　　　　　　　　　　 0.11 👉雨表面上　　　　　　　　\n",
            "1:10  0.91 👉雷雨　　　　　　　　　　 0.84 👉雷　　　　　　　　　　　 0.60 👉雨　　　　　　　　　　　 0.40 👉水　　　　　　　　　　　 0.13 👉雨表面上　　　　　　　　\n",
            "1:15  0.52 👉粉紅噪音　　　　　　　　 0.40 👉噪聲　　　　　　　　　　 0.31 👉水　　　　　　　　　　　 0.30 👉雨　　　　　　　　　　　 0.21 👉瀑布　　　　　　　　　　\n",
            "1:20  0.26 👉粉紅噪音　　　　　　　　 0.20 👉噪聲　　　　　　　　　　 0.16 👉水　　　　　　　　　　　 0.15 👉言語　　　　　　　　　　 0.14 👉瀑布　　　　　　　　　　\n",
            "1:25  0.35 👉粉紅噪音　　　　　　　　 0.29 👉噪聲　　　　　　　　　　 0.17 👉水　　　　　　　　　　　 0.13 👉瀑布　　　　　　　　　　 0.12 👉白噪音　　　　　　　　　\n",
            "1:30  0.99 👉雷雨　　　　　　　　　　 0.97 👉雷　　　　　　　　　　　 0.71 👉雨　　　　　　　　　　　 0.61 👉水　　　　　　　　　　　 0.13 👉雨表面上　　　　　　　　\n",
            "1:35  0.81 👉雷雨　　　　　　　　　　 0.78 👉雷　　　　　　　　　　　 0.66 👉雨　　　　　　　　　　　 0.54 👉水　　　　　　　　　　　 0.25 👉雨表面上　　　　　　　　\n",
            "1:40  0.50 👉雷雨　　　　　　　　　　 0.45 👉雷　　　　　　　　　　　 0.36 👉雨　　　　　　　　　　　 0.28 👉水　　　　　　　　　　　 0.16 👉白噪音　　　　　　　　　\n",
            "1:45  0.34 👉雨　　　　　　　　　　　 0.32 👉水　　　　　　　　　　　 0.25 👉雷雨　　　　　　　　　　 0.22 👉雷　　　　　　　　　　　 0.19 👉雨滴　　　　　　　　　　\n"
          ],
          "name": "stdout"
        }
      ]
    }
  ]
}