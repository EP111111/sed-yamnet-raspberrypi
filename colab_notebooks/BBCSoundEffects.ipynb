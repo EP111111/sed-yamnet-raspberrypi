{
  "nbformat": 4,
  "nbformat_minor": 0,
  "metadata": {
    "colab": {
      "name": "BBCSoundEffects.ipynb",
      "provenance": [],
      "collapsed_sections": [],
      "include_colab_link": true
    },
    "kernelspec": {
      "name": "python3",
      "display_name": "Python 3"
    }
  },
  "cells": [
    {
      "cell_type": "markdown",
      "metadata": {
        "id": "view-in-github",
        "colab_type": "text"
      },
      "source": [
        "<a href=\"https://colab.research.google.com/github/x1001000/sed-yamnet-raspberrypi/blob/main/colab_notebooks/BBCSoundEffects.ipynb\" target=\"_parent\"><img src=\"https://colab.research.google.com/assets/colab-badge.svg\" alt=\"Open In Colab\"/></a>"
      ]
    },
    {
      "cell_type": "code",
      "metadata": {
        "id": "B8rPsaHF6OWE",
        "colab": {
          "base_uri": "https://localhost:8080/",
          "height": 34
        },
        "outputId": "cfe97eeb-5581-4b68-825b-983ec0888fe3"
      },
      "source": [
        "from google.colab import drive\n",
        "drive.mount('/content/drive')"
      ],
      "execution_count": null,
      "outputs": [
        {
          "output_type": "stream",
          "text": [
            "Mounted at /content/drive\n"
          ],
          "name": "stdout"
        }
      ]
    },
    {
      "cell_type": "code",
      "metadata": {
        "id": "RroLvL6dpCQp",
        "colab": {
          "base_uri": "https://localhost:8080/",
          "height": 204
        },
        "outputId": "d1e3df74-aa36-4b4b-eeb0-b350c3d8408d"
      },
      "source": [
        "!wget http://bbcsfx.acropolis.org.uk/assets/BBCSoundEffects.csv"
      ],
      "execution_count": null,
      "outputs": [
        {
          "output_type": "stream",
          "text": [
            "--2020-09-28 07:49:19--  http://bbcsfx.acropolis.org.uk/assets/BBCSoundEffects.csv\n",
            "Resolving bbcsfx.acropolis.org.uk (bbcsfx.acropolis.org.uk)... 52.49.70.95, 108.128.107.45, 34.246.148.172\n",
            "Connecting to bbcsfx.acropolis.org.uk (bbcsfx.acropolis.org.uk)|52.49.70.95|:80... connected.\n",
            "HTTP request sent, awaiting response... 200 OK\n",
            "Length: 2078616 (2.0M) [text/csv]\n",
            "Saving to: ‘BBCSoundEffects.csv’\n",
            "\n",
            "BBCSoundEffects.csv 100%[===================>]   1.98M  2.87MB/s    in 0.7s    \n",
            "\n",
            "2020-09-28 07:49:20 (2.87 MB/s) - ‘BBCSoundEffects.csv’ saved [2078616/2078616]\n",
            "\n"
          ],
          "name": "stdout"
        }
      ]
    },
    {
      "cell_type": "code",
      "metadata": {
        "id": "4QVCg8U4_TEe"
      },
      "source": [
        "ls = !ls ./drive/My\\ Drive/BBC\\ Sound\\ Effects -l"
      ],
      "execution_count": null,
      "outputs": []
    },
    {
      "cell_type": "code",
      "metadata": {
        "id": "VRGFZl-4MiEP"
      },
      "source": [
        "downloaded = []\n",
        "for l in ls[1:]:\n",
        "    downloaded.append(l.split()[-1])"
      ],
      "execution_count": null,
      "outputs": []
    },
    {
      "cell_type": "code",
      "metadata": {
        "id": "5abzM-fCYiKj"
      },
      "source": [
        "import csv\n",
        "with open('BBCSoundEffects.csv') as csvfile:\n",
        "    reader = csv.reader(csvfile)\n",
        "    next(reader)\n",
        "    for row in reader:\n",
        "        if row[0] not in downloaded:\n",
        "            !cd drive/My\\ Drive/BBC\\ Sound\\ Effects && wget http://bbcsfx.acropolis.org.uk/assets/{row[0]}"
      ],
      "execution_count": null,
      "outputs": []
    },
    {
      "cell_type": "code",
      "metadata": {
        "id": "ZUifdwBLyzkn",
        "colab": {
          "base_uri": "https://localhost:8080/",
          "height": 34
        },
        "outputId": "f0056f9a-f07c-478c-8c47-8c20d06f0814"
      },
      "source": [
        "!du ./drive/My\\ Drive/BBC\\ Sound\\ Effects -h"
      ],
      "execution_count": null,
      "outputs": [
        {
          "output_type": "stream",
          "text": [
            "284G\t./drive/My Drive/BBC Sound Effects\n"
          ],
          "name": "stdout"
        }
      ]
    }
  ]
}